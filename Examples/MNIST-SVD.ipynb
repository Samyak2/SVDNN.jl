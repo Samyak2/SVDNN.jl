{
 "cells": [
  {
   "cell_type": "markdown",
   "metadata": {},
   "source": [
    "# Accelerating training of a DNN using SVD - MNIST Example"
   ]
  },
  {
   "cell_type": "markdown",
   "metadata": {},
   "source": [
    "In this example, we test SVD-DNN on the MNIST digit classification dataset (see the paper for more details).\n",
    "\n",
    "We also compare the affect of changing some hyperparameters in the SVD-DNN model."
   ]
  },
  {
   "cell_type": "code",
   "execution_count": 64,
   "metadata": {
    "ExecuteTime": {
     "end_time": "2020-05-28T22:37:22.278000+05:30",
     "start_time": "2020-05-28T17:07:22.255Z"
    }
   },
   "outputs": [],
   "source": [
    "using MLDatasets # used to import the MNIST dataset\n",
    "using LaTeXStrings # used to draw symbols in plots\n",
    "\n",
    "using LinearAlgebra\n",
    "\n",
    "using Flux\n",
    "using Flux: onehotbatch, onecold, @epochs\n",
    "using Flux.Data: DataLoader\n",
    "using Flux.Optimise\n",
    "using Zygote: Params\n",
    "\n",
    "using TimerOutputs\n",
    "\n",
    "using Plots"
   ]
  },
  {
   "cell_type": "code",
   "execution_count": 5,
   "metadata": {
    "ExecuteTime": {
     "end_time": "2020-05-28T22:14:14.791000+05:30",
     "start_time": "2020-05-28T16:42:26.097Z"
    }
   },
   "outputs": [
    {
     "name": "stderr",
     "output_type": "stream",
     "text": [
      "WARNING: redefining constant to\n"
     ]
    },
    {
     "data": {
      "text/plain": [
       "train_epochs_svd! (generic function with 3 methods)"
      ]
     },
     "execution_count": 5,
     "metadata": {},
     "output_type": "execute_result"
    }
   ],
   "source": [
    "include(\"../SVDNN.jl\")\n",
    "include(\"../SVDNN_utils.jl\")"
   ]
  },
  {
   "cell_type": "code",
   "execution_count": 22,
   "metadata": {
    "ExecuteTime": {
     "end_time": "2020-05-28T22:19:30.853000+05:30",
     "start_time": "2020-05-28T16:49:30.847Z"
    }
   },
   "outputs": [
    {
     "data": {
      "text/plain": [
       "\u001b[0m\u001b[1m ──────────────────────────────────────────────────────────────────\u001b[22m\n",
       "\u001b[0m\u001b[1m                   \u001b[22m        Time                   Allocations      \n",
       "                   ──────────────────────   ───────────────────────\n",
       " Tot / % measured:      198μs / 0.00%           2.67KiB / 0.00%    \n",
       "\n",
       " Section   ncalls     time   %tot     avg     alloc   %tot      avg\n",
       " ──────────────────────────────────────────────────────────────────\n",
       "\u001b[0m\u001b[1m ──────────────────────────────────────────────────────────────────\u001b[22m"
      ]
     },
     "execution_count": 22,
     "metadata": {},
     "output_type": "execute_result"
    }
   ],
   "source": [
    "reset_timer!(to)"
   ]
  },
  {
   "cell_type": "markdown",
   "metadata": {},
   "source": [
    "## Load data"
   ]
  },
  {
   "cell_type": "code",
   "execution_count": 6,
   "metadata": {
    "ExecuteTime": {
     "end_time": "2020-05-28T22:15:34.841000+05:30",
     "start_time": "2020-05-28T16:45:33.636Z"
    }
   },
   "outputs": [
    {
     "data": {
      "text/plain": [
       "0.0003"
      ]
     },
     "execution_count": 6,
     "metadata": {},
     "output_type": "execute_result"
    }
   ],
   "source": [
    "batchsize = 2048\n",
    "η = 3e-4\n",
    "# epochs = 10"
   ]
  },
  {
   "cell_type": "code",
   "execution_count": 7,
   "metadata": {
    "ExecuteTime": {
     "end_time": "2020-05-28T22:15:35.433000+05:30",
     "start_time": "2020-05-28T16:45:33.971Z"
    }
   },
   "outputs": [
    {
     "data": {
      "text/plain": [
       "10"
      ]
     },
     "execution_count": 7,
     "metadata": {},
     "output_type": "execute_result"
    }
   ],
   "source": [
    "imgsize = (28,28,1)\n",
    "nclasses=10"
   ]
  },
  {
   "cell_type": "code",
   "execution_count": 10,
   "metadata": {
    "ExecuteTime": {
     "end_time": "2020-05-28T22:16:11.803000+05:30",
     "start_time": "2020-05-28T16:46:09.335Z"
    }
   },
   "outputs": [
    {
     "data": {
      "text/plain": [
       "DataLoader((Float32[0.0 0.0 … 0.0 0.0; 0.0 0.0 … 0.0 0.0; … ; 0.0 0.0 … 0.0 0.0; 0.0 0.0 … 0.0 0.0], Bool[0 0 … 0 0; 0 0 … 0 0; … ; 0 0 … 0 0; 0 0 … 0 0]), 2048, 10000, true, 10000, [1, 2, 3, 4, 5, 6, 7, 8, 9, 10  …  9991, 9992, 9993, 9994, 9995, 9996, 9997, 9998, 9999, 10000], false)"
      ]
     },
     "execution_count": 10,
     "metadata": {},
     "output_type": "execute_result"
    }
   ],
   "source": [
    "# Loading Dataset\n",
    "xtrain, ytrain = MLDatasets.MNIST.traindata(Float32)\n",
    "xtest, ytest = MLDatasets.MNIST.testdata(Float32)\n",
    "\n",
    "# Reshape Data for flatten the each image into linear array\n",
    "xtrain = Flux.flatten(xtrain)\n",
    "xtest = Flux.flatten(xtest)\n",
    "\n",
    "# One-hot-encode the labels\n",
    "ytrain, ytest = onehotbatch(ytrain, 0:9), onehotbatch(ytest, 0:9)\n",
    "\n",
    "# Batching\n",
    "train_data = DataLoader(xtrain, ytrain, batchsize=batchsize, shuffle=true)\n",
    "test_data = DataLoader(xtest, ytest, batchsize=batchsize)"
   ]
  },
  {
   "cell_type": "code",
   "execution_count": 11,
   "metadata": {
    "ExecuteTime": {
     "end_time": "2020-05-28T22:16:12.510000+05:30",
     "start_time": "2020-05-28T16:46:12.504Z"
    }
   },
   "outputs": [
    {
     "data": {
      "text/plain": [
       "(784, 60000)"
      ]
     },
     "execution_count": 11,
     "metadata": {},
     "output_type": "execute_result"
    }
   ],
   "source": [
    "size(xtrain)"
   ]
  },
  {
   "cell_type": "markdown",
   "metadata": {},
   "source": [
    "## Build Model"
   ]
  },
  {
   "cell_type": "code",
   "execution_count": 70,
   "metadata": {
    "ExecuteTime": {
     "end_time": "2020-05-28T22:42:00.332000+05:30",
     "start_time": "2020-05-28T17:12:00.240Z"
    }
   },
   "outputs": [
    {
     "data": {
      "text/plain": [
       "0-element Array{Any,1}"
      ]
     },
     "execution_count": 70,
     "metadata": {},
     "output_type": "execute_result"
    }
   ],
   "source": [
    "model = Chain(\n",
    "    Dense(prod(imgsize), 512, relu),\n",
    "    Dense(512, 256, relu),\n",
    "    Dense(256, nclasses))\n",
    "\n",
    "opt = ADAM(η)\n",
    "opt2 = ADAM(η)\n",
    "# opt = Descent(η)\n",
    "\n",
    "loss(x, y, model) = Flux.logitcrossentropy(model(x), y)\n",
    "\n",
    "costs = []\n",
    "accuracies = []\n",
    "test_accuracies = []"
   ]
  },
  {
   "cell_type": "code",
   "execution_count": 13,
   "metadata": {
    "ExecuteTime": {
     "end_time": "2020-05-28T22:16:16.630000+05:30",
     "start_time": "2020-05-28T16:46:16.468Z"
    }
   },
   "outputs": [
    {
     "data": {
      "text/plain": [
       "cost_function (generic function with 1 method)"
      ]
     },
     "execution_count": 13,
     "metadata": {},
     "output_type": "execute_result"
    }
   ],
   "source": [
    "function cost_function(dataloader, loss, model)\n",
    "    l = 0f0\n",
    "    for (x, y) in dataloader\n",
    "        l += loss(x, y, model)\n",
    "    end\n",
    "    l/length(dataloader)\n",
    "end"
   ]
  },
  {
   "cell_type": "code",
   "execution_count": 14,
   "metadata": {
    "ExecuteTime": {
     "end_time": "2020-05-28T22:16:19.415000+05:30",
     "start_time": "2020-05-28T16:46:19.280Z"
    }
   },
   "outputs": [
    {
     "data": {
      "text/plain": [
       "accuracy (generic function with 1 method)"
      ]
     },
     "execution_count": 14,
     "metadata": {},
     "output_type": "execute_result"
    }
   ],
   "source": [
    "function accuracy(data_loader, model)\n",
    "    acc = 0\n",
    "    for (x,y) in data_loader\n",
    "        acc += sum(onecold(cpu(model(x))) .== onecold(cpu(y)))*1 / size(x,2)\n",
    "    end\n",
    "    acc/length(data_loader)\n",
    "end"
   ]
  },
  {
   "cell_type": "markdown",
   "metadata": {},
   "source": [
    "## Train normally"
   ]
  },
  {
   "cell_type": "code",
   "execution_count": 24,
   "metadata": {
    "ExecuteTime": {
     "end_time": "2020-05-28T22:20:42.090000+05:30",
     "start_time": "2020-05-28T16:49:48.022Z"
    }
   },
   "outputs": [
    {
     "name": "stdout",
     "output_type": "stream",
     "text": [
      "Cost at epoch 1 is 0.51514375. Accuracy 0.871325897752193. Test accuracy 0.8804912195796459\n",
      "Cost at epoch 2 is 0.30374622. Accuracy 0.9165981359649124. Test accuracy 0.9193419870022124\n",
      "Cost at epoch 3 is 0.24540286. Accuracy 0.9318205180921052. Test accuracy 0.9347967367256637\n",
      "Cost at epoch 4 is 0.20819518. Accuracy 0.9419330797697368. Test accuracy 0.9437283946349557\n",
      "Cost at epoch 5 is 0.18088348. Accuracy 0.9494346217105264. Test accuracy 0.9466840085730089\n",
      "Cost at epoch 6 is 0.16012439. Accuracy 0.9563887746710527. Test accuracy 0.9547367602323009\n",
      "Cost at epoch 7 is 0.1428251. Accuracy 0.9603601288377193. Test accuracy 0.9571193998893806\n",
      "Cost at epoch 8 is 0.12751986. Accuracy 0.9650090803179824. Test accuracy 0.9606021847345133\n",
      "Cost at epoch 9 is 0.11475808. Accuracy 0.9686000890899124. Test accuracy 0.9629519842367257\n",
      "Cost at epoch 10 is 0.10470912. Accuracy 0.9716017338267543. Test accuracy 0.9659075981747787\n"
     ]
    }
   ],
   "source": [
    "@timeit to \"Full training\" train_epochs!(loss, train_data, test_data, opt, model, 10)"
   ]
  },
  {
   "cell_type": "code",
   "execution_count": 25,
   "metadata": {
    "ExecuteTime": {
     "end_time": "2020-05-28T22:20:42.843000+05:30",
     "start_time": "2020-05-28T16:49:48.933Z"
    }
   },
   "outputs": [
    {
     "name": "stdout",
     "output_type": "stream",
     "text": [
      "\u001b[0m\u001b[1m ──────────────────────────────────────────────────────────────────────────────\u001b[22m\n",
      "\u001b[0m\u001b[1m                               \u001b[22m        Time                   Allocations      \n",
      "                               ──────────────────────   ───────────────────────\n",
      "       Tot / % measured:            71.5s / 75.6%           25.8GiB / 100%     \n",
      "\n",
      " Section               ncalls     time   %tot     avg     alloc   %tot      avg\n",
      " ──────────────────────────────────────────────────────────────────────────────\n",
      " Full training              1    54.1s   100%   54.1s   25.8GiB  100%   25.8GiB\n",
      "   Train one step          10    31.7s  58.6%   3.17s   14.2GiB  55.1%  1.42GiB\n",
      "     Calculate grad...    300    23.2s  42.8%  77.2ms   11.2GiB  43.6%  38.4MiB\n",
      "     Update params        300    6.53s  12.1%  21.8ms   1.20GiB  4.65%  4.10MiB\n",
      "     Get params            10    903μs  0.00%  90.3μs   13.0KiB  0.00%  1.30KiB\n",
      "   Calculate accuracy      10    10.8s  20.0%   1.08s   5.38GiB  20.8%   551MiB\n",
      "   Calculate cost          10    9.61s  17.8%   961ms   5.31GiB  20.6%   544MiB\n",
      "   Calculate test a...     10    1.88s  3.47%   188ms    918MiB  3.47%  91.8MiB\n",
      "\u001b[0m\u001b[1m ──────────────────────────────────────────────────────────────────────────────\u001b[22m"
     ]
    }
   ],
   "source": [
    "print_timer(to)"
   ]
  },
  {
   "cell_type": "code",
   "execution_count": 26,
   "metadata": {
    "ExecuteTime": {
     "end_time": "2020-05-28T22:21:09.820000+05:30",
     "start_time": "2020-05-28T16:49:49.929Z"
    }
   },
   "outputs": [
    {
     "data": {
      "image/svg+xml": [
       "<?xml version=\"1.0\" encoding=\"utf-8\"?>\n",
       "<svg xmlns=\"http://www.w3.org/2000/svg\" xmlns:xlink=\"http://www.w3.org/1999/xlink\" width=\"600\" height=\"400\" viewBox=\"0 0 2400 1600\">\n",
       "<defs>\n",
       "  <clipPath id=\"clip5900\">\n",
       "    <rect x=\"0\" y=\"0\" width=\"2400\" height=\"1600\"/>\n",
       "  </clipPath>\n",
       "</defs>\n",
       "<path clip-path=\"url(#clip5900)\" d=\"\n",
       "M0 1600 L2400 1600 L2400 0 L0 0  Z\n",
       "  \" fill=\"#ffffff\" fill-rule=\"evenodd\" fill-opacity=\"1\"/>\n",
       "<defs>\n",
       "  <clipPath id=\"clip5901\">\n",
       "    <rect x=\"480\" y=\"0\" width=\"1681\" height=\"1600\"/>\n",
       "  </clipPath>\n",
       "</defs>\n",
       "<path clip-path=\"url(#clip5900)\" d=\"\n",
       "M153.898 1425.62 L2352.76 1425.62 L2352.76 47.2441 L153.898 47.2441  Z\n",
       "  \" fill=\"#ffffff\" fill-rule=\"evenodd\" fill-opacity=\"1\"/>\n",
       "<defs>\n",
       "  <clipPath id=\"clip5902\">\n",
       "    <rect x=\"153\" y=\"47\" width=\"2200\" height=\"1379\"/>\n",
       "  </clipPath>\n",
       "</defs>\n",
       "<polyline clip-path=\"url(#clip5902)\" style=\"stroke:#000000; stroke-width:2; stroke-opacity:0.1; fill:none\" points=\"\n",
       "  446.618,1425.62 446.618,47.2441 \n",
       "  \"/>\n",
       "<polyline clip-path=\"url(#clip5902)\" style=\"stroke:#000000; stroke-width:2; stroke-opacity:0.1; fill:none\" points=\"\n",
       "  907.595,1425.62 907.595,47.2441 \n",
       "  \"/>\n",
       "<polyline clip-path=\"url(#clip5902)\" style=\"stroke:#000000; stroke-width:2; stroke-opacity:0.1; fill:none\" points=\"\n",
       "  1368.57,1425.62 1368.57,47.2441 \n",
       "  \"/>\n",
       "<polyline clip-path=\"url(#clip5902)\" style=\"stroke:#000000; stroke-width:2; stroke-opacity:0.1; fill:none\" points=\"\n",
       "  1829.55,1425.62 1829.55,47.2441 \n",
       "  \"/>\n",
       "<polyline clip-path=\"url(#clip5902)\" style=\"stroke:#000000; stroke-width:2; stroke-opacity:0.1; fill:none\" points=\"\n",
       "  2290.52,1425.62 2290.52,47.2441 \n",
       "  \"/>\n",
       "<polyline clip-path=\"url(#clip5902)\" style=\"stroke:#000000; stroke-width:2; stroke-opacity:0.1; fill:none\" points=\"\n",
       "  153.898,1243.67 2352.76,1243.67 \n",
       "  \"/>\n",
       "<polyline clip-path=\"url(#clip5902)\" style=\"stroke:#000000; stroke-width:2; stroke-opacity:0.1; fill:none\" points=\"\n",
       "  153.898,943.667 2352.76,943.667 \n",
       "  \"/>\n",
       "<polyline clip-path=\"url(#clip5902)\" style=\"stroke:#000000; stroke-width:2; stroke-opacity:0.1; fill:none\" points=\"\n",
       "  153.898,643.663 2352.76,643.663 \n",
       "  \"/>\n",
       "<polyline clip-path=\"url(#clip5902)\" style=\"stroke:#000000; stroke-width:2; stroke-opacity:0.1; fill:none\" points=\"\n",
       "  153.898,343.66 2352.76,343.66 \n",
       "  \"/>\n",
       "<polyline clip-path=\"url(#clip5900)\" style=\"stroke:#000000; stroke-width:4; stroke-opacity:1; fill:none\" points=\"\n",
       "  153.898,1425.62 2352.76,1425.62 \n",
       "  \"/>\n",
       "<polyline clip-path=\"url(#clip5900)\" style=\"stroke:#000000; stroke-width:4; stroke-opacity:1; fill:none\" points=\"\n",
       "  153.898,1425.62 153.898,47.2441 \n",
       "  \"/>\n",
       "<polyline clip-path=\"url(#clip5900)\" style=\"stroke:#000000; stroke-width:4; stroke-opacity:1; fill:none\" points=\"\n",
       "  446.618,1425.62 446.618,1409.08 \n",
       "  \"/>\n",
       "<polyline clip-path=\"url(#clip5900)\" style=\"stroke:#000000; stroke-width:4; stroke-opacity:1; fill:none\" points=\"\n",
       "  907.595,1425.62 907.595,1409.08 \n",
       "  \"/>\n",
       "<polyline clip-path=\"url(#clip5900)\" style=\"stroke:#000000; stroke-width:4; stroke-opacity:1; fill:none\" points=\"\n",
       "  1368.57,1425.62 1368.57,1409.08 \n",
       "  \"/>\n",
       "<polyline clip-path=\"url(#clip5900)\" style=\"stroke:#000000; stroke-width:4; stroke-opacity:1; fill:none\" points=\"\n",
       "  1829.55,1425.62 1829.55,1409.08 \n",
       "  \"/>\n",
       "<polyline clip-path=\"url(#clip5900)\" style=\"stroke:#000000; stroke-width:4; stroke-opacity:1; fill:none\" points=\"\n",
       "  2290.52,1425.62 2290.52,1409.08 \n",
       "  \"/>\n",
       "<polyline clip-path=\"url(#clip5900)\" style=\"stroke:#000000; stroke-width:4; stroke-opacity:1; fill:none\" points=\"\n",
       "  153.898,1243.67 180.284,1243.67 \n",
       "  \"/>\n",
       "<polyline clip-path=\"url(#clip5900)\" style=\"stroke:#000000; stroke-width:4; stroke-opacity:1; fill:none\" points=\"\n",
       "  153.898,943.667 180.284,943.667 \n",
       "  \"/>\n",
       "<polyline clip-path=\"url(#clip5900)\" style=\"stroke:#000000; stroke-width:4; stroke-opacity:1; fill:none\" points=\"\n",
       "  153.898,643.663 180.284,643.663 \n",
       "  \"/>\n",
       "<polyline clip-path=\"url(#clip5900)\" style=\"stroke:#000000; stroke-width:4; stroke-opacity:1; fill:none\" points=\"\n",
       "  153.898,343.66 180.284,343.66 \n",
       "  \"/>\n",
       "<g clip-path=\"url(#clip5900)\">\n",
       "<text style=\"fill:#000000; fill-opacity:1; font-family:Arial,Helvetica Neue,Helvetica,sans-serif; font-size:48px; text-anchor:middle;\" transform=\"rotate(0, 446.618, 1479.62)\" x=\"446.618\" y=\"1479.62\">2</text>\n",
       "</g>\n",
       "<g clip-path=\"url(#clip5900)\">\n",
       "<text style=\"fill:#000000; fill-opacity:1; font-family:Arial,Helvetica Neue,Helvetica,sans-serif; font-size:48px; text-anchor:middle;\" transform=\"rotate(0, 907.595, 1479.62)\" x=\"907.595\" y=\"1479.62\">4</text>\n",
       "</g>\n",
       "<g clip-path=\"url(#clip5900)\">\n",
       "<text style=\"fill:#000000; fill-opacity:1; font-family:Arial,Helvetica Neue,Helvetica,sans-serif; font-size:48px; text-anchor:middle;\" transform=\"rotate(0, 1368.57, 1479.62)\" x=\"1368.57\" y=\"1479.62\">6</text>\n",
       "</g>\n",
       "<g clip-path=\"url(#clip5900)\">\n",
       "<text style=\"fill:#000000; fill-opacity:1; font-family:Arial,Helvetica Neue,Helvetica,sans-serif; font-size:48px; text-anchor:middle;\" transform=\"rotate(0, 1829.55, 1479.62)\" x=\"1829.55\" y=\"1479.62\">8</text>\n",
       "</g>\n",
       "<g clip-path=\"url(#clip5900)\">\n",
       "<text style=\"fill:#000000; fill-opacity:1; font-family:Arial,Helvetica Neue,Helvetica,sans-serif; font-size:48px; text-anchor:middle;\" transform=\"rotate(0, 2290.52, 1479.62)\" x=\"2290.52\" y=\"1479.62\">10</text>\n",
       "</g>\n",
       "<g clip-path=\"url(#clip5900)\">\n",
       "<text style=\"fill:#000000; fill-opacity:1; font-family:Arial,Helvetica Neue,Helvetica,sans-serif; font-size:48px; text-anchor:end;\" transform=\"rotate(0, 129.898, 1261.17)\" x=\"129.898\" y=\"1261.17\">0.2</text>\n",
       "</g>\n",
       "<g clip-path=\"url(#clip5900)\">\n",
       "<text style=\"fill:#000000; fill-opacity:1; font-family:Arial,Helvetica Neue,Helvetica,sans-serif; font-size:48px; text-anchor:end;\" transform=\"rotate(0, 129.898, 961.167)\" x=\"129.898\" y=\"961.167\">0.4</text>\n",
       "</g>\n",
       "<g clip-path=\"url(#clip5900)\">\n",
       "<text style=\"fill:#000000; fill-opacity:1; font-family:Arial,Helvetica Neue,Helvetica,sans-serif; font-size:48px; text-anchor:end;\" transform=\"rotate(0, 129.898, 661.163)\" x=\"129.898\" y=\"661.163\">0.6</text>\n",
       "</g>\n",
       "<g clip-path=\"url(#clip5900)\">\n",
       "<text style=\"fill:#000000; fill-opacity:1; font-family:Arial,Helvetica Neue,Helvetica,sans-serif; font-size:48px; text-anchor:end;\" transform=\"rotate(0, 129.898, 361.16)\" x=\"129.898\" y=\"361.16\">0.8</text>\n",
       "</g>\n",
       "<g clip-path=\"url(#clip5900)\">\n",
       "<text style=\"fill:#000000; fill-opacity:1; font-family:Arial,Helvetica Neue,Helvetica,sans-serif; font-size:66px; text-anchor:middle;\" transform=\"rotate(0, 1253.33, 1559.48)\" x=\"1253.33\" y=\"1559.48\">Epochs</text>\n",
       "</g>\n",
       "<polyline clip-path=\"url(#clip5902)\" style=\"stroke:#009af9; stroke-width:4; stroke-opacity:1; fill:none\" points=\"\n",
       "  216.13,770.949 446.618,1088.05 677.106,1175.57 907.595,1231.38 1138.08,1272.35 1368.57,1303.48 1599.06,1329.43 1829.55,1352.39 2060.04,1371.53 2290.52,1386.61 \n",
       "  \n",
       "  \"/>\n",
       "<polyline clip-path=\"url(#clip5902)\" style=\"stroke:#e26f46; stroke-width:4; stroke-opacity:1; fill:none\" points=\"\n",
       "  216.13,236.67 446.618,168.761 677.106,145.927 907.595,130.758 1138.08,119.506 1368.57,109.074 1599.06,103.117 1829.55,96.1438 2060.04,90.7572 2290.52,86.2547 \n",
       "  \n",
       "  \"/>\n",
       "<polyline clip-path=\"url(#clip5902)\" style=\"stroke:#3da44d; stroke-width:4; stroke-opacity:1; fill:none\" points=\"\n",
       "  216.13,222.922 446.618,164.645 677.106,141.463 907.595,128.065 1138.08,123.632 1368.57,111.552 1599.06,107.978 1829.55,102.754 2060.04,99.2295 2290.52,94.796 \n",
       "  \n",
       "  \"/>\n",
       "<path clip-path=\"url(#clip5900)\" d=\"\n",
       "M1735.83 372.684 L2280.76 372.684 L2280.76 130.764 L1735.83 130.764  Z\n",
       "  \" fill=\"#ffffff\" fill-rule=\"evenodd\" fill-opacity=\"1\"/>\n",
       "<polyline clip-path=\"url(#clip5900)\" style=\"stroke:#000000; stroke-width:4; stroke-opacity:1; fill:none\" points=\"\n",
       "  1735.83,372.684 2280.76,372.684 2280.76,130.764 1735.83,130.764 1735.83,372.684 \n",
       "  \"/>\n",
       "<polyline clip-path=\"url(#clip5900)\" style=\"stroke:#009af9; stroke-width:4; stroke-opacity:1; fill:none\" points=\"\n",
       "  1759.83,191.244 1903.83,191.244 \n",
       "  \"/>\n",
       "<g clip-path=\"url(#clip5900)\">\n",
       "<text style=\"fill:#000000; fill-opacity:1; font-family:Arial,Helvetica Neue,Helvetica,sans-serif; font-size:48px; text-anchor:start;\" transform=\"rotate(0, 1927.83, 208.744)\" x=\"1927.83\" y=\"208.744\">Cost</text>\n",
       "</g>\n",
       "<polyline clip-path=\"url(#clip5900)\" style=\"stroke:#e26f46; stroke-width:4; stroke-opacity:1; fill:none\" points=\"\n",
       "  1759.83,251.724 1903.83,251.724 \n",
       "  \"/>\n",
       "<g clip-path=\"url(#clip5900)\">\n",
       "<text style=\"fill:#000000; fill-opacity:1; font-family:Arial,Helvetica Neue,Helvetica,sans-serif; font-size:48px; text-anchor:start;\" transform=\"rotate(0, 1927.83, 269.224)\" x=\"1927.83\" y=\"269.224\">Accuracy</text>\n",
       "</g>\n",
       "<polyline clip-path=\"url(#clip5900)\" style=\"stroke:#3da44d; stroke-width:4; stroke-opacity:1; fill:none\" points=\"\n",
       "  1759.83,312.204 1903.83,312.204 \n",
       "  \"/>\n",
       "<g clip-path=\"url(#clip5900)\">\n",
       "<text style=\"fill:#000000; fill-opacity:1; font-family:Arial,Helvetica Neue,Helvetica,sans-serif; font-size:48px; text-anchor:start;\" transform=\"rotate(0, 1927.83, 329.704)\" x=\"1927.83\" y=\"329.704\">Test Accuracy</text>\n",
       "</g>\n",
       "</svg>\n"
      ]
     },
     "execution_count": 26,
     "metadata": {},
     "output_type": "execute_result"
    }
   ],
   "source": [
    "plot(costs, label = \"Cost\")\n",
    "plot!(accuracies, label = \"Accuracy\")\n",
    "plot!(test_accuracies, label = \"Test Accuracy\")\n",
    "xlabel!(\"Epochs\")\n",
    "# vline!([10], label = \"SVD start\", legend = :right)"
   ]
  },
  {
   "cell_type": "markdown",
   "metadata": {},
   "source": [
    "## Train using SVDNN\n",
    "\n",
    "Initialize the model again before executing"
   ]
  },
  {
   "cell_type": "code",
   "execution_count": 27,
   "metadata": {
    "ExecuteTime": {
     "end_time": "2020-05-28T22:21:23.544000+05:30",
     "start_time": "2020-05-28T16:51:23.416Z"
    }
   },
   "outputs": [
    {
     "data": {
      "text/plain": [
       "show_maximum_l_values (generic function with 1 method)"
      ]
     },
     "execution_count": 27,
     "metadata": {},
     "output_type": "execute_result"
    }
   ],
   "source": [
    "function show_maximum_l_values(model)\n",
    "    maximum_l_values = Integer[]\n",
    "    for layer in model\n",
    "        m, n = size(layer.W)\n",
    "        push!(maximum_l_values, floor((m*n)/(m+n)))\n",
    "    end\n",
    "    return maximum_l_values\n",
    "end"
   ]
  },
  {
   "cell_type": "code",
   "execution_count": 28,
   "metadata": {
    "ExecuteTime": {
     "end_time": "2020-05-28T22:21:26.594000+05:30",
     "start_time": "2020-05-28T16:51:25.540Z"
    },
    "scrolled": true
   },
   "outputs": [
    {
     "data": {
      "text/plain": [
       "3-element Array{Integer,1}:\n",
       " 309\n",
       " 170\n",
       "   9"
      ]
     },
     "execution_count": 28,
     "metadata": {},
     "output_type": "execute_result"
    }
   ],
   "source": [
    "max_l_values = show_maximum_l_values(model)"
   ]
  },
  {
   "cell_type": "markdown",
   "metadata": {},
   "source": [
    "Here a new hyperparameter α is introduced. α indicates how many of the singular values are considered in the SVD model. An α of 1/2 means that half of the (best) singular values will be kept for each layer.\n",
    "\n",
    "Note that the last layer is not converted to a SVDense layer."
   ]
  },
  {
   "cell_type": "code",
   "execution_count": 32,
   "metadata": {
    "ExecuteTime": {
     "end_time": "2020-05-28T22:24:51.998000+05:30",
     "start_time": "2020-05-28T16:54:51.919Z"
    }
   },
   "outputs": [
    {
     "data": {
      "text/plain": [
       "3-element Array{Union{Nothing, Integer},1}:\n",
       " 154       \n",
       "  85       \n",
       "    nothing"
      ]
     },
     "execution_count": 32,
     "metadata": {},
     "output_type": "execute_result"
    }
   ],
   "source": [
    "# set these values to be lesser than the above\n",
    "# nothing implies that the layer is not converted to SVDense\n",
    "α = 1/2\n",
    "l_values = map(x -> round(Int, x*α), max_l_values)\n",
    "l_values = Array{Union{Nothing, Integer}}(l_values)\n",
    "l_values[end] = nothing # no SVD on the last layer, this gives much better results\n",
    "l_values"
   ]
  },
  {
   "cell_type": "code",
   "execution_count": 43,
   "metadata": {
    "ExecuteTime": {
     "end_time": "2020-05-28T22:26:42.779000+05:30",
     "start_time": "2020-05-28T16:55:54.388Z"
    },
    "scrolled": false
   },
   "outputs": [
    {
     "name": "stdout",
     "output_type": "stream",
     "text": [
      "Cost at epoch 1 is 0.5057886. Accuracy 0.8708675986842105. Test accuracy 0.8776393113938052\n",
      "Finished pre-training\n",
      "Built SVD model\n",
      "SVD Model: Accuracy 0.8469649465460526. Test accuracy 0.8510932314712389\n",
      "Begin tuning SVD model\n",
      "Cost at epoch 1 is 0.33082396. Accuracy 0.905114103618421. Test accuracy 0.9092445035951326\n",
      "Cost at epoch 2 is 0.2620641. Accuracy 0.9243669476425438. Test accuracy 0.9271216468473451\n",
      "Cost at epoch 3 is 0.21991247. Accuracy 0.937622498629386. Test accuracy 0.938611379977876\n",
      "Cost at epoch 4 is 0.18681164. Accuracy 0.9465914542214912. Test accuracy 0.9447369330752213\n",
      "Cost at epoch 5 is 0.16528034. Accuracy 0.9521133155153509. Test accuracy 0.9503163025442477\n",
      "Cost at epoch 6 is 0.14459608. Accuracy 0.9574929756030702. Test accuracy 0.9548733061393806\n",
      "Cost at epoch 7 is 0.12845652. Accuracy 0.9629685786732457. Test accuracy 0.959664511891593\n",
      "Cost at epoch 8 is 0.118258566. Accuracy 0.9663231565241228. Test accuracy 0.961936532079646\n",
      "Cost at epoch 9 is 0.10597903. Accuracy 0.9694156044407894. Test accuracy 0.9647486863938053\n",
      "Final accuracy 0.969762541118421\n"
     ]
    }
   ],
   "source": [
    "@timeit to \"Full training SVD\" train_epochs_svd!(model, l_values, loss, train_data, test_data, opt, opt2, 10)"
   ]
  },
  {
   "cell_type": "code",
   "execution_count": 44,
   "metadata": {
    "ExecuteTime": {
     "end_time": "2020-05-28T22:26:42.794000+05:30",
     "start_time": "2020-05-28T16:55:54.961Z"
    }
   },
   "outputs": [
    {
     "name": "stdout",
     "output_type": "stream",
     "text": [
      "\u001b[0m\u001b[1m ──────────────────────────────────────────────────────────────────────────────\u001b[22m\n",
      "\u001b[0m\u001b[1m                               \u001b[22m        Time                   Allocations      \n",
      "                               ──────────────────────   ───────────────────────\n",
      "       Tot / % measured:             432s / 29.8%           67.1GiB / 96.9%    \n",
      "\n",
      " Section               ncalls     time   %tot     avg     alloc   %tot      avg\n",
      " ──────────────────────────────────────────────────────────────────────────────\n",
      " Full training SVD          3    74.8s  58.0%   24.9s   39.2GiB  60.3%  13.1GiB\n",
      "   Tuning SVD model         2    45.6s  35.4%   22.8s   27.4GiB  42.2%  13.7GiB\n",
      "     [SVD] Train on...     11    26.4s  20.5%   2.40s   14.7GiB  22.6%  1.34GiB\n",
      "       Calculate gr...    305    20.7s  16.0%  67.8ms   12.3GiB  18.9%  41.3MiB\n",
      "       Update params      304    3.48s  2.70%  11.4ms    626MiB  0.94%  2.06MiB\n",
      "       Get params          11   29.3ms  0.02%  2.67ms   1.49MiB  0.00%   139KiB\n",
      "     [SVD] Calculat...     10    9.37s  7.28%   937ms   5.91GiB  9.10%   605MiB\n",
      "     [SVD] Calculat...     10    8.16s  6.33%   816ms   5.85GiB  9.00%   599MiB\n",
      "     [SVD] Calculat...     10    1.60s  1.24%   160ms   0.99GiB  1.52%   101MiB\n",
      "   Pre-training             3    22.8s  17.7%   7.61s   9.66GiB  14.9%  3.22GiB\n",
      "     Train one epoch        4    14.3s  11.1%   3.58s   5.69GiB  8.76%  1.42GiB\n",
      "       Calculate gr...    120    11.2s  8.72%  93.7ms   4.51GiB  6.94%  38.5MiB\n",
      "       Update params      120    2.34s  1.81%  19.5ms    492MiB  0.74%  4.10MiB\n",
      "       Get params           4    209μs  0.00%  52.2μs   5.19KiB  0.00%  1.30KiB\n",
      "     Calculate cost         4    4.61s  3.58%   1.15s   2.08GiB  3.20%   533MiB\n",
      "     Calculate accu...      3    3.31s  2.57%   1.10s   1.61GiB  2.48%   551MiB\n",
      "     Calculate test...      3    541ms  0.42%   180ms    275MiB  0.41%  91.8MiB\n",
      "   Build SVD model          2    1.43s  1.11%   714ms   58.2MiB  0.09%  29.1MiB\n",
      "   Update weights o...      1    323ms  0.25%   323ms   9.76MiB  0.01%  9.76MiB\n",
      " Full training              1    54.1s  42.0%   54.1s   25.8GiB  39.7%  25.8GiB\n",
      "   Train one step          10    31.7s  24.6%   3.17s   14.2GiB  21.9%  1.42GiB\n",
      "     Calculate grad...    300    23.2s  18.0%  77.2ms   11.2GiB  17.3%  38.4MiB\n",
      "     Update params        300    6.53s  5.07%  21.8ms   1.20GiB  1.85%  4.10MiB\n",
      "     Get params            10    903μs  0.00%  90.3μs   13.0KiB  0.00%  1.30KiB\n",
      "   Calculate accuracy      10    10.8s  8.39%   1.08s   5.38GiB  8.28%   551MiB\n",
      "   Calculate cost          10    9.61s  7.46%   961ms   5.31GiB  8.18%   544MiB\n",
      "   Calculate test a...     10    1.88s  1.46%   188ms    918MiB  1.38%  91.8MiB\n",
      "\u001b[0m\u001b[1m ──────────────────────────────────────────────────────────────────────────────\u001b[22m"
     ]
    }
   ],
   "source": [
    "print_timer(to)"
   ]
  },
  {
   "cell_type": "markdown",
   "metadata": {},
   "source": [
    "Note the time difference in the previous cell's output. One epoch of SVD-DNN took 2.4s while the normal DNN took 3.17s which is a good improvement. (the time difference could be due to various reasons, but the SVD-DNN consistently gives better times than the normal model)"
   ]
  },
  {
   "cell_type": "code",
   "execution_count": 45,
   "metadata": {
    "ExecuteTime": {
     "end_time": "2020-05-28T22:26:42.837000+05:30",
     "start_time": "2020-05-28T16:55:55.905Z"
    },
    "scrolled": false
   },
   "outputs": [
    {
     "data": {
      "image/svg+xml": [
       "<?xml version=\"1.0\" encoding=\"utf-8\"?>\n",
       "<svg xmlns=\"http://www.w3.org/2000/svg\" xmlns:xlink=\"http://www.w3.org/1999/xlink\" width=\"600\" height=\"400\" viewBox=\"0 0 2400 1600\">\n",
       "<defs>\n",
       "  <clipPath id=\"clip7100\">\n",
       "    <rect x=\"0\" y=\"0\" width=\"2400\" height=\"1600\"/>\n",
       "  </clipPath>\n",
       "</defs>\n",
       "<path clip-path=\"url(#clip7100)\" d=\"\n",
       "M0 1600 L2400 1600 L2400 0 L0 0  Z\n",
       "  \" fill=\"#ffffff\" fill-rule=\"evenodd\" fill-opacity=\"1\"/>\n",
       "<defs>\n",
       "  <clipPath id=\"clip7101\">\n",
       "    <rect x=\"480\" y=\"0\" width=\"1681\" height=\"1600\"/>\n",
       "  </clipPath>\n",
       "</defs>\n",
       "<path clip-path=\"url(#clip7100)\" d=\"\n",
       "M153.898 1425.62 L2352.76 1425.62 L2352.76 47.2441 L153.898 47.2441  Z\n",
       "  \" fill=\"#ffffff\" fill-rule=\"evenodd\" fill-opacity=\"1\"/>\n",
       "<defs>\n",
       "  <clipPath id=\"clip7102\">\n",
       "    <rect x=\"153\" y=\"47\" width=\"2200\" height=\"1379\"/>\n",
       "  </clipPath>\n",
       "</defs>\n",
       "<polyline clip-path=\"url(#clip7102)\" style=\"stroke:#000000; stroke-width:2; stroke-opacity:0.1; fill:none\" points=\"\n",
       "  446.618,1425.62 446.618,47.2441 \n",
       "  \"/>\n",
       "<polyline clip-path=\"url(#clip7102)\" style=\"stroke:#000000; stroke-width:2; stroke-opacity:0.1; fill:none\" points=\"\n",
       "  907.595,1425.62 907.595,47.2441 \n",
       "  \"/>\n",
       "<polyline clip-path=\"url(#clip7102)\" style=\"stroke:#000000; stroke-width:2; stroke-opacity:0.1; fill:none\" points=\"\n",
       "  1368.57,1425.62 1368.57,47.2441 \n",
       "  \"/>\n",
       "<polyline clip-path=\"url(#clip7102)\" style=\"stroke:#000000; stroke-width:2; stroke-opacity:0.1; fill:none\" points=\"\n",
       "  1829.55,1425.62 1829.55,47.2441 \n",
       "  \"/>\n",
       "<polyline clip-path=\"url(#clip7102)\" style=\"stroke:#000000; stroke-width:2; stroke-opacity:0.1; fill:none\" points=\"\n",
       "  2290.52,1425.62 2290.52,47.2441 \n",
       "  \"/>\n",
       "<polyline clip-path=\"url(#clip7102)\" style=\"stroke:#000000; stroke-width:2; stroke-opacity:0.1; fill:none\" points=\"\n",
       "  153.898,1245.01 2352.76,1245.01 \n",
       "  \"/>\n",
       "<polyline clip-path=\"url(#clip7102)\" style=\"stroke:#000000; stroke-width:2; stroke-opacity:0.1; fill:none\" points=\"\n",
       "  153.898,943.806 2352.76,943.806 \n",
       "  \"/>\n",
       "<polyline clip-path=\"url(#clip7102)\" style=\"stroke:#000000; stroke-width:2; stroke-opacity:0.1; fill:none\" points=\"\n",
       "  153.898,642.602 2352.76,642.602 \n",
       "  \"/>\n",
       "<polyline clip-path=\"url(#clip7102)\" style=\"stroke:#000000; stroke-width:2; stroke-opacity:0.1; fill:none\" points=\"\n",
       "  153.898,341.398 2352.76,341.398 \n",
       "  \"/>\n",
       "<polyline clip-path=\"url(#clip7100)\" style=\"stroke:#000000; stroke-width:4; stroke-opacity:1; fill:none\" points=\"\n",
       "  153.898,1425.62 2352.76,1425.62 \n",
       "  \"/>\n",
       "<polyline clip-path=\"url(#clip7100)\" style=\"stroke:#000000; stroke-width:4; stroke-opacity:1; fill:none\" points=\"\n",
       "  153.898,1425.62 153.898,47.2441 \n",
       "  \"/>\n",
       "<polyline clip-path=\"url(#clip7100)\" style=\"stroke:#000000; stroke-width:4; stroke-opacity:1; fill:none\" points=\"\n",
       "  446.618,1425.62 446.618,1409.08 \n",
       "  \"/>\n",
       "<polyline clip-path=\"url(#clip7100)\" style=\"stroke:#000000; stroke-width:4; stroke-opacity:1; fill:none\" points=\"\n",
       "  907.595,1425.62 907.595,1409.08 \n",
       "  \"/>\n",
       "<polyline clip-path=\"url(#clip7100)\" style=\"stroke:#000000; stroke-width:4; stroke-opacity:1; fill:none\" points=\"\n",
       "  1368.57,1425.62 1368.57,1409.08 \n",
       "  \"/>\n",
       "<polyline clip-path=\"url(#clip7100)\" style=\"stroke:#000000; stroke-width:4; stroke-opacity:1; fill:none\" points=\"\n",
       "  1829.55,1425.62 1829.55,1409.08 \n",
       "  \"/>\n",
       "<polyline clip-path=\"url(#clip7100)\" style=\"stroke:#000000; stroke-width:4; stroke-opacity:1; fill:none\" points=\"\n",
       "  2290.52,1425.62 2290.52,1409.08 \n",
       "  \"/>\n",
       "<polyline clip-path=\"url(#clip7100)\" style=\"stroke:#000000; stroke-width:4; stroke-opacity:1; fill:none\" points=\"\n",
       "  153.898,1245.01 180.284,1245.01 \n",
       "  \"/>\n",
       "<polyline clip-path=\"url(#clip7100)\" style=\"stroke:#000000; stroke-width:4; stroke-opacity:1; fill:none\" points=\"\n",
       "  153.898,943.806 180.284,943.806 \n",
       "  \"/>\n",
       "<polyline clip-path=\"url(#clip7100)\" style=\"stroke:#000000; stroke-width:4; stroke-opacity:1; fill:none\" points=\"\n",
       "  153.898,642.602 180.284,642.602 \n",
       "  \"/>\n",
       "<polyline clip-path=\"url(#clip7100)\" style=\"stroke:#000000; stroke-width:4; stroke-opacity:1; fill:none\" points=\"\n",
       "  153.898,341.398 180.284,341.398 \n",
       "  \"/>\n",
       "<g clip-path=\"url(#clip7100)\">\n",
       "<text style=\"fill:#000000; fill-opacity:1; font-family:Arial,Helvetica Neue,Helvetica,sans-serif; font-size:48px; text-anchor:middle;\" transform=\"rotate(0, 446.618, 1479.62)\" x=\"446.618\" y=\"1479.62\">2</text>\n",
       "</g>\n",
       "<g clip-path=\"url(#clip7100)\">\n",
       "<text style=\"fill:#000000; fill-opacity:1; font-family:Arial,Helvetica Neue,Helvetica,sans-serif; font-size:48px; text-anchor:middle;\" transform=\"rotate(0, 907.595, 1479.62)\" x=\"907.595\" y=\"1479.62\">4</text>\n",
       "</g>\n",
       "<g clip-path=\"url(#clip7100)\">\n",
       "<text style=\"fill:#000000; fill-opacity:1; font-family:Arial,Helvetica Neue,Helvetica,sans-serif; font-size:48px; text-anchor:middle;\" transform=\"rotate(0, 1368.57, 1479.62)\" x=\"1368.57\" y=\"1479.62\">6</text>\n",
       "</g>\n",
       "<g clip-path=\"url(#clip7100)\">\n",
       "<text style=\"fill:#000000; fill-opacity:1; font-family:Arial,Helvetica Neue,Helvetica,sans-serif; font-size:48px; text-anchor:middle;\" transform=\"rotate(0, 1829.55, 1479.62)\" x=\"1829.55\" y=\"1479.62\">8</text>\n",
       "</g>\n",
       "<g clip-path=\"url(#clip7100)\">\n",
       "<text style=\"fill:#000000; fill-opacity:1; font-family:Arial,Helvetica Neue,Helvetica,sans-serif; font-size:48px; text-anchor:middle;\" transform=\"rotate(0, 2290.52, 1479.62)\" x=\"2290.52\" y=\"1479.62\">10</text>\n",
       "</g>\n",
       "<g clip-path=\"url(#clip7100)\">\n",
       "<text style=\"fill:#000000; fill-opacity:1; font-family:Arial,Helvetica Neue,Helvetica,sans-serif; font-size:48px; text-anchor:end;\" transform=\"rotate(0, 129.898, 1262.51)\" x=\"129.898\" y=\"1262.51\">0.2</text>\n",
       "</g>\n",
       "<g clip-path=\"url(#clip7100)\">\n",
       "<text style=\"fill:#000000; fill-opacity:1; font-family:Arial,Helvetica Neue,Helvetica,sans-serif; font-size:48px; text-anchor:end;\" transform=\"rotate(0, 129.898, 961.306)\" x=\"129.898\" y=\"961.306\">0.4</text>\n",
       "</g>\n",
       "<g clip-path=\"url(#clip7100)\">\n",
       "<text style=\"fill:#000000; fill-opacity:1; font-family:Arial,Helvetica Neue,Helvetica,sans-serif; font-size:48px; text-anchor:end;\" transform=\"rotate(0, 129.898, 660.102)\" x=\"129.898\" y=\"660.102\">0.6</text>\n",
       "</g>\n",
       "<g clip-path=\"url(#clip7100)\">\n",
       "<text style=\"fill:#000000; fill-opacity:1; font-family:Arial,Helvetica Neue,Helvetica,sans-serif; font-size:48px; text-anchor:end;\" transform=\"rotate(0, 129.898, 358.898)\" x=\"129.898\" y=\"358.898\">0.8</text>\n",
       "</g>\n",
       "<g clip-path=\"url(#clip7100)\">\n",
       "<text style=\"fill:#000000; fill-opacity:1; font-family:Arial,Helvetica Neue,Helvetica,sans-serif; font-size:66px; text-anchor:middle;\" transform=\"rotate(0, 1253.33, 1559.48)\" x=\"1253.33\" y=\"1559.48\">Epochs</text>\n",
       "</g>\n",
       "<polyline clip-path=\"url(#clip7102)\" style=\"stroke:#009af9; stroke-width:4; stroke-opacity:1; fill:none\" points=\"\n",
       "  216.13,784.487 446.618,1047.99 677.106,1151.54 907.595,1215.02 1138.08,1264.87 1368.57,1297.3 1599.06,1328.45 1829.55,1352.76 2060.04,1368.11 2290.52,1386.61 \n",
       "  \n",
       "  \"/>\n",
       "<polyline clip-path=\"url(#clip7102)\" style=\"stroke:#e26f46; stroke-width:4; stroke-opacity:1; fill:none\" points=\"\n",
       "  216.13,234.67 446.618,183.094 677.106,154.099 907.595,134.136 1138.08,120.628 1368.57,112.312 1599.06,104.21 1829.55,95.964 2060.04,90.912 2290.52,86.2547 \n",
       "  \n",
       "  \"/>\n",
       "<polyline clip-path=\"url(#clip7102)\" style=\"stroke:#3da44d; stroke-width:4; stroke-opacity:1; fill:none\" points=\"\n",
       "  216.13,224.472 446.618,176.874 677.106,149.95 907.595,132.646 1138.08,123.421 1368.57,115.019 1599.06,108.156 1829.55,100.94 2060.04,97.5183 2290.52,93.2832 \n",
       "  \n",
       "  \"/>\n",
       "<polyline clip-path=\"url(#clip7102)\" style=\"stroke:#c271d2; stroke-width:4; stroke-opacity:1; fill:none\" points=\"\n",
       "  446.618,2803.99 446.618,-1331.13 \n",
       "  \"/>\n",
       "<path clip-path=\"url(#clip7100)\" d=\"\n",
       "M1735.83 433.164 L2280.76 433.164 L2280.76 130.764 L1735.83 130.764  Z\n",
       "  \" fill=\"#ffffff\" fill-rule=\"evenodd\" fill-opacity=\"1\"/>\n",
       "<polyline clip-path=\"url(#clip7100)\" style=\"stroke:#000000; stroke-width:4; stroke-opacity:1; fill:none\" points=\"\n",
       "  1735.83,433.164 2280.76,433.164 2280.76,130.764 1735.83,130.764 1735.83,433.164 \n",
       "  \"/>\n",
       "<polyline clip-path=\"url(#clip7100)\" style=\"stroke:#009af9; stroke-width:4; stroke-opacity:1; fill:none\" points=\"\n",
       "  1759.83,191.244 1903.83,191.244 \n",
       "  \"/>\n",
       "<g clip-path=\"url(#clip7100)\">\n",
       "<text style=\"fill:#000000; fill-opacity:1; font-family:Arial,Helvetica Neue,Helvetica,sans-serif; font-size:48px; text-anchor:start;\" transform=\"rotate(0, 1927.83, 208.744)\" x=\"1927.83\" y=\"208.744\">Cost</text>\n",
       "</g>\n",
       "<polyline clip-path=\"url(#clip7100)\" style=\"stroke:#e26f46; stroke-width:4; stroke-opacity:1; fill:none\" points=\"\n",
       "  1759.83,251.724 1903.83,251.724 \n",
       "  \"/>\n",
       "<g clip-path=\"url(#clip7100)\">\n",
       "<text style=\"fill:#000000; fill-opacity:1; font-family:Arial,Helvetica Neue,Helvetica,sans-serif; font-size:48px; text-anchor:start;\" transform=\"rotate(0, 1927.83, 269.224)\" x=\"1927.83\" y=\"269.224\">Accuracy</text>\n",
       "</g>\n",
       "<polyline clip-path=\"url(#clip7100)\" style=\"stroke:#3da44d; stroke-width:4; stroke-opacity:1; fill:none\" points=\"\n",
       "  1759.83,312.204 1903.83,312.204 \n",
       "  \"/>\n",
       "<g clip-path=\"url(#clip7100)\">\n",
       "<text style=\"fill:#000000; fill-opacity:1; font-family:Arial,Helvetica Neue,Helvetica,sans-serif; font-size:48px; text-anchor:start;\" transform=\"rotate(0, 1927.83, 329.704)\" x=\"1927.83\" y=\"329.704\">Test Accuracy</text>\n",
       "</g>\n",
       "<polyline clip-path=\"url(#clip7100)\" style=\"stroke:#c271d2; stroke-width:4; stroke-opacity:1; fill:none\" points=\"\n",
       "  1759.83,372.684 1903.83,372.684 \n",
       "  \"/>\n",
       "<g clip-path=\"url(#clip7100)\">\n",
       "<text style=\"fill:#000000; fill-opacity:1; font-family:Arial,Helvetica Neue,Helvetica,sans-serif; font-size:48px; text-anchor:start;\" transform=\"rotate(0, 1927.83, 390.184)\" x=\"1927.83\" y=\"390.184\">SVD start</text>\n",
       "</g>\n",
       "</svg>\n"
      ]
     },
     "execution_count": 45,
     "metadata": {},
     "output_type": "execute_result"
    }
   ],
   "source": [
    "plot(costs, label = \"Cost\")\n",
    "plot!(accuracies, label = \"Accuracy\")\n",
    "plot!(test_accuracies, label = \"Test Accuracy\")\n",
    "xlabel!(\"Epochs\")\n",
    "vline!([2], label = \"SVD start\", legend = :best)"
   ]
  },
  {
   "cell_type": "code",
   "execution_count": 46,
   "metadata": {
    "ExecuteTime": {
     "end_time": "2020-05-28T22:26:42.845000+05:30",
     "start_time": "2020-05-28T16:55:56.989Z"
    }
   },
   "outputs": [
    {
     "data": {
      "text/plain": [
       "10-element Array{Any,1}:\n",
       " 0.5057886f0  \n",
       " 0.33082396f0 \n",
       " 0.2620641f0  \n",
       " 0.21991247f0 \n",
       " 0.18681164f0 \n",
       " 0.16528034f0 \n",
       " 0.14459608f0 \n",
       " 0.12845652f0 \n",
       " 0.118258566f0\n",
       " 0.10597903f0 "
      ]
     },
     "execution_count": 46,
     "metadata": {},
     "output_type": "execute_result"
    }
   ],
   "source": [
    "costs_half = copy(costs)"
   ]
  },
  {
   "cell_type": "markdown",
   "metadata": {},
   "source": [
    "## SVD 1/4"
   ]
  },
  {
   "cell_type": "code",
   "execution_count": 48,
   "metadata": {
    "ExecuteTime": {
     "end_time": "2020-05-28T22:28:46.785000+05:30",
     "start_time": "2020-05-28T16:58:46.726Z"
    }
   },
   "outputs": [
    {
     "data": {
      "text/plain": [
       "3-element Array{Union{Nothing, Integer},1}:\n",
       " 77       \n",
       " 42       \n",
       "   nothing"
      ]
     },
     "execution_count": 48,
     "metadata": {},
     "output_type": "execute_result"
    }
   ],
   "source": [
    "# nothing implies that the layer is not converted to SVDense\n",
    "l_values = map(x -> x ÷ 4, max_l_values)\n",
    "l_values = Array{Union{Nothing, Integer}}(l_values)\n",
    "l_values[end] = nothing # no SVD on the last layer, this gives much better results\n",
    "l_values"
   ]
  },
  {
   "cell_type": "code",
   "execution_count": 50,
   "metadata": {
    "ExecuteTime": {
     "end_time": "2020-05-28T22:30:16.418000+05:30",
     "start_time": "2020-05-28T16:59:40.767Z"
    },
    "scrolled": false
   },
   "outputs": [
    {
     "name": "stdout",
     "output_type": "stream",
     "text": [
      "Cost at epoch 1 is 0.51119405. Accuracy 0.8705677768640351. Test accuracy 0.8783687085176991\n",
      "Finished pre-training\n",
      "Built SVD model\n",
      "SVD Model: Accuracy 0.6655179207785088. Test accuracy 0.6703245990044249\n",
      "Begin tuning SVD model\n",
      "Cost at epoch 1 is 0.47031185. Accuracy 0.8690146998355264. Test accuracy 0.8707126313606194\n",
      "Cost at epoch 2 is 0.3413464. Accuracy 0.9007418448464912. Test accuracy 0.9052284983407081\n",
      "Cost at epoch 3 is 0.2964593. Accuracy 0.9139845463267543. Test accuracy 0.9153709209070797\n",
      "Cost at epoch 4 is 0.26419395. Accuracy 0.9209866707785088. Test accuracy 0.9253180309734514\n",
      "Cost at epoch 5 is 0.24141668. Accuracy 0.9297508908991229. Test accuracy 0.929237244192478\n",
      "Cost at epoch 6 is 0.22294459. Accuracy 0.934583162006579. Test accuracy 0.9366064021017699\n",
      "Cost at epoch 7 is 0.2028071. Accuracy 0.9412777549342105. Test accuracy 0.9413258780420353\n",
      "Cost at epoch 8 is 0.18695717. Accuracy 0.9461836965460526. Test accuracy 0.9444638412610619\n",
      "Cost at epoch 9 is 0.17354536. Accuracy 0.9499100534539474. Test accuracy 0.947126486449115\n",
      "Final accuracy 0.9499100534539474\n"
     ]
    }
   ],
   "source": [
    "# re-initialise the model before running\n",
    "@timeit to \"Full training SVD 1/4\" train_epochs_svd!(model, l_values, loss, train_data, test_data, opt, opt2, 10)"
   ]
  },
  {
   "cell_type": "code",
   "execution_count": 51,
   "metadata": {
    "ExecuteTime": {
     "end_time": "2020-05-28T22:30:16.438000+05:30",
     "start_time": "2020-05-28T16:59:41.797Z"
    }
   },
   "outputs": [
    {
     "name": "stdout",
     "output_type": "stream",
     "text": [
      "\u001b[0m\u001b[1m ──────────────────────────────────────────────────────────────────────────────\u001b[22m\n",
      "\u001b[0m\u001b[1m                               \u001b[22m        Time                   Allocations      \n",
      "                               ──────────────────────   ───────────────────────\n",
      "       Tot / % measured:             646s / 25.5%           93.9GiB / 97.7%    \n",
      "\n",
      " Section               ncalls     time   %tot     avg     alloc   %tot      avg\n",
      " ──────────────────────────────────────────────────────────────────────────────\n",
      " Full training SVD          3    74.8s  45.5%   24.9s   39.2GiB  42.7%  13.1GiB\n",
      "   Tuning SVD model         2    45.6s  27.7%   22.8s   27.4GiB  29.9%  13.7GiB\n",
      "     [SVD] Train on...     11    26.4s  16.0%   2.40s   14.7GiB  16.0%  1.34GiB\n",
      "       Calculate gr...    305    20.7s  12.6%  67.8ms   12.3GiB  13.4%  41.3MiB\n",
      "       Update params      304    3.48s  2.12%  11.4ms    626MiB  0.67%  2.06MiB\n",
      "       Get params          11   29.3ms  0.02%  2.67ms   1.49MiB  0.00%   139KiB\n",
      "     [SVD] Calculat...     10    9.37s  5.70%   937ms   5.91GiB  6.44%   605MiB\n",
      "     [SVD] Calculat...     10    8.16s  4.96%   816ms   5.85GiB  6.37%   599MiB\n",
      "     [SVD] Calculat...     10    1.60s  0.97%   160ms   0.99GiB  1.07%   101MiB\n",
      "   Pre-training             3    22.8s  13.9%   7.61s   9.66GiB  10.5%  3.22GiB\n",
      "     Train one epoch        4    14.3s  8.70%   3.58s   5.69GiB  6.20%  1.42GiB\n",
      "       Calculate gr...    120    11.2s  6.83%  93.7ms   4.51GiB  4.91%  38.5MiB\n",
      "       Update params      120    2.34s  1.42%  19.5ms    492MiB  0.52%  4.10MiB\n",
      "       Get params           4    209μs  0.00%  52.2μs   5.19KiB  0.00%  1.30KiB\n",
      "     Calculate cost         4    4.61s  2.80%   1.15s   2.08GiB  2.27%   533MiB\n",
      "     Calculate accu...      3    3.31s  2.01%   1.10s   1.61GiB  1.76%   551MiB\n",
      "     Calculate test...      3    541ms  0.33%   180ms    275MiB  0.29%  91.8MiB\n",
      "   Build SVD model          2    1.43s  0.87%   714ms   58.2MiB  0.06%  29.1MiB\n",
      "   Update weights o...      1    323ms  0.20%   323ms   9.76MiB  0.01%  9.76MiB\n",
      " Full training              1    54.1s  32.9%   54.1s   25.8GiB  28.1%  25.8GiB\n",
      "   Train one step          10    31.7s  19.2%   3.17s   14.2GiB  15.5%  1.42GiB\n",
      "     Calculate grad...    300    23.2s  14.1%  77.2ms   11.2GiB  12.3%  38.4MiB\n",
      "     Update params        300    6.53s  3.97%  21.8ms   1.20GiB  1.31%  4.10MiB\n",
      "     Get params            10    903μs  0.00%  90.3μs   13.0KiB  0.00%  1.30KiB\n",
      "   Calculate accuracy      10    10.8s  6.58%   1.08s   5.38GiB  5.86%   551MiB\n",
      "   Calculate cost          10    9.61s  5.84%   961ms   5.31GiB  5.79%   544MiB\n",
      "   Calculate test a...     10    1.88s  1.14%   188ms    918MiB  0.98%  91.8MiB\n",
      " Full training SVD 1/4      1    35.6s  21.7%   35.6s   26.8GiB  29.2%  26.8GiB\n",
      "   Tuning SVD model         1    27.1s  16.5%   27.1s   23.0GiB  25.1%  23.0GiB\n",
      "     [SVD] Train on...      9    14.7s  8.95%   1.64s   12.1GiB  13.1%  1.34GiB\n",
      "       Calculate gr...    270    11.7s  7.11%  43.3ms   10.2GiB  11.1%  38.7MiB\n",
      "       Update params      270    1.42s  0.86%  5.25ms    282MiB  0.30%  1.04MiB\n",
      "       Get params           9    442μs  0.00%  49.1μs   13.5KiB  0.00%  1.50KiB\n",
      "     [SVD] Calculat...      9    5.94s  3.61%   660ms   5.08GiB  5.54%   578MiB\n",
      "     [SVD] Calculat...      9    5.39s  3.27%   598ms   5.02GiB  5.47%   571MiB\n",
      "     [SVD] Calculat...      9    991ms  0.60%   110ms    867MiB  0.92%  96.3MiB\n",
      "   Pre-training             1    5.98s  3.63%   5.98s   2.59GiB  2.82%  2.59GiB\n",
      "     Train one epoch        1    3.45s  2.10%   3.45s   1.43GiB  1.55%  1.43GiB\n",
      "       Calculate gr...     30    2.74s  1.66%  91.2ms   1.13GiB  1.23%  38.6MiB\n",
      "       Update params       30    531ms  0.32%  17.7ms    123MiB  0.13%  4.10MiB\n",
      "       Get params           1   40.8μs  0.00%  40.8μs   1.30KiB  0.00%  1.30KiB\n",
      "     Calculate accu...      1    1.15s  0.70%   1.15s    551MiB  0.59%   551MiB\n",
      "     Calculate cost         1    1.02s  0.62%   1.02s    544MiB  0.58%   544MiB\n",
      "     Calculate test...      1    346ms  0.21%   346ms   91.8MiB  0.10%  91.8MiB\n",
      "   Build SVD model          1    383ms  0.23%   383ms   10.2MiB  0.01%  10.2MiB\n",
      "   Update weights o...      1   37.9ms  0.02%  37.9ms   2.03MiB  0.00%  2.03MiB\n",
      "\u001b[0m\u001b[1m ──────────────────────────────────────────────────────────────────────────────\u001b[22m"
     ]
    }
   ],
   "source": [
    "print_timer(to)"
   ]
  },
  {
   "cell_type": "code",
   "execution_count": 52,
   "metadata": {
    "ExecuteTime": {
     "end_time": "2020-05-28T22:30:16.482000+05:30",
     "start_time": "2020-05-28T16:59:45.131Z"
    },
    "scrolled": false
   },
   "outputs": [
    {
     "data": {
      "image/svg+xml": [
       "<?xml version=\"1.0\" encoding=\"utf-8\"?>\n",
       "<svg xmlns=\"http://www.w3.org/2000/svg\" xmlns:xlink=\"http://www.w3.org/1999/xlink\" width=\"600\" height=\"400\" viewBox=\"0 0 2400 1600\">\n",
       "<defs>\n",
       "  <clipPath id=\"clip7500\">\n",
       "    <rect x=\"0\" y=\"0\" width=\"2400\" height=\"1600\"/>\n",
       "  </clipPath>\n",
       "</defs>\n",
       "<path clip-path=\"url(#clip7500)\" d=\"\n",
       "M0 1600 L2400 1600 L2400 0 L0 0  Z\n",
       "  \" fill=\"#ffffff\" fill-rule=\"evenodd\" fill-opacity=\"1\"/>\n",
       "<defs>\n",
       "  <clipPath id=\"clip7501\">\n",
       "    <rect x=\"480\" y=\"0\" width=\"1681\" height=\"1600\"/>\n",
       "  </clipPath>\n",
       "</defs>\n",
       "<path clip-path=\"url(#clip7500)\" d=\"\n",
       "M153.898 1425.62 L2352.76 1425.62 L2352.76 47.2441 L153.898 47.2441  Z\n",
       "  \" fill=\"#ffffff\" fill-rule=\"evenodd\" fill-opacity=\"1\"/>\n",
       "<defs>\n",
       "  <clipPath id=\"clip7502\">\n",
       "    <rect x=\"153\" y=\"47\" width=\"2200\" height=\"1379\"/>\n",
       "  </clipPath>\n",
       "</defs>\n",
       "<polyline clip-path=\"url(#clip7502)\" style=\"stroke:#000000; stroke-width:2; stroke-opacity:0.1; fill:none\" points=\"\n",
       "  446.618,1425.62 446.618,47.2441 \n",
       "  \"/>\n",
       "<polyline clip-path=\"url(#clip7502)\" style=\"stroke:#000000; stroke-width:2; stroke-opacity:0.1; fill:none\" points=\"\n",
       "  907.595,1425.62 907.595,47.2441 \n",
       "  \"/>\n",
       "<polyline clip-path=\"url(#clip7502)\" style=\"stroke:#000000; stroke-width:2; stroke-opacity:0.1; fill:none\" points=\"\n",
       "  1368.57,1425.62 1368.57,47.2441 \n",
       "  \"/>\n",
       "<polyline clip-path=\"url(#clip7502)\" style=\"stroke:#000000; stroke-width:2; stroke-opacity:0.1; fill:none\" points=\"\n",
       "  1829.55,1425.62 1829.55,47.2441 \n",
       "  \"/>\n",
       "<polyline clip-path=\"url(#clip7502)\" style=\"stroke:#000000; stroke-width:2; stroke-opacity:0.1; fill:none\" points=\"\n",
       "  2290.52,1425.62 2290.52,47.2441 \n",
       "  \"/>\n",
       "<polyline clip-path=\"url(#clip7502)\" style=\"stroke:#000000; stroke-width:2; stroke-opacity:0.1; fill:none\" points=\"\n",
       "  153.898,1342.3 2352.76,1342.3 \n",
       "  \"/>\n",
       "<polyline clip-path=\"url(#clip7502)\" style=\"stroke:#000000; stroke-width:2; stroke-opacity:0.1; fill:none\" points=\"\n",
       "  153.898,1007.31 2352.76,1007.31 \n",
       "  \"/>\n",
       "<polyline clip-path=\"url(#clip7502)\" style=\"stroke:#000000; stroke-width:2; stroke-opacity:0.1; fill:none\" points=\"\n",
       "  153.898,672.328 2352.76,672.328 \n",
       "  \"/>\n",
       "<polyline clip-path=\"url(#clip7502)\" style=\"stroke:#000000; stroke-width:2; stroke-opacity:0.1; fill:none\" points=\"\n",
       "  153.898,337.343 2352.76,337.343 \n",
       "  \"/>\n",
       "<polyline clip-path=\"url(#clip7500)\" style=\"stroke:#000000; stroke-width:4; stroke-opacity:1; fill:none\" points=\"\n",
       "  153.898,1425.62 2352.76,1425.62 \n",
       "  \"/>\n",
       "<polyline clip-path=\"url(#clip7500)\" style=\"stroke:#000000; stroke-width:4; stroke-opacity:1; fill:none\" points=\"\n",
       "  153.898,1425.62 153.898,47.2441 \n",
       "  \"/>\n",
       "<polyline clip-path=\"url(#clip7500)\" style=\"stroke:#000000; stroke-width:4; stroke-opacity:1; fill:none\" points=\"\n",
       "  446.618,1425.62 446.618,1409.08 \n",
       "  \"/>\n",
       "<polyline clip-path=\"url(#clip7500)\" style=\"stroke:#000000; stroke-width:4; stroke-opacity:1; fill:none\" points=\"\n",
       "  907.595,1425.62 907.595,1409.08 \n",
       "  \"/>\n",
       "<polyline clip-path=\"url(#clip7500)\" style=\"stroke:#000000; stroke-width:4; stroke-opacity:1; fill:none\" points=\"\n",
       "  1368.57,1425.62 1368.57,1409.08 \n",
       "  \"/>\n",
       "<polyline clip-path=\"url(#clip7500)\" style=\"stroke:#000000; stroke-width:4; stroke-opacity:1; fill:none\" points=\"\n",
       "  1829.55,1425.62 1829.55,1409.08 \n",
       "  \"/>\n",
       "<polyline clip-path=\"url(#clip7500)\" style=\"stroke:#000000; stroke-width:4; stroke-opacity:1; fill:none\" points=\"\n",
       "  2290.52,1425.62 2290.52,1409.08 \n",
       "  \"/>\n",
       "<polyline clip-path=\"url(#clip7500)\" style=\"stroke:#000000; stroke-width:4; stroke-opacity:1; fill:none\" points=\"\n",
       "  153.898,1342.3 180.284,1342.3 \n",
       "  \"/>\n",
       "<polyline clip-path=\"url(#clip7500)\" style=\"stroke:#000000; stroke-width:4; stroke-opacity:1; fill:none\" points=\"\n",
       "  153.898,1007.31 180.284,1007.31 \n",
       "  \"/>\n",
       "<polyline clip-path=\"url(#clip7500)\" style=\"stroke:#000000; stroke-width:4; stroke-opacity:1; fill:none\" points=\"\n",
       "  153.898,672.328 180.284,672.328 \n",
       "  \"/>\n",
       "<polyline clip-path=\"url(#clip7500)\" style=\"stroke:#000000; stroke-width:4; stroke-opacity:1; fill:none\" points=\"\n",
       "  153.898,337.343 180.284,337.343 \n",
       "  \"/>\n",
       "<g clip-path=\"url(#clip7500)\">\n",
       "<text style=\"fill:#000000; fill-opacity:1; font-family:Arial,Helvetica Neue,Helvetica,sans-serif; font-size:48px; text-anchor:middle;\" transform=\"rotate(0, 446.618, 1479.62)\" x=\"446.618\" y=\"1479.62\">2</text>\n",
       "</g>\n",
       "<g clip-path=\"url(#clip7500)\">\n",
       "<text style=\"fill:#000000; fill-opacity:1; font-family:Arial,Helvetica Neue,Helvetica,sans-serif; font-size:48px; text-anchor:middle;\" transform=\"rotate(0, 907.595, 1479.62)\" x=\"907.595\" y=\"1479.62\">4</text>\n",
       "</g>\n",
       "<g clip-path=\"url(#clip7500)\">\n",
       "<text style=\"fill:#000000; fill-opacity:1; font-family:Arial,Helvetica Neue,Helvetica,sans-serif; font-size:48px; text-anchor:middle;\" transform=\"rotate(0, 1368.57, 1479.62)\" x=\"1368.57\" y=\"1479.62\">6</text>\n",
       "</g>\n",
       "<g clip-path=\"url(#clip7500)\">\n",
       "<text style=\"fill:#000000; fill-opacity:1; font-family:Arial,Helvetica Neue,Helvetica,sans-serif; font-size:48px; text-anchor:middle;\" transform=\"rotate(0, 1829.55, 1479.62)\" x=\"1829.55\" y=\"1479.62\">8</text>\n",
       "</g>\n",
       "<g clip-path=\"url(#clip7500)\">\n",
       "<text style=\"fill:#000000; fill-opacity:1; font-family:Arial,Helvetica Neue,Helvetica,sans-serif; font-size:48px; text-anchor:middle;\" transform=\"rotate(0, 2290.52, 1479.62)\" x=\"2290.52\" y=\"1479.62\">10</text>\n",
       "</g>\n",
       "<g clip-path=\"url(#clip7500)\">\n",
       "<text style=\"fill:#000000; fill-opacity:1; font-family:Arial,Helvetica Neue,Helvetica,sans-serif; font-size:48px; text-anchor:end;\" transform=\"rotate(0, 129.898, 1359.8)\" x=\"129.898\" y=\"1359.8\">0.2</text>\n",
       "</g>\n",
       "<g clip-path=\"url(#clip7500)\">\n",
       "<text style=\"fill:#000000; fill-opacity:1; font-family:Arial,Helvetica Neue,Helvetica,sans-serif; font-size:48px; text-anchor:end;\" transform=\"rotate(0, 129.898, 1024.81)\" x=\"129.898\" y=\"1024.81\">0.4</text>\n",
       "</g>\n",
       "<g clip-path=\"url(#clip7500)\">\n",
       "<text style=\"fill:#000000; fill-opacity:1; font-family:Arial,Helvetica Neue,Helvetica,sans-serif; font-size:48px; text-anchor:end;\" transform=\"rotate(0, 129.898, 689.828)\" x=\"129.898\" y=\"689.828\">0.6</text>\n",
       "</g>\n",
       "<g clip-path=\"url(#clip7500)\">\n",
       "<text style=\"fill:#000000; fill-opacity:1; font-family:Arial,Helvetica Neue,Helvetica,sans-serif; font-size:48px; text-anchor:end;\" transform=\"rotate(0, 129.898, 354.843)\" x=\"129.898\" y=\"354.843\">0.8</text>\n",
       "</g>\n",
       "<g clip-path=\"url(#clip7500)\">\n",
       "<text style=\"fill:#000000; fill-opacity:1; font-family:Arial,Helvetica Neue,Helvetica,sans-serif; font-size:66px; text-anchor:middle;\" transform=\"rotate(0, 1253.33, 1559.48)\" x=\"1253.33\" y=\"1559.48\">Epochs</text>\n",
       "</g>\n",
       "<polyline clip-path=\"url(#clip7502)\" style=\"stroke:#009af9; stroke-width:4; stroke-opacity:1; fill:none\" points=\"\n",
       "  216.13,821.071 446.618,889.546 677.106,1105.55 907.595,1180.74 1138.08,1234.78 1368.57,1272.93 1599.06,1303.87 1829.55,1337.6 2060.04,1364.14 2290.52,1386.61 \n",
       "  \n",
       "  \"/>\n",
       "<polyline clip-path=\"url(#clip7502)\" style=\"stroke:#e26f46; stroke-width:4; stroke-opacity:1; fill:none\" points=\"\n",
       "  216.13,219.147 446.618,221.748 677.106,168.608 907.595,146.427 1138.08,134.699 1368.57,120.02 1599.06,111.926 1829.55,100.713 2060.04,92.4961 2290.52,86.2547 \n",
       "  \n",
       "  \"/>\n",
       "<polyline clip-path=\"url(#clip7502)\" style=\"stroke:#3da44d; stroke-width:4; stroke-opacity:1; fill:none\" points=\"\n",
       "  216.13,206.081 446.618,218.905 677.106,161.093 907.595,144.105 1138.08,127.445 1368.57,120.88 1599.06,108.537 1829.55,100.633 2060.04,95.3767 2290.52,90.917 \n",
       "  \n",
       "  \"/>\n",
       "<polyline clip-path=\"url(#clip7502)\" style=\"stroke:#c271d2; stroke-width:4; stroke-opacity:1; fill:none\" points=\"\n",
       "  677.106,2803.99 677.106,-1331.13 \n",
       "  \"/>\n",
       "<path clip-path=\"url(#clip7500)\" d=\"\n",
       "M1735.83 433.164 L2280.76 433.164 L2280.76 130.764 L1735.83 130.764  Z\n",
       "  \" fill=\"#ffffff\" fill-rule=\"evenodd\" fill-opacity=\"1\"/>\n",
       "<polyline clip-path=\"url(#clip7500)\" style=\"stroke:#000000; stroke-width:4; stroke-opacity:1; fill:none\" points=\"\n",
       "  1735.83,433.164 2280.76,433.164 2280.76,130.764 1735.83,130.764 1735.83,433.164 \n",
       "  \"/>\n",
       "<polyline clip-path=\"url(#clip7500)\" style=\"stroke:#009af9; stroke-width:4; stroke-opacity:1; fill:none\" points=\"\n",
       "  1759.83,191.244 1903.83,191.244 \n",
       "  \"/>\n",
       "<g clip-path=\"url(#clip7500)\">\n",
       "<text style=\"fill:#000000; fill-opacity:1; font-family:Arial,Helvetica Neue,Helvetica,sans-serif; font-size:48px; text-anchor:start;\" transform=\"rotate(0, 1927.83, 208.744)\" x=\"1927.83\" y=\"208.744\">Cost</text>\n",
       "</g>\n",
       "<polyline clip-path=\"url(#clip7500)\" style=\"stroke:#e26f46; stroke-width:4; stroke-opacity:1; fill:none\" points=\"\n",
       "  1759.83,251.724 1903.83,251.724 \n",
       "  \"/>\n",
       "<g clip-path=\"url(#clip7500)\">\n",
       "<text style=\"fill:#000000; fill-opacity:1; font-family:Arial,Helvetica Neue,Helvetica,sans-serif; font-size:48px; text-anchor:start;\" transform=\"rotate(0, 1927.83, 269.224)\" x=\"1927.83\" y=\"269.224\">Accuracy</text>\n",
       "</g>\n",
       "<polyline clip-path=\"url(#clip7500)\" style=\"stroke:#3da44d; stroke-width:4; stroke-opacity:1; fill:none\" points=\"\n",
       "  1759.83,312.204 1903.83,312.204 \n",
       "  \"/>\n",
       "<g clip-path=\"url(#clip7500)\">\n",
       "<text style=\"fill:#000000; fill-opacity:1; font-family:Arial,Helvetica Neue,Helvetica,sans-serif; font-size:48px; text-anchor:start;\" transform=\"rotate(0, 1927.83, 329.704)\" x=\"1927.83\" y=\"329.704\">Test Accuracy</text>\n",
       "</g>\n",
       "<polyline clip-path=\"url(#clip7500)\" style=\"stroke:#c271d2; stroke-width:4; stroke-opacity:1; fill:none\" points=\"\n",
       "  1759.83,372.684 1903.83,372.684 \n",
       "  \"/>\n",
       "<g clip-path=\"url(#clip7500)\">\n",
       "<text style=\"fill:#000000; fill-opacity:1; font-family:Arial,Helvetica Neue,Helvetica,sans-serif; font-size:48px; text-anchor:start;\" transform=\"rotate(0, 1927.83, 390.184)\" x=\"1927.83\" y=\"390.184\">SVD start</text>\n",
       "</g>\n",
       "</svg>\n"
      ]
     },
     "execution_count": 52,
     "metadata": {},
     "output_type": "execute_result"
    }
   ],
   "source": [
    "plot(costs, label = \"Cost\")\n",
    "plot!(accuracies, label = \"Accuracy\")\n",
    "plot!(test_accuracies, label = \"Test Accuracy\")\n",
    "xlabel!(\"Epochs\")\n",
    "vline!([2], label = \"SVD start\", legend = :best) # this was not placed in the correct position, sorry :-()"
   ]
  },
  {
   "cell_type": "code",
   "execution_count": 53,
   "metadata": {
    "ExecuteTime": {
     "end_time": "2020-05-28T22:30:16.487000+05:30",
     "start_time": "2020-05-28T16:59:45.794Z"
    },
    "scrolled": false
   },
   "outputs": [
    {
     "data": {
      "text/plain": [
       "10-element Array{Any,1}:\n",
       " 0.51119405f0\n",
       " 0.47031185f0\n",
       " 0.3413464f0 \n",
       " 0.2964593f0 \n",
       " 0.26419395f0\n",
       " 0.24141668f0\n",
       " 0.22294459f0\n",
       " 0.2028071f0 \n",
       " 0.18695717f0\n",
       " 0.17354536f0"
      ]
     },
     "execution_count": 53,
     "metadata": {},
     "output_type": "execute_result"
    }
   ],
   "source": [
    "costs_onefourth = copy(costs)"
   ]
  },
  {
   "cell_type": "markdown",
   "metadata": {},
   "source": [
    "## SVD 1/8"
   ]
  },
  {
   "cell_type": "code",
   "execution_count": 54,
   "metadata": {
    "ExecuteTime": {
     "end_time": "2020-05-28T22:30:32.748000+05:30",
     "start_time": "2020-05-28T17:00:32.666Z"
    }
   },
   "outputs": [
    {
     "data": {
      "text/plain": [
       "3-element Array{Union{Nothing, Integer},1}:\n",
       " 38       \n",
       " 21       \n",
       "   nothing"
      ]
     },
     "execution_count": 54,
     "metadata": {},
     "output_type": "execute_result"
    }
   ],
   "source": [
    "# set these values to be lesser than the above\n",
    "# nothing implies that the layer is not converted to SVDense\n",
    "l_values = map(x -> x ÷ 8, max_l_values)\n",
    "l_values = Array{Union{Nothing, Integer}}(l_values)\n",
    "l_values[end] = nothing # no SVD on the last layer, this gives much better results\n",
    "l_values"
   ]
  },
  {
   "cell_type": "code",
   "execution_count": 56,
   "metadata": {
    "ExecuteTime": {
     "end_time": "2020-05-28T22:32:30.308000+05:30",
     "start_time": "2020-05-28T17:01:57.570Z"
    },
    "scrolled": false
   },
   "outputs": [
    {
     "name": "stdout",
     "output_type": "stream",
     "text": [
      "Cost at epoch 1 is 0.5112786. Accuracy 0.8637558251096491. Test accuracy 0.8752108683628318\n",
      "Finished pre-training\n",
      "Built SVD model\n",
      "SVD Model: Accuracy 0.5243275424890351. Test accuracy 0.5153225248893805\n",
      "Begin tuning SVD model\n",
      "Cost at epoch 1 is 0.6623464. Accuracy 0.8235428659539473. Test accuracy 0.8367706028761062\n",
      "Cost at epoch 2 is 0.449996. Accuracy 0.865174410635965. Test accuracy 0.8716503042035398\n",
      "Cost at epoch 3 is 0.36978203. Accuracy 0.8906284265350877. Test accuracy 0.8957757190265486\n",
      "Cost at epoch 4 is 0.3272166. Accuracy 0.9038094503837719. Test accuracy 0.9084243639380531\n",
      "Cost at epoch 5 is 0.29851115. Accuracy 0.9102127878289473. Test accuracy 0.9134696487831858\n",
      "Cost at epoch 6 is 0.27435234. Accuracy 0.920458127741228. Test accuracy 0.9214446211283185\n",
      "Cost at epoch 7 is 0.25652635. Accuracy 0.9243301123903509. Test accuracy 0.927088806692478\n",
      "Cost at epoch 8 is 0.23978153. Accuracy 0.9296566611842105. Test accuracy 0.9319647054756637\n",
      "Cost at epoch 9 is 0.22492541. Accuracy 0.9349506578947369. Test accuracy 0.9343473451327433\n",
      "Final accuracy 0.9348735608552631\n"
     ]
    }
   ],
   "source": [
    "@timeit to \"Full training SVD 1/8\" train_epochs_svd!(model, l_values, loss, train_data, test_data, opt, opt2, 10)"
   ]
  },
  {
   "cell_type": "code",
   "execution_count": 57,
   "metadata": {
    "ExecuteTime": {
     "end_time": "2020-05-28T22:32:30.367000+05:30",
     "start_time": "2020-05-28T17:01:58.806Z"
    }
   },
   "outputs": [
    {
     "name": "stdout",
     "output_type": "stream",
     "text": [
      "\u001b[0m\u001b[1m ──────────────────────────────────────────────────────────────────────────────\u001b[22m\n",
      "\u001b[0m\u001b[1m                               \u001b[22m        Time                   Allocations      \n",
      "                               ──────────────────────   ───────────────────────\n",
      "       Tot / % measured:             779s / 25.3%            120GiB / 98.2%    \n",
      "\n",
      " Section               ncalls     time   %tot     avg     alloc   %tot      avg\n",
      " ──────────────────────────────────────────────────────────────────────────────\n",
      " Full training SVD          3    74.8s  37.9%   24.9s   39.2GiB  33.2%  13.1GiB\n",
      "   Tuning SVD model         2    45.6s  23.1%   22.8s   27.4GiB  23.3%  13.7GiB\n",
      "     [SVD] Train on...     11    26.4s  13.4%   2.40s   14.7GiB  12.5%  1.34GiB\n",
      "       Calculate gr...    305    20.7s  10.5%  67.8ms   12.3GiB  10.4%  41.3MiB\n",
      "       Update params      304    3.48s  1.76%  11.4ms    626MiB  0.52%  2.06MiB\n",
      "       Get params          11   29.3ms  0.01%  2.67ms   1.49MiB  0.00%   139KiB\n",
      "     [SVD] Calculat...     10    9.37s  4.75%   937ms   5.91GiB  5.02%   605MiB\n",
      "     [SVD] Calculat...     10    8.16s  4.14%   816ms   5.85GiB  4.96%   599MiB\n",
      "     [SVD] Calculat...     10    1.60s  0.81%   160ms   0.99GiB  0.84%   101MiB\n",
      "   Pre-training             3    22.8s  11.6%   7.61s   9.66GiB  8.19%  3.22GiB\n",
      "     Train one epoch        4    14.3s  7.26%   3.58s   5.69GiB  4.83%  1.42GiB\n",
      "       Calculate gr...    120    11.2s  5.70%  93.7ms   4.51GiB  3.83%  38.5MiB\n",
      "       Update params      120    2.34s  1.18%  19.5ms    492MiB  0.41%  4.10MiB\n",
      "       Get params           4    209μs  0.00%  52.2μs   5.19KiB  0.00%  1.30KiB\n",
      "     Calculate cost         4    4.61s  2.34%   1.15s   2.08GiB  1.77%   533MiB\n",
      "     Calculate accu...      3    3.31s  1.68%   1.10s   1.61GiB  1.37%   551MiB\n",
      "     Calculate test...      3    541ms  0.27%   180ms    275MiB  0.23%  91.8MiB\n",
      "   Build SVD model          2    1.43s  0.72%   714ms   58.2MiB  0.05%  29.1MiB\n",
      "   Update weights o...      1    323ms  0.16%   323ms   9.76MiB  0.01%  9.76MiB\n",
      " Full training              1    54.1s  27.4%   54.1s   25.8GiB  21.9%  25.8GiB\n",
      "   Train one step          10    31.7s  16.1%   3.17s   14.2GiB  12.1%  1.42GiB\n",
      "     Calculate grad...    300    23.2s  11.7%  77.2ms   11.2GiB  9.54%  38.4MiB\n",
      "     Update params        300    6.53s  3.31%  21.8ms   1.20GiB  1.02%  4.10MiB\n",
      "     Get params            10    903μs  0.00%  90.3μs   13.0KiB  0.00%  1.30KiB\n",
      "   Calculate accuracy      10    10.8s  5.48%   1.08s   5.38GiB  4.56%   551MiB\n",
      "   Calculate cost          10    9.61s  4.87%   961ms   5.31GiB  4.51%   544MiB\n",
      "   Calculate test a...     10    1.88s  0.95%   188ms    918MiB  0.76%  91.8MiB\n",
      " Full training SVD 1/4      1    35.6s  18.1%   35.6s   26.8GiB  22.7%  26.8GiB\n",
      "   Tuning SVD model         1    27.1s  13.8%   27.1s   23.0GiB  19.5%  23.0GiB\n",
      "     [SVD] Train on...      9    14.7s  7.46%   1.64s   12.1GiB  10.2%  1.34GiB\n",
      "       Calculate gr...    270    11.7s  5.93%  43.3ms   10.2GiB  8.65%  38.7MiB\n",
      "       Update params      270    1.42s  0.72%  5.25ms    282MiB  0.23%  1.04MiB\n",
      "       Get params           9    442μs  0.00%  49.1μs   13.5KiB  0.00%  1.50KiB\n",
      "     [SVD] Calculat...      9    5.94s  3.01%   660ms   5.08GiB  4.31%   578MiB\n",
      "     [SVD] Calculat...      9    5.39s  2.73%   598ms   5.02GiB  4.26%   571MiB\n",
      "     [SVD] Calculat...      9    991ms  0.50%   110ms    867MiB  0.72%  96.3MiB\n",
      "   Pre-training             1    5.98s  3.03%   5.98s   2.59GiB  2.19%  2.59GiB\n",
      "     Train one epoch        1    3.45s  1.75%   3.45s   1.43GiB  1.21%  1.43GiB\n",
      "       Calculate gr...     30    2.74s  1.39%  91.2ms   1.13GiB  0.96%  38.6MiB\n",
      "       Update params       30    531ms  0.27%  17.7ms    123MiB  0.10%  4.10MiB\n",
      "       Get params           1   40.8μs  0.00%  40.8μs   1.30KiB  0.00%  1.30KiB\n",
      "     Calculate accu...      1    1.15s  0.58%   1.15s    551MiB  0.46%   551MiB\n",
      "     Calculate cost         1    1.02s  0.52%   1.02s    544MiB  0.45%   544MiB\n",
      "     Calculate test...      1    346ms  0.18%   346ms   91.8MiB  0.08%  91.8MiB\n",
      "   Build SVD model          1    383ms  0.19%   383ms   10.2MiB  0.01%  10.2MiB\n",
      "   Update weights o...      1   37.9ms  0.02%  37.9ms   2.03MiB  0.00%  2.03MiB\n",
      " Full training SVD 1/8      1    32.7s  16.6%   32.7s   26.1GiB  22.1%  26.1GiB\n",
      "   Tuning SVD model         1    23.9s  12.1%   23.9s   22.3GiB  18.9%  22.3GiB\n",
      "     [SVD] Train on...      9    12.5s  6.34%   1.39s   11.6GiB  9.86%  1.29GiB\n",
      "       Calculate gr...    270    10.0s  5.06%  37.0ms   9.89GiB  8.39%  37.5MiB\n",
      "       Update params      270    852ms  0.43%  3.16ms    145MiB  0.12%   549KiB\n",
      "       Get params           9    551μs  0.00%  61.2μs   13.5KiB  0.00%  1.50KiB\n",
      "     [SVD] Calculat...      9    5.78s  2.93%   642ms   4.96GiB  4.21%   564MiB\n",
      "     [SVD] Calculat...      9    4.61s  2.34%   512ms   4.90GiB  4.16%   558MiB\n",
      "     [SVD] Calculat...      9    984ms  0.50%   109ms    846MiB  0.70%  94.0MiB\n",
      "   Pre-training             1    6.17s  3.13%   6.17s   2.59GiB  2.19%  2.59GiB\n",
      "     Train one epoch        1    3.57s  1.81%   3.57s   1.43GiB  1.21%  1.43GiB\n",
      "       Calculate gr...     30    2.82s  1.43%  94.0ms   1.13GiB  0.96%  38.6MiB\n",
      "       Update params       30    568ms  0.29%  18.9ms    123MiB  0.10%  4.10MiB\n",
      "       Get params           1   33.3μs  0.00%  33.3μs   1.30KiB  0.00%  1.30KiB\n",
      "     Calculate accu...      1    1.40s  0.71%   1.40s    551MiB  0.46%   551MiB\n",
      "     Calculate cost         1    1.03s  0.52%   1.03s    544MiB  0.45%   544MiB\n",
      "     Calculate test...      1    153ms  0.08%   153ms   91.8MiB  0.08%  91.8MiB\n",
      "   Build SVD model          1    530ms  0.27%   530ms   9.79MiB  0.01%  9.79MiB\n",
      "   Update weights o...      1   14.9ms  0.01%  14.9ms   2.03MiB  0.00%  2.03MiB\n",
      "\u001b[0m\u001b[1m ──────────────────────────────────────────────────────────────────────────────\u001b[22m"
     ]
    }
   ],
   "source": [
    "print_timer(to)"
   ]
  },
  {
   "cell_type": "code",
   "execution_count": 58,
   "metadata": {
    "ExecuteTime": {
     "end_time": "2020-05-28T22:32:30.409000+05:30",
     "start_time": "2020-05-28T17:02:00.948Z"
    },
    "scrolled": false
   },
   "outputs": [
    {
     "data": {
      "image/svg+xml": [
       "<?xml version=\"1.0\" encoding=\"utf-8\"?>\n",
       "<svg xmlns=\"http://www.w3.org/2000/svg\" xmlns:xlink=\"http://www.w3.org/1999/xlink\" width=\"600\" height=\"400\" viewBox=\"0 0 2400 1600\">\n",
       "<defs>\n",
       "  <clipPath id=\"clip7900\">\n",
       "    <rect x=\"0\" y=\"0\" width=\"2400\" height=\"1600\"/>\n",
       "  </clipPath>\n",
       "</defs>\n",
       "<path clip-path=\"url(#clip7900)\" d=\"\n",
       "M0 1600 L2400 1600 L2400 0 L0 0  Z\n",
       "  \" fill=\"#ffffff\" fill-rule=\"evenodd\" fill-opacity=\"1\"/>\n",
       "<defs>\n",
       "  <clipPath id=\"clip7901\">\n",
       "    <rect x=\"480\" y=\"0\" width=\"1681\" height=\"1600\"/>\n",
       "  </clipPath>\n",
       "</defs>\n",
       "<path clip-path=\"url(#clip7900)\" d=\"\n",
       "M153.898 1425.62 L2352.76 1425.62 L2352.76 47.2441 L153.898 47.2441  Z\n",
       "  \" fill=\"#ffffff\" fill-rule=\"evenodd\" fill-opacity=\"1\"/>\n",
       "<defs>\n",
       "  <clipPath id=\"clip7902\">\n",
       "    <rect x=\"153\" y=\"47\" width=\"2200\" height=\"1379\"/>\n",
       "  </clipPath>\n",
       "</defs>\n",
       "<polyline clip-path=\"url(#clip7902)\" style=\"stroke:#000000; stroke-width:2; stroke-opacity:0.1; fill:none\" points=\"\n",
       "  446.618,1425.62 446.618,47.2441 \n",
       "  \"/>\n",
       "<polyline clip-path=\"url(#clip7902)\" style=\"stroke:#000000; stroke-width:2; stroke-opacity:0.1; fill:none\" points=\"\n",
       "  907.595,1425.62 907.595,47.2441 \n",
       "  \"/>\n",
       "<polyline clip-path=\"url(#clip7902)\" style=\"stroke:#000000; stroke-width:2; stroke-opacity:0.1; fill:none\" points=\"\n",
       "  1368.57,1425.62 1368.57,47.2441 \n",
       "  \"/>\n",
       "<polyline clip-path=\"url(#clip7902)\" style=\"stroke:#000000; stroke-width:2; stroke-opacity:0.1; fill:none\" points=\"\n",
       "  1829.55,1425.62 1829.55,47.2441 \n",
       "  \"/>\n",
       "<polyline clip-path=\"url(#clip7902)\" style=\"stroke:#000000; stroke-width:2; stroke-opacity:0.1; fill:none\" points=\"\n",
       "  2290.52,1425.62 2290.52,47.2441 \n",
       "  \"/>\n",
       "<polyline clip-path=\"url(#clip7902)\" style=\"stroke:#000000; stroke-width:2; stroke-opacity:0.1; fill:none\" points=\"\n",
       "  153.898,1249.12 2352.76,1249.12 \n",
       "  \"/>\n",
       "<polyline clip-path=\"url(#clip7902)\" style=\"stroke:#000000; stroke-width:2; stroke-opacity:0.1; fill:none\" points=\"\n",
       "  153.898,1065.97 2352.76,1065.97 \n",
       "  \"/>\n",
       "<polyline clip-path=\"url(#clip7902)\" style=\"stroke:#000000; stroke-width:2; stroke-opacity:0.1; fill:none\" points=\"\n",
       "  153.898,882.831 2352.76,882.831 \n",
       "  \"/>\n",
       "<polyline clip-path=\"url(#clip7902)\" style=\"stroke:#000000; stroke-width:2; stroke-opacity:0.1; fill:none\" points=\"\n",
       "  153.898,699.69 2352.76,699.69 \n",
       "  \"/>\n",
       "<polyline clip-path=\"url(#clip7902)\" style=\"stroke:#000000; stroke-width:2; stroke-opacity:0.1; fill:none\" points=\"\n",
       "  153.898,516.548 2352.76,516.548 \n",
       "  \"/>\n",
       "<polyline clip-path=\"url(#clip7902)\" style=\"stroke:#000000; stroke-width:2; stroke-opacity:0.1; fill:none\" points=\"\n",
       "  153.898,333.406 2352.76,333.406 \n",
       "  \"/>\n",
       "<polyline clip-path=\"url(#clip7902)\" style=\"stroke:#000000; stroke-width:2; stroke-opacity:0.1; fill:none\" points=\"\n",
       "  153.898,150.264 2352.76,150.264 \n",
       "  \"/>\n",
       "<polyline clip-path=\"url(#clip7900)\" style=\"stroke:#000000; stroke-width:4; stroke-opacity:1; fill:none\" points=\"\n",
       "  153.898,1425.62 2352.76,1425.62 \n",
       "  \"/>\n",
       "<polyline clip-path=\"url(#clip7900)\" style=\"stroke:#000000; stroke-width:4; stroke-opacity:1; fill:none\" points=\"\n",
       "  153.898,1425.62 153.898,47.2441 \n",
       "  \"/>\n",
       "<polyline clip-path=\"url(#clip7900)\" style=\"stroke:#000000; stroke-width:4; stroke-opacity:1; fill:none\" points=\"\n",
       "  446.618,1425.62 446.618,1409.08 \n",
       "  \"/>\n",
       "<polyline clip-path=\"url(#clip7900)\" style=\"stroke:#000000; stroke-width:4; stroke-opacity:1; fill:none\" points=\"\n",
       "  907.595,1425.62 907.595,1409.08 \n",
       "  \"/>\n",
       "<polyline clip-path=\"url(#clip7900)\" style=\"stroke:#000000; stroke-width:4; stroke-opacity:1; fill:none\" points=\"\n",
       "  1368.57,1425.62 1368.57,1409.08 \n",
       "  \"/>\n",
       "<polyline clip-path=\"url(#clip7900)\" style=\"stroke:#000000; stroke-width:4; stroke-opacity:1; fill:none\" points=\"\n",
       "  1829.55,1425.62 1829.55,1409.08 \n",
       "  \"/>\n",
       "<polyline clip-path=\"url(#clip7900)\" style=\"stroke:#000000; stroke-width:4; stroke-opacity:1; fill:none\" points=\"\n",
       "  2290.52,1425.62 2290.52,1409.08 \n",
       "  \"/>\n",
       "<polyline clip-path=\"url(#clip7900)\" style=\"stroke:#000000; stroke-width:4; stroke-opacity:1; fill:none\" points=\"\n",
       "  153.898,1249.12 180.284,1249.12 \n",
       "  \"/>\n",
       "<polyline clip-path=\"url(#clip7900)\" style=\"stroke:#000000; stroke-width:4; stroke-opacity:1; fill:none\" points=\"\n",
       "  153.898,1065.97 180.284,1065.97 \n",
       "  \"/>\n",
       "<polyline clip-path=\"url(#clip7900)\" style=\"stroke:#000000; stroke-width:4; stroke-opacity:1; fill:none\" points=\"\n",
       "  153.898,882.831 180.284,882.831 \n",
       "  \"/>\n",
       "<polyline clip-path=\"url(#clip7900)\" style=\"stroke:#000000; stroke-width:4; stroke-opacity:1; fill:none\" points=\"\n",
       "  153.898,699.69 180.284,699.69 \n",
       "  \"/>\n",
       "<polyline clip-path=\"url(#clip7900)\" style=\"stroke:#000000; stroke-width:4; stroke-opacity:1; fill:none\" points=\"\n",
       "  153.898,516.548 180.284,516.548 \n",
       "  \"/>\n",
       "<polyline clip-path=\"url(#clip7900)\" style=\"stroke:#000000; stroke-width:4; stroke-opacity:1; fill:none\" points=\"\n",
       "  153.898,333.406 180.284,333.406 \n",
       "  \"/>\n",
       "<polyline clip-path=\"url(#clip7900)\" style=\"stroke:#000000; stroke-width:4; stroke-opacity:1; fill:none\" points=\"\n",
       "  153.898,150.264 180.284,150.264 \n",
       "  \"/>\n",
       "<g clip-path=\"url(#clip7900)\">\n",
       "<text style=\"fill:#000000; fill-opacity:1; font-family:Arial,Helvetica Neue,Helvetica,sans-serif; font-size:48px; text-anchor:middle;\" transform=\"rotate(0, 446.618, 1479.62)\" x=\"446.618\" y=\"1479.62\">2</text>\n",
       "</g>\n",
       "<g clip-path=\"url(#clip7900)\">\n",
       "<text style=\"fill:#000000; fill-opacity:1; font-family:Arial,Helvetica Neue,Helvetica,sans-serif; font-size:48px; text-anchor:middle;\" transform=\"rotate(0, 907.595, 1479.62)\" x=\"907.595\" y=\"1479.62\">4</text>\n",
       "</g>\n",
       "<g clip-path=\"url(#clip7900)\">\n",
       "<text style=\"fill:#000000; fill-opacity:1; font-family:Arial,Helvetica Neue,Helvetica,sans-serif; font-size:48px; text-anchor:middle;\" transform=\"rotate(0, 1368.57, 1479.62)\" x=\"1368.57\" y=\"1479.62\">6</text>\n",
       "</g>\n",
       "<g clip-path=\"url(#clip7900)\">\n",
       "<text style=\"fill:#000000; fill-opacity:1; font-family:Arial,Helvetica Neue,Helvetica,sans-serif; font-size:48px; text-anchor:middle;\" transform=\"rotate(0, 1829.55, 1479.62)\" x=\"1829.55\" y=\"1479.62\">8</text>\n",
       "</g>\n",
       "<g clip-path=\"url(#clip7900)\">\n",
       "<text style=\"fill:#000000; fill-opacity:1; font-family:Arial,Helvetica Neue,Helvetica,sans-serif; font-size:48px; text-anchor:middle;\" transform=\"rotate(0, 2290.52, 1479.62)\" x=\"2290.52\" y=\"1479.62\">10</text>\n",
       "</g>\n",
       "<g clip-path=\"url(#clip7900)\">\n",
       "<text style=\"fill:#000000; fill-opacity:1; font-family:Arial,Helvetica Neue,Helvetica,sans-serif; font-size:48px; text-anchor:end;\" transform=\"rotate(0, 129.898, 1266.62)\" x=\"129.898\" y=\"1266.62\">0.3</text>\n",
       "</g>\n",
       "<g clip-path=\"url(#clip7900)\">\n",
       "<text style=\"fill:#000000; fill-opacity:1; font-family:Arial,Helvetica Neue,Helvetica,sans-serif; font-size:48px; text-anchor:end;\" transform=\"rotate(0, 129.898, 1083.47)\" x=\"129.898\" y=\"1083.47\">0.4</text>\n",
       "</g>\n",
       "<g clip-path=\"url(#clip7900)\">\n",
       "<text style=\"fill:#000000; fill-opacity:1; font-family:Arial,Helvetica Neue,Helvetica,sans-serif; font-size:48px; text-anchor:end;\" transform=\"rotate(0, 129.898, 900.331)\" x=\"129.898\" y=\"900.331\">0.5</text>\n",
       "</g>\n",
       "<g clip-path=\"url(#clip7900)\">\n",
       "<text style=\"fill:#000000; fill-opacity:1; font-family:Arial,Helvetica Neue,Helvetica,sans-serif; font-size:48px; text-anchor:end;\" transform=\"rotate(0, 129.898, 717.19)\" x=\"129.898\" y=\"717.19\">0.6</text>\n",
       "</g>\n",
       "<g clip-path=\"url(#clip7900)\">\n",
       "<text style=\"fill:#000000; fill-opacity:1; font-family:Arial,Helvetica Neue,Helvetica,sans-serif; font-size:48px; text-anchor:end;\" transform=\"rotate(0, 129.898, 534.048)\" x=\"129.898\" y=\"534.048\">0.7</text>\n",
       "</g>\n",
       "<g clip-path=\"url(#clip7900)\">\n",
       "<text style=\"fill:#000000; fill-opacity:1; font-family:Arial,Helvetica Neue,Helvetica,sans-serif; font-size:48px; text-anchor:end;\" transform=\"rotate(0, 129.898, 350.906)\" x=\"129.898\" y=\"350.906\">0.8</text>\n",
       "</g>\n",
       "<g clip-path=\"url(#clip7900)\">\n",
       "<text style=\"fill:#000000; fill-opacity:1; font-family:Arial,Helvetica Neue,Helvetica,sans-serif; font-size:48px; text-anchor:end;\" transform=\"rotate(0, 129.898, 167.764)\" x=\"129.898\" y=\"167.764\">0.9</text>\n",
       "</g>\n",
       "<g clip-path=\"url(#clip7900)\">\n",
       "<text style=\"fill:#000000; fill-opacity:1; font-family:Arial,Helvetica Neue,Helvetica,sans-serif; font-size:66px; text-anchor:middle;\" transform=\"rotate(0, 1253.33, 1559.48)\" x=\"1253.33\" y=\"1559.48\">Epochs</text>\n",
       "</g>\n",
       "<polyline clip-path=\"url(#clip7902)\" style=\"stroke:#009af9; stroke-width:4; stroke-opacity:1; fill:none\" points=\"\n",
       "  216.13,862.175 446.618,585.507 677.106,974.41 907.595,1121.31 1138.08,1199.27 1368.57,1251.84 1599.06,1296.09 1829.55,1328.73 2060.04,1359.4 2290.52,1386.61 \n",
       "  \n",
       "  \"/>\n",
       "<polyline clip-path=\"url(#clip7902)\" style=\"stroke:#e26f46; stroke-width:4; stroke-opacity:1; fill:none\" points=\"\n",
       "  216.13,216.642 446.618,290.289 677.106,214.044 907.595,167.427 1138.08,143.287 1368.57,131.56 1599.06,112.797 1829.55,105.705 2060.04,95.9502 2290.52,86.2547 \n",
       "  \n",
       "  \"/>\n",
       "<polyline clip-path=\"url(#clip7902)\" style=\"stroke:#3da44d; stroke-width:4; stroke-opacity:1; fill:none\" points=\"\n",
       "  216.13,195.663 446.618,266.063 677.106,202.184 907.595,158 1138.08,134.835 1368.57,125.595 1599.06,110.99 1829.55,100.653 2060.04,91.7232 2290.52,87.3596 \n",
       "  \n",
       "  \"/>\n",
       "<polyline clip-path=\"url(#clip7902)\" style=\"stroke:#c271d2; stroke-width:4; stroke-opacity:1; fill:none\" points=\"\n",
       "  677.106,2803.99 677.106,-1331.13 \n",
       "  \"/>\n",
       "<path clip-path=\"url(#clip7900)\" d=\"\n",
       "M1735.83 433.164 L2280.76 433.164 L2280.76 130.764 L1735.83 130.764  Z\n",
       "  \" fill=\"#ffffff\" fill-rule=\"evenodd\" fill-opacity=\"1\"/>\n",
       "<polyline clip-path=\"url(#clip7900)\" style=\"stroke:#000000; stroke-width:4; stroke-opacity:1; fill:none\" points=\"\n",
       "  1735.83,433.164 2280.76,433.164 2280.76,130.764 1735.83,130.764 1735.83,433.164 \n",
       "  \"/>\n",
       "<polyline clip-path=\"url(#clip7900)\" style=\"stroke:#009af9; stroke-width:4; stroke-opacity:1; fill:none\" points=\"\n",
       "  1759.83,191.244 1903.83,191.244 \n",
       "  \"/>\n",
       "<g clip-path=\"url(#clip7900)\">\n",
       "<text style=\"fill:#000000; fill-opacity:1; font-family:Arial,Helvetica Neue,Helvetica,sans-serif; font-size:48px; text-anchor:start;\" transform=\"rotate(0, 1927.83, 208.744)\" x=\"1927.83\" y=\"208.744\">Cost</text>\n",
       "</g>\n",
       "<polyline clip-path=\"url(#clip7900)\" style=\"stroke:#e26f46; stroke-width:4; stroke-opacity:1; fill:none\" points=\"\n",
       "  1759.83,251.724 1903.83,251.724 \n",
       "  \"/>\n",
       "<g clip-path=\"url(#clip7900)\">\n",
       "<text style=\"fill:#000000; fill-opacity:1; font-family:Arial,Helvetica Neue,Helvetica,sans-serif; font-size:48px; text-anchor:start;\" transform=\"rotate(0, 1927.83, 269.224)\" x=\"1927.83\" y=\"269.224\">Accuracy</text>\n",
       "</g>\n",
       "<polyline clip-path=\"url(#clip7900)\" style=\"stroke:#3da44d; stroke-width:4; stroke-opacity:1; fill:none\" points=\"\n",
       "  1759.83,312.204 1903.83,312.204 \n",
       "  \"/>\n",
       "<g clip-path=\"url(#clip7900)\">\n",
       "<text style=\"fill:#000000; fill-opacity:1; font-family:Arial,Helvetica Neue,Helvetica,sans-serif; font-size:48px; text-anchor:start;\" transform=\"rotate(0, 1927.83, 329.704)\" x=\"1927.83\" y=\"329.704\">Test Accuracy</text>\n",
       "</g>\n",
       "<polyline clip-path=\"url(#clip7900)\" style=\"stroke:#c271d2; stroke-width:4; stroke-opacity:1; fill:none\" points=\"\n",
       "  1759.83,372.684 1903.83,372.684 \n",
       "  \"/>\n",
       "<g clip-path=\"url(#clip7900)\">\n",
       "<text style=\"fill:#000000; fill-opacity:1; font-family:Arial,Helvetica Neue,Helvetica,sans-serif; font-size:48px; text-anchor:start;\" transform=\"rotate(0, 1927.83, 390.184)\" x=\"1927.83\" y=\"390.184\">SVD start</text>\n",
       "</g>\n",
       "</svg>\n"
      ]
     },
     "execution_count": 58,
     "metadata": {},
     "output_type": "execute_result"
    }
   ],
   "source": [
    "plot(costs, label = \"Cost\")\n",
    "plot!(accuracies, label = \"Accuracy\")\n",
    "plot!(test_accuracies, label = \"Test Accuracy\")\n",
    "xlabel!(\"Epochs\")\n",
    "vline!([2], label = \"SVD start\", legend = :best)  # this was not placed in the correct position, sorry :-()"
   ]
  },
  {
   "cell_type": "code",
   "execution_count": 59,
   "metadata": {
    "ExecuteTime": {
     "end_time": "2020-05-28T22:32:30.413000+05:30",
     "start_time": "2020-05-28T17:02:01.455Z"
    }
   },
   "outputs": [
    {
     "data": {
      "text/plain": [
       "10-element Array{Any,1}:\n",
       " 0.5112786f0 \n",
       " 0.6623464f0 \n",
       " 0.449996f0  \n",
       " 0.36978203f0\n",
       " 0.3272166f0 \n",
       " 0.29851115f0\n",
       " 0.27435234f0\n",
       " 0.25652635f0\n",
       " 0.23978153f0\n",
       " 0.22492541f0"
      ]
     },
     "execution_count": 59,
     "metadata": {},
     "output_type": "execute_result"
    }
   ],
   "source": [
    "costs_oneeight = copy(costs)"
   ]
  },
  {
   "cell_type": "markdown",
   "metadata": {},
   "source": [
    "## Compare 1/2, 1/4, 1/8"
   ]
  },
  {
   "cell_type": "markdown",
   "metadata": {},
   "source": [
    "The below graph shows how the cost is affected with the hyperparameter α (which as defined earlier indicates the fraction of singular values to keep in Truncated SVD).\n",
    "\n",
    "With an α of 1/2, the model training is not affected at all while an α of 1/4 affects the training slightly. With α=1/8, the training is very heavily impacted."
   ]
  },
  {
   "cell_type": "code",
   "execution_count": 66,
   "metadata": {
    "ExecuteTime": {
     "end_time": "2020-05-28T22:37:49.580000+05:30",
     "start_time": "2020-05-28T17:07:49.398Z"
    }
   },
   "outputs": [
    {
     "data": {
      "image/svg+xml": [
       "<?xml version=\"1.0\" encoding=\"utf-8\"?>\n",
       "<svg xmlns=\"http://www.w3.org/2000/svg\" xmlns:xlink=\"http://www.w3.org/1999/xlink\" width=\"600\" height=\"400\" viewBox=\"0 0 2400 1600\">\n",
       "<defs>\n",
       "  <clipPath id=\"clip9500\">\n",
       "    <rect x=\"0\" y=\"0\" width=\"2400\" height=\"1600\"/>\n",
       "  </clipPath>\n",
       "</defs>\n",
       "<path clip-path=\"url(#clip9500)\" d=\"\n",
       "M0 1600 L2400 1600 L2400 0 L0 0  Z\n",
       "  \" fill=\"#ffffff\" fill-rule=\"evenodd\" fill-opacity=\"1\"/>\n",
       "<defs>\n",
       "  <clipPath id=\"clip9501\">\n",
       "    <rect x=\"480\" y=\"0\" width=\"1681\" height=\"1600\"/>\n",
       "  </clipPath>\n",
       "</defs>\n",
       "<path clip-path=\"url(#clip9500)\" d=\"\n",
       "M215.754 1425.62 L2352.76 1425.62 L2352.76 47.2441 L215.754 47.2441  Z\n",
       "  \" fill=\"#ffffff\" fill-rule=\"evenodd\" fill-opacity=\"1\"/>\n",
       "<defs>\n",
       "  <clipPath id=\"clip9502\">\n",
       "    <rect x=\"215\" y=\"47\" width=\"2138\" height=\"1379\"/>\n",
       "  </clipPath>\n",
       "</defs>\n",
       "<polyline clip-path=\"url(#clip9502)\" style=\"stroke:#000000; stroke-width:2; stroke-opacity:0.1; fill:none\" points=\"\n",
       "  500.24,1425.62 500.24,47.2441 \n",
       "  \"/>\n",
       "<polyline clip-path=\"url(#clip9502)\" style=\"stroke:#000000; stroke-width:2; stroke-opacity:0.1; fill:none\" points=\"\n",
       "  948.248,1425.62 948.248,47.2441 \n",
       "  \"/>\n",
       "<polyline clip-path=\"url(#clip9502)\" style=\"stroke:#000000; stroke-width:2; stroke-opacity:0.1; fill:none\" points=\"\n",
       "  1396.26,1425.62 1396.26,47.2441 \n",
       "  \"/>\n",
       "<polyline clip-path=\"url(#clip9502)\" style=\"stroke:#000000; stroke-width:2; stroke-opacity:0.1; fill:none\" points=\"\n",
       "  1844.27,1425.62 1844.27,47.2441 \n",
       "  \"/>\n",
       "<polyline clip-path=\"url(#clip9502)\" style=\"stroke:#000000; stroke-width:2; stroke-opacity:0.1; fill:none\" points=\"\n",
       "  2292.27,1425.62 2292.27,47.2441 \n",
       "  \"/>\n",
       "<polyline clip-path=\"url(#clip9502)\" style=\"stroke:#000000; stroke-width:2; stroke-opacity:0.1; fill:none\" points=\"\n",
       "  215.754,1400.58 2352.76,1400.58 \n",
       "  \"/>\n",
       "<polyline clip-path=\"url(#clip9502)\" style=\"stroke:#000000; stroke-width:2; stroke-opacity:0.1; fill:none\" points=\"\n",
       "  215.754,1166.86 2352.76,1166.86 \n",
       "  \"/>\n",
       "<polyline clip-path=\"url(#clip9502)\" style=\"stroke:#000000; stroke-width:2; stroke-opacity:0.1; fill:none\" points=\"\n",
       "  215.754,933.138 2352.76,933.138 \n",
       "  \"/>\n",
       "<polyline clip-path=\"url(#clip9502)\" style=\"stroke:#000000; stroke-width:2; stroke-opacity:0.1; fill:none\" points=\"\n",
       "  215.754,699.416 2352.76,699.416 \n",
       "  \"/>\n",
       "<polyline clip-path=\"url(#clip9502)\" style=\"stroke:#000000; stroke-width:2; stroke-opacity:0.1; fill:none\" points=\"\n",
       "  215.754,465.694 2352.76,465.694 \n",
       "  \"/>\n",
       "<polyline clip-path=\"url(#clip9502)\" style=\"stroke:#000000; stroke-width:2; stroke-opacity:0.1; fill:none\" points=\"\n",
       "  215.754,231.972 2352.76,231.972 \n",
       "  \"/>\n",
       "<polyline clip-path=\"url(#clip9500)\" style=\"stroke:#000000; stroke-width:4; stroke-opacity:1; fill:none\" points=\"\n",
       "  215.754,1425.62 2352.76,1425.62 \n",
       "  \"/>\n",
       "<polyline clip-path=\"url(#clip9500)\" style=\"stroke:#000000; stroke-width:4; stroke-opacity:1; fill:none\" points=\"\n",
       "  215.754,1425.62 215.754,47.2441 \n",
       "  \"/>\n",
       "<polyline clip-path=\"url(#clip9500)\" style=\"stroke:#000000; stroke-width:4; stroke-opacity:1; fill:none\" points=\"\n",
       "  500.24,1425.62 500.24,1409.08 \n",
       "  \"/>\n",
       "<polyline clip-path=\"url(#clip9500)\" style=\"stroke:#000000; stroke-width:4; stroke-opacity:1; fill:none\" points=\"\n",
       "  948.248,1425.62 948.248,1409.08 \n",
       "  \"/>\n",
       "<polyline clip-path=\"url(#clip9500)\" style=\"stroke:#000000; stroke-width:4; stroke-opacity:1; fill:none\" points=\"\n",
       "  1396.26,1425.62 1396.26,1409.08 \n",
       "  \"/>\n",
       "<polyline clip-path=\"url(#clip9500)\" style=\"stroke:#000000; stroke-width:4; stroke-opacity:1; fill:none\" points=\"\n",
       "  1844.27,1425.62 1844.27,1409.08 \n",
       "  \"/>\n",
       "<polyline clip-path=\"url(#clip9500)\" style=\"stroke:#000000; stroke-width:4; stroke-opacity:1; fill:none\" points=\"\n",
       "  2292.27,1425.62 2292.27,1409.08 \n",
       "  \"/>\n",
       "<polyline clip-path=\"url(#clip9500)\" style=\"stroke:#000000; stroke-width:4; stroke-opacity:1; fill:none\" points=\"\n",
       "  215.754,1400.58 241.398,1400.58 \n",
       "  \"/>\n",
       "<polyline clip-path=\"url(#clip9500)\" style=\"stroke:#000000; stroke-width:4; stroke-opacity:1; fill:none\" points=\"\n",
       "  215.754,1166.86 241.398,1166.86 \n",
       "  \"/>\n",
       "<polyline clip-path=\"url(#clip9500)\" style=\"stroke:#000000; stroke-width:4; stroke-opacity:1; fill:none\" points=\"\n",
       "  215.754,933.138 241.398,933.138 \n",
       "  \"/>\n",
       "<polyline clip-path=\"url(#clip9500)\" style=\"stroke:#000000; stroke-width:4; stroke-opacity:1; fill:none\" points=\"\n",
       "  215.754,699.416 241.398,699.416 \n",
       "  \"/>\n",
       "<polyline clip-path=\"url(#clip9500)\" style=\"stroke:#000000; stroke-width:4; stroke-opacity:1; fill:none\" points=\"\n",
       "  215.754,465.694 241.398,465.694 \n",
       "  \"/>\n",
       "<polyline clip-path=\"url(#clip9500)\" style=\"stroke:#000000; stroke-width:4; stroke-opacity:1; fill:none\" points=\"\n",
       "  215.754,231.972 241.398,231.972 \n",
       "  \"/>\n",
       "<g clip-path=\"url(#clip9500)\">\n",
       "<text style=\"fill:#000000; fill-opacity:1; font-family:Arial,Helvetica Neue,Helvetica,sans-serif; font-size:48px; text-anchor:middle;\" transform=\"rotate(0, 500.24, 1479.62)\" x=\"500.24\" y=\"1479.62\">2</text>\n",
       "</g>\n",
       "<g clip-path=\"url(#clip9500)\">\n",
       "<text style=\"fill:#000000; fill-opacity:1; font-family:Arial,Helvetica Neue,Helvetica,sans-serif; font-size:48px; text-anchor:middle;\" transform=\"rotate(0, 948.248, 1479.62)\" x=\"948.248\" y=\"1479.62\">4</text>\n",
       "</g>\n",
       "<g clip-path=\"url(#clip9500)\">\n",
       "<text style=\"fill:#000000; fill-opacity:1; font-family:Arial,Helvetica Neue,Helvetica,sans-serif; font-size:48px; text-anchor:middle;\" transform=\"rotate(0, 1396.26, 1479.62)\" x=\"1396.26\" y=\"1479.62\">6</text>\n",
       "</g>\n",
       "<g clip-path=\"url(#clip9500)\">\n",
       "<text style=\"fill:#000000; fill-opacity:1; font-family:Arial,Helvetica Neue,Helvetica,sans-serif; font-size:48px; text-anchor:middle;\" transform=\"rotate(0, 1844.27, 1479.62)\" x=\"1844.27\" y=\"1479.62\">8</text>\n",
       "</g>\n",
       "<g clip-path=\"url(#clip9500)\">\n",
       "<text style=\"fill:#000000; fill-opacity:1; font-family:Arial,Helvetica Neue,Helvetica,sans-serif; font-size:48px; text-anchor:middle;\" transform=\"rotate(0, 2292.27, 1479.62)\" x=\"2292.27\" y=\"1479.62\">10</text>\n",
       "</g>\n",
       "<g clip-path=\"url(#clip9500)\">\n",
       "<text style=\"fill:#000000; fill-opacity:1; font-family:Arial,Helvetica Neue,Helvetica,sans-serif; font-size:48px; text-anchor:end;\" transform=\"rotate(0, 191.754, 1418.08)\" x=\"191.754\" y=\"1418.08\">0.1</text>\n",
       "</g>\n",
       "<g clip-path=\"url(#clip9500)\">\n",
       "<text style=\"fill:#000000; fill-opacity:1; font-family:Arial,Helvetica Neue,Helvetica,sans-serif; font-size:48px; text-anchor:end;\" transform=\"rotate(0, 191.754, 1184.36)\" x=\"191.754\" y=\"1184.36\">0.2</text>\n",
       "</g>\n",
       "<g clip-path=\"url(#clip9500)\">\n",
       "<text style=\"fill:#000000; fill-opacity:1; font-family:Arial,Helvetica Neue,Helvetica,sans-serif; font-size:48px; text-anchor:end;\" transform=\"rotate(0, 191.754, 950.638)\" x=\"191.754\" y=\"950.638\">0.3</text>\n",
       "</g>\n",
       "<g clip-path=\"url(#clip9500)\">\n",
       "<text style=\"fill:#000000; fill-opacity:1; font-family:Arial,Helvetica Neue,Helvetica,sans-serif; font-size:48px; text-anchor:end;\" transform=\"rotate(0, 191.754, 716.916)\" x=\"191.754\" y=\"716.916\">0.4</text>\n",
       "</g>\n",
       "<g clip-path=\"url(#clip9500)\">\n",
       "<text style=\"fill:#000000; fill-opacity:1; font-family:Arial,Helvetica Neue,Helvetica,sans-serif; font-size:48px; text-anchor:end;\" transform=\"rotate(0, 191.754, 483.194)\" x=\"191.754\" y=\"483.194\">0.5</text>\n",
       "</g>\n",
       "<g clip-path=\"url(#clip9500)\">\n",
       "<text style=\"fill:#000000; fill-opacity:1; font-family:Arial,Helvetica Neue,Helvetica,sans-serif; font-size:48px; text-anchor:end;\" transform=\"rotate(0, 191.754, 249.472)\" x=\"191.754\" y=\"249.472\">0.6</text>\n",
       "</g>\n",
       "<g clip-path=\"url(#clip9500)\">\n",
       "<text style=\"fill:#000000; fill-opacity:1; font-family:Arial,Helvetica Neue,Helvetica,sans-serif; font-size:66px; text-anchor:middle;\" transform=\"rotate(0, 1284.25, 1559.48)\" x=\"1284.25\" y=\"1559.48\">Epochs</text>\n",
       "</g>\n",
       "<g clip-path=\"url(#clip9500)\">\n",
       "<text style=\"fill:#000000; fill-opacity:1; font-family:Arial,Helvetica Neue,Helvetica,sans-serif; font-size:66px; text-anchor:middle;\" transform=\"rotate(-90, 89.2861, 736.431)\" x=\"89.2861\" y=\"736.431\">Training loss</text>\n",
       "</g>\n",
       "<polyline clip-path=\"url(#clip9502)\" style=\"stroke:#009af9; stroke-width:4; stroke-opacity:1; fill:none\" points=\"\n",
       "  276.235,452.165 500.24,861.096 724.244,1021.8 948.248,1120.32 1172.25,1197.68 1396.26,1248.01 1620.26,1296.35 1844.27,1334.07 2068.27,1357.91 2292.27,1386.61 \n",
       "  \n",
       "  \"/>\n",
       "<polyline clip-path=\"url(#clip9502)\" style=\"stroke:#e26f46; stroke-width:4; stroke-opacity:1; fill:none\" points=\"\n",
       "  276.235,439.531 500.24,535.082 724.244,836.503 948.248,941.414 1172.25,1016.82 1396.26,1070.06 1620.26,1113.23 1844.27,1160.3 2068.27,1197.34 2292.27,1228.69 \n",
       "  \n",
       "  \"/>\n",
       "<polyline clip-path=\"url(#clip9502)\" style=\"stroke:#3da44d; stroke-width:4; stroke-opacity:1; fill:none\" points=\"\n",
       "  276.235,439.333 500.24,86.2547 724.244,582.564 948.248,770.042 1172.25,869.527 1396.26,936.618 1620.26,993.082 1844.27,1034.75 2068.27,1073.88 2292.27,1108.6 \n",
       "  \n",
       "  \"/>\n",
       "<polyline clip-path=\"url(#clip9502)\" style=\"stroke:#c271d2; stroke-width:4; stroke-opacity:1; fill:none\" points=\"\n",
       "  500.24,2803.99 500.24,-1331.13 \n",
       "  \"/>\n",
       "<path clip-path=\"url(#clip9500)\" d=\"\n",
       "M1834.79 433.164 L2280.76 433.164 L2280.76 130.764 L1834.79 130.764  Z\n",
       "  \" fill=\"#ffffff\" fill-rule=\"evenodd\" fill-opacity=\"1\"/>\n",
       "<polyline clip-path=\"url(#clip9500)\" style=\"stroke:#000000; stroke-width:4; stroke-opacity:1; fill:none\" points=\"\n",
       "  1834.79,433.164 2280.76,433.164 2280.76,130.764 1834.79,130.764 1834.79,433.164 \n",
       "  \"/>\n",
       "<polyline clip-path=\"url(#clip9500)\" style=\"stroke:#009af9; stroke-width:4; stroke-opacity:1; fill:none\" points=\"\n",
       "  1858.79,191.244 2002.79,191.244 \n",
       "  \"/>\n",
       "<g clip-path=\"url(#clip9500)\">\n",
       "<image width=\"162\" height=\"47\" xlink:href=\"data:image/png;base64,\n",
       "iVBORw0KGgoAAAANSUhEUgAAAKIAAAAvCAYAAABg3BEdAAAGg0lEQVR4nO1d7ZGqShA93NoABkMY\n",
       "bgSjIeBGgIaAGXA3BPZGgIaARoCEAEaAhABk0O+Hb1jwC1Bhve6cqlO1H7CjzLFn+nTDakQEBYVz\n",
       "GI/HNJlMsFwutb7Heut7AIV/E9vtlna7HUaj0SDj/RpkFIV/DqvVCgBg2/Yg42lqaVY4B03TCACI\n",
       "qPdlGVAR8amR5zmNx2OazWaDRov1ek0AYFlWp/PiOKbFYkGGYZCu66RpGum6TtPplD4/P2m/319+\n",
       "H0Sk+IT0fZ8YYwSAhBA05NimaRIACoKg1bhZlpE8h3NOlmWR4zhk2zZxzglAScuyKMuyk7/77Rdc\n",
       "8cAkSSgIArJtuxSg5JBCzLKMABBjrNWYSZIQY4w45xeFGwRB7T0xxk6O/fYJ+Ok8jhiMMbJtm4QQ\n",
       "3yJE13UJADmO0zhmlmXEOSfO+dkod3zs8QcsiqLynG+fiJ9O3/fJ8zzyfZ+SJCknxrKsbxGi/GBU\n",
       "X8sl2rZNABpFKOl5Xk2InPPyvG+fCMXz/A4hJknSejy5hLeJnFUeR0Xf94mIVNas8AXpHc7n88Zj\n",
       "fd8vzxmPx7Tdbltl9se+pBxTCVGhRBcTe7fbAQCKosBut8P7+zvyPG8UI+e89n0YhgCUEBX+x3a7\n",
       "paIoYJomdF2/ycRO07TxmGMhSighKgDoXtITQpz87JLI2qCVEPM8p+VySdPplAzDqDnmy+VS1Qhf\n",
       "AJvNBgAwm81aRcPFYqHZtg3GGDjnCIKgVSS9GDWbshyZojPGyHEciqKIsiyjKIpIZnac81bpvmJ7\n",
       "Dpk1+75PAMi27d7nUOpJ0jRNIrpi30RRVCsxXfKKHMcphXpNjK7rtvabFIcVYteS3j08tm88zyOi\n",
       "C0IMguBEsdcoTdBLF0x6TkqI7TmUELuW9O5hVVdyJZW/O9kjbrdben9/B3DYfG6328Z1X3Zp7Ha7\n",
       "snOjCt/3IYS4ORs7RhzHZXfH0By6E6ZvDNl3+Pfv39r30osEjjq09/s9Vc3M6oHXYJpmOchqtcJs\n",
       "Nqv9frVawTTNbq/6CuQGuY1d8EiMRqO7MsNnxFBCXK/XJD1DAPA8D+Px+CswVUNntdBuWVbrUC1L\n",
       "Q5LnflctcCs2c4iluUtJ715W94au656MV34hMyfJrsK5dK7ruq32mYp1DiFEmWjKhGGI93JOhEQV\n",
       "IVbbkaqbyLasKr6afV3rU1NsN3l9CVHOWZ9JpGwrQ0ODxC/gkKBU91tdW8QB1O72KooCACDN7ul0\n",
       "Osh9Dwrt8YiSXhPW6zV9fHwAOOwJPz8/L47zBny56hJtui+uIcsyAMDHx0e5GVZ4LvSdpMRxXCa+\n",
       "vu83V2yITruEbwnB1b/heR7Ztt0p4VGss++l+Z65bqJMghhjrXONN6Be/ztXzG4Dxlj5dRiGCMNw\n",
       "cHtFoR2k19tHNMzznCaTCRhjiKIIhmFcjYR5npOu69qJoT2ZTO5+MZvNBq7r9rb3UIb2fehrWZYi\n",
       "HI1GrUQYxzHJ3OLkkSOPMGyFEFgsFr0lKMrQvh15nlMYhuCc1w3lB0AWLaIoahWEoigqr+cbcJhY\n",
       "melWl9hb0bdLbxiGFsdxr2O8KmQ0vMUZuYbpdEpFUbQWIXAoCcut4C+gvhxLQSq8JvpYlmezGWVZ\n",
       "1kmEwCGbrkVE27bLewe6Lnd5ntN8Pi/vYQCUmB+B6jV81PWM45jSNIUQonH/1hZ//vyhzWYDy7Lw\n",
       "v2d4cQ8tbb00TZGmKYqi+AqCMn2W9kuXdiDZs2hZFlXvWT120D3P63zb4U/nsaX2iOrHo0t61arJ\n",
       "rZQ9rOXTwPb7Pf3+/RsA4DjOVRc8jmNyXRdhGMpuGw0AdF2noigghEAcxxpwiJic89pxCl+I47js\n",
       "SsmyDEVRnLW+GGOYz+dgjJVVLCFEp6qVnJ8sy+52NKrtgveA5NPGjiOc/CRalkVBEFCWZeWtAa7r\n",
       "khCCGGNni9fVxscoiiiKIhJCKGO7RZSSZIyVlI/zqP6semyX6yrn5lENKFXD/VY2PunB8zwyTbN8\n",
       "4/Ki2Lbd2MAQBEH53BYhxMVuC8VhKYUjn6zwbFQP6vwh0DSNGGPI8/wpt0fqvuYfANkFdW8zS59Q\n",
       "QvwBkN1VQz0P+xaopfnFkec5ydLkfr9/ymUZUBHx5TH0fwe4FSoivjgMw6A0TZEkycOqKX1ARcQX\n",
       "Rh8lvb6ghPjC+FeWZUAtzS+NR5b0+oaKiC8KeZeeZVlPL0JACfFlMRqNwBiTrVlPj/8AYYDhMDLZ\n",
       "IiwAAAAASUVORK5CYII=\n",
       "\" transform=\"translate(2027, 168)\"/>\n",
       "</g>\n",
       "<polyline clip-path=\"url(#clip9500)\" style=\"stroke:#e26f46; stroke-width:4; stroke-opacity:1; fill:none\" points=\"\n",
       "  1858.79,251.724 2002.79,251.724 \n",
       "  \"/>\n",
       "<g clip-path=\"url(#clip9500)\">\n",
       "<image width=\"163\" height=\"47\" xlink:href=\"data:image/png;base64,\n",
       "iVBORw0KGgoAAAANSUhEUgAAAKMAAAAvCAYAAACPHnojAAAGLUlEQVR4nO2c75GqPBTGH3a2gEgJ\n",
       "8VYQt4S4FSAloBWoJeCtQC0BrEApAahALCHQwXk/7Bsvuu6Kgui6+c1k7swKSYBzz8n5k1hEBIPh\n",
       "FL1ej97e3rBYLKw2xnttYxDDz2Oz2VCaprBtu7UxX1obyfCjWC6XAADP81ob0zJm2nAKy7IIAIio\n",
       "MROdJAlJKREEAfr9/qd+jWZ8YPI8p16vR4PBoFWNEYYhAYDjOI3267ouiqLAbrc7+bsRxgclDEPi\n",
       "nCNN0y8/3q24hYmeTCZ07jmMA/MgZFlGu90Oq9UKQRCgKIq7zCPPc4qiCIyxk6b0GpIkob9//569\n",
       "zgjjnel2uwcagzEG13URxzHSNG19PrfQiq7rVrrOCOOd8X0fSinYtg0hBLrdrgUAg8GAnkEYZ7MZ\n",
       "McbAGDur7Y0w3pnBYNBKQLkKeqlQ/k9Rt7/pdIrtdou3t7ez1xsHxrBHa8WqZvUcruvC9/3Kgm2E\n",
       "0bCnSRM9m82oKApMJpPKGtaYaQOAj/RfURSQUqLT6dQy0do8x3F80X1GMxoANKsVXdfFeDxGr9e7\n",
       "SKgrCWOe57RYLKjf71O32yXLsqjT6VC/36fFYmHyiU/AarUCUN+hWiwWVBQFZrPZxf2cFcbhcEi2\n",
       "bWM6nUIIgSAIoJSCDoyORiN0u13KsswI5Q9Fp//qasUsy2g0GiEIgus6IKKTLY5jYowRABJCkFKK\n",
       "Tl03Ho8JADHGaLvdnryGiOD7/pd9mPa5OY5DAPbv/5ZjSSkJAK3X61rjSClpPB6f7EPLEgCaz+cn\n",
       "rznZ6Xq93t8opTw7Qc75ty9NKUUAjDBe0NoSRv1tGGO1xpjP58Q5/7KPKsL4yUxvNht6f38HAHDO\n",
       "sdlsztp+Xd2Rpule5ZcJggBCiNpemiZJEup0OmRZVuut7QqaW9OE45LnOY1GI8zn81pzOQjtZFlG\n",
       "5YBnVdsvpYROhC+XSwwGg4Pfl8slpJS1JlqGMQbOeevVLLZtg3Pe6pi3pglhdF0XnufVL6woq0kh\n",
       "xF6VOo5TWW1vt9v9fR9dfv4tjuObmZpnbG2Yaf1t6vQfBEElE3+RmQ7D8CAxP51OKwv0cbonSZK9\n",
       "KVutVpBSXhxzMtyeuloxz3PyPO967/kYLZXaCQHw7UK0iuSXvTLOeW0v7Te2NjSj/mbXOpaO45Dn\n",
       "eZXuraIZX4EPp6W8/rqm3Ny27X2JkP5XB8SbKtI0NEfd9F8YhhRFUaPr9lfgX/RdU7dqQykF4MPU\n",
       "a1NgeCzqmOiyeW4qQgL8L4xRFB38sYn13XA4JCnlQ9XrGf5RJ/2n/Yk0TZGmaaVQV7mwNooiFEVx\n",
       "cN9kMrFA9LEjETXXJ8eeOGPMBLlrtFuuGYMgIACV13vfza2pppSiT8J47QTLwohvFqlNtHKqsu12\n",
       "ScjrUYVRp//aCrcdh/6+dWDKNBHUFUJgOBzezDyboPf16N1/nPOHC7e9AjjYLMMYq93prY/E6Ha7\n",
       "VpIkNx3jWdGOS9Mb9JvgBcDBZpl77dc1tMM9ztCpygtwOLFLTV+e59Tv9w+yN0ag61N+h029zyRJ\n",
       "Gt39V5Xj+X/1PC/Ah3uv10KXpHaSJCHOORhjBxUbOs6oWSwWNJlMnqra5daUlcJut0Oe57Xfn/62\n",
       "bWvF470wXym8/SlkWZbRnz9/AADj8fjbsvEkScj3fURRpKt0LADodDpUFAWEEEiSxAI+NCfn/OA6\n",
       "wz+SJCEd51VKoSgKnMps6JMmGGP7MxOFEBdlt/T3UUo1Gqw+JgxD2u12UEpBH9lyjJQSQoj9s+zj\n",
       "jOWQic5RO45D6/WalFKklKI4jsn3fRJCEGOMfN//5J6Xi3LjOKY4jkkI0Vo45Cc2XSmvG2Ns3zjn\n",
       "xDk/+BuuDDPpb1OlWLpu06GjU8/z1bMQfVHpPZ/PSUq5v0F35Hne2aKH9XpNOuYohDgptKa133Tc\n",
       "MgiCh/0e5rDQX4JlWcQYQ57nD7tUMvumfwG6eqqpY0tuhRHGX4B2IB4xtljGmOknJ89z0mnMLMse\n",
       "1kQDRjM+PY+ccTnGaMYnR5+Mu91uW826XIPRjE/MvdJ/12KE8Yn5SSYaMGb6qWkr/dcURjM+KXr3\n",
       "n+M4P0IQASOMT4tt22CMXXQYw735D5FMa99EvHvZAAAAAElFTkSuQmCC\n",
       "\" transform=\"translate(2027, 228)\"/>\n",
       "</g>\n",
       "<polyline clip-path=\"url(#clip9500)\" style=\"stroke:#3da44d; stroke-width:4; stroke-opacity:1; fill:none\" points=\"\n",
       "  1858.79,312.204 2002.79,312.204 \n",
       "  \"/>\n",
       "<g clip-path=\"url(#clip9500)\">\n",
       "<image width=\"162\" height=\"47\" xlink:href=\"data:image/png;base64,\n",
       "iVBORw0KGgoAAAANSUhEUgAAAKIAAAAvCAYAAABg3BEdAAAGfUlEQVR4nO1d65GiTBQ9bH0BtIbQ\n",
       "ZoCGgBsBGgJmQG0I7EaAhtBOBGgI7USAhIBmcL8f7mVaRAVG0dU+VadqlMflcbzd9wHjEBEsLKow\n",
       "HA5pNBphPp8797b1370NWPybWK1W9Pn5iX6/34m9H51YsfjnsFgsAABBEHRiz7FDs0UVHMchACCi\n",
       "uw/LgPWIT43dbkfD4ZAmk0mn3mK5XBIA+L7feNv5fE7j8Zh6vR45jkO9Xo/G4zHNZjNarVbnz4OI\n",
       "LJ+QSikSQhAAcl2XurTteR4BoCRJatvl4xVCUBiGpJQirTUppSgMQ5JSFueitT7Z78MvuOWBaZpS\n",
       "kiQUBEEhQGaXQszznACQEKK2zSiKCADFcXxxmziOi3Mri/zhN+DdyZ6CKYSgIAjIdd2HCJFFFYZh\n",
       "LZtKKQJASqla6ydJUpxXmqbFNg+/Ee9OpRTFcUxKqaMb4/v+Q4TIPwzzWC6RfzhNbIRhSADI9/1i\n",
       "u4ffCMtqPkKIaZo2stfUGzJ5+D+EKIfvbNRsUYBzh9PptNb6SikAQJ7njez0ej1HCAEA2G63BNj0\n",
       "jYWBpkns/X4PAPj4+Ghsi7flyo0VogWAQ0lvv9/D8zz0er1aSWz2auv1usg91gF7QSFEYcsK0QJA\n",
       "u5KelLL4ezqd4vfv37XE+OfPn1NbdSeXcRyT53lFYlIIQZ7nXc0dWbZj18EKSsFDHXJwY/Jcwpqp\n",
       "tSYAJKU8WueqsSAICuGFYUhaa8rznLTWxBdLSlk73Lesxy6FyNFv0zRM+ThNVuUh0zQtqi9lvZw1\n",
       "oLU+KjHleV55kJwTqtq5ySiKzu7D8rFCbFPSM1lOyjOFEMU+WezntFS5YzP77Xne1YMz64hVyzlv\n",
       "ZIX4fEJsU9K7drxlsj4uTeNOgpXVakU/f/4sJqOr1epqBMVdGp+fn5XRk1IKruvWjsauYbPZFN0d\n",
       "XbPrTph741Z9h8vl0onjuHJZlmUQQlxssj3q0N5ut2QmMzlheQ2e5xWR0GKxwGQyOVq+WCzgeV6t\n",
       "fdWBEAJSSmRZdrN91kG/3z+KFF8Bt2yAnU6nWK/XlXnF/X6P6XQKz/NIKXXqlEz3aBbazTrgNZaj\n",
       "p6pllyIpy8cMzU1LepfInTVSStJaUxzHZ4dqIcSJHoo/eDLJbCqcc9tGUVRrnmnZvRA50PxuCo4z\n",
       "K2Xnlec5cSBURTM4KjYyI59yjqcOzR4604CUsnU09s7sQoh8z74TRLLQLo2gZpNv2TOy7R/AIUAx\n",
       "51ttWsTNiSjXEefzOQHAeDzu5LkHi/poU9IrYzab0Xq9huu6WC6XZ/cxmUycLMtO5qH7/R6/fv06\n",
       "fCD6cq1oOSwTHXtUdvVCiMYtQpbdeETef9v7wxWSpnoxU4NMor9Dczkh2ebAykIMgqBRwGNZLZR7\n",
       "CfE795roy3m1OTZTxPg7lfsB4CgN4rpuGy9ddGIAh24MpVSRGrB4LnCu9zspm/V6DQCt0nLD4dAJ\n",
       "w7D4nGXZaUJ7NBq1PjjGx8cHoii6WQK7DJvQ/h5ukTtk59VWL2XbJ68cuUXC1nVdzGazuwUoNqHd\n",
       "HrvdjtbrNaSUGA6HDwsiB4OBg8PQDCnlQYhCiCLSNYfYtrj3ayoGg4Gz2WzuauNVwd6wTWbEBDsC\n",
       "rfVJJa0pRqPRYWg23SsL0uI1cauSHgu5zWMCwGF6BeArfUR0XFVp2pNWlT2PoujmUd670bymbQoM\n",
       "l6LVW0Th5pN4be43nx+3DhYLzM7rJicmhCDf949qi+WmyDiOaz+wbXl8P5i3aKG7VUmPaTqwJvnI\n",
       "quMoFpqNC9dEw93Z5YR11bta8jw/Wc/y+FpGUURRFFEYhhQEAVU1mvKD7GEYFus3LZ3eoqRXpilG\n",
       "3/cv7ltrXbzBouxFT1bki+D7PiVJQnmeF48GRFFEruuSEKLSHZtZc601sWGb2D5P9g6m4JhSSpJS\n",
       "Hn1nrtvkuvK9uUcDSpqmVO7c4rdXcHGDlzd6CRM/KMUnzhclCIKrv8IkSY6M2vnic/C7Jb061FpT\n",
       "GIaFs2qiHfuizjeB4zgkhMBut3vKBhT7XPMbgLug6r5K5BGwQnwDcK6vq/dht4Edml8cu92OuDS5\n",
       "3W6fclgGrEd8eXT93wHawnrEF8dgMKAsy5CmKTcaPCWsR3xhbDYbyrIMrus+tQgBK8SXxr8yLAN2\n",
       "aH5p9Ho92u/3yPP8bk3Kt4L1iC8KfkrP9/2nFyFghfiy6Pf7EEJ8Pa755PgfC1RF+6HYspEAAAAA\n",
       "SUVORK5CYII=\n",
       "\" transform=\"translate(2027, 289)\"/>\n",
       "</g>\n",
       "<polyline clip-path=\"url(#clip9500)\" style=\"stroke:#c271d2; stroke-width:4; stroke-opacity:1; fill:none\" points=\"\n",
       "  1858.79,372.684 2002.79,372.684 \n",
       "  \"/>\n",
       "<g clip-path=\"url(#clip9500)\">\n",
       "<text style=\"fill:#000000; fill-opacity:1; font-family:Arial,Helvetica Neue,Helvetica,sans-serif; font-size:48px; text-anchor:start;\" transform=\"rotate(0, 2026.79, 390.184)\" x=\"2026.79\" y=\"390.184\">SVD start</text>\n",
       "</g>\n",
       "</svg>\n"
      ]
     },
     "execution_count": 66,
     "metadata": {},
     "output_type": "execute_result"
    }
   ],
   "source": [
    "plot(costs_half, label = L\"\\alpha = 1/2\")\n",
    "plot!(costs_onefourth, label = L\"\\alpha = 1/4\")\n",
    "plot!(costs_oneeight, label = L\"\\alpha = 1/8\")\n",
    "xlabel!(\"Epochs\")\n",
    "ylabel!(\"Training loss\")\n",
    "vline!([2], label = \"SVD start\", legend = :best)"
   ]
  },
  {
   "cell_type": "markdown",
   "metadata": {},
   "source": [
    "## SVD only"
   ]
  },
  {
   "cell_type": "markdown",
   "metadata": {},
   "source": [
    "Train a SVD model without pre-training (phi = 0)"
   ]
  },
  {
   "cell_type": "code",
   "execution_count": 71,
   "metadata": {
    "ExecuteTime": {
     "end_time": "2020-05-28T22:42:36.569000+05:30",
     "start_time": "2020-05-28T17:12:06.803Z"
    },
    "scrolled": false
   },
   "outputs": [
    {
     "name": "stdout",
     "output_type": "stream",
     "text": [
      "Finished pre-training\n",
      "Built SVD model\n",
      "SVD Model: Accuracy 0.05670572916666667. Test accuracy 0.055815300055309734\n",
      "Begin tuning SVD model\n",
      "Cost at epoch 1 is 1.758858. Accuracy 0.6217405084978069. Test accuracy 0.634235861449115\n",
      "Cost at epoch 2 is 0.74256074. Accuracy 0.7712505139802631. Test accuracy 0.780168003318584\n",
      "Cost at epoch 3 is 0.50283086. Accuracy 0.8467936197916667. Test accuracy 0.8564306208517699\n",
      "Cost at epoch 4 is 0.39120024. Accuracy 0.8833333333333333. Test accuracy 0.88800297289823\n",
      "Cost at epoch 5 is 0.33469212. Accuracy 0.9009722793311403. Test accuracy 0.9021562154314159\n",
      "Cost at epoch 6 is 0.30622953. Accuracy 0.9086143092105263. Test accuracy 0.9097137721238939\n",
      "Cost at epoch 7 is 0.28298187. Accuracy 0.9153328878837719. Test accuracy 0.9150321487831858\n",
      "Cost at epoch 8 is 0.26423827. Accuracy 0.9222759046052631. Test accuracy 0.9228636615044248\n",
      "Cost at epoch 9 is 0.24935521. Accuracy 0.9264005962171052. Test accuracy 0.9259687845685841\n",
      "Cost at epoch 10 is 0.23433553. Accuracy 0.9305227179276316. Test accuracy 0.9303503525995576\n",
      "Final accuracy 0.9307925575657895\n"
     ]
    }
   ],
   "source": [
    "@timeit to \"Full training SVD only\" train_epochs_svd!(model, l_values, loss, train_data, test_data, opt, opt2, 10, 0.0)"
   ]
  },
  {
   "cell_type": "code",
   "execution_count": 72,
   "metadata": {
    "ExecuteTime": {
     "end_time": "2020-05-28T22:42:36.620000+05:30",
     "start_time": "2020-05-28T17:12:07.196Z"
    },
    "scrolled": true
   },
   "outputs": [
    {
     "name": "stdout",
     "output_type": "stream",
     "text": [
      "\u001b[0m\u001b[1m ──────────────────────────────────────────────────────────────────────────────\u001b[22m\n",
      "\u001b[0m\u001b[1m                               \u001b[22m        Time                   Allocations      \n",
      "                               ──────────────────────   ───────────────────────\n",
      "       Tot / % measured:            1386s / 19.0%            173GiB / 98.0%    \n",
      "\n",
      " Section               ncalls     time   %tot     avg     alloc   %tot      avg\n",
      " ──────────────────────────────────────────────────────────────────────────────\n",
      " Full training SVD          3    74.8s  28.4%   24.9s   39.2GiB  23.1%  13.1GiB\n",
      "   Tuning SVD model         2    45.6s  17.3%   22.8s   27.4GiB  16.2%  13.7GiB\n",
      "     [SVD] Train on...     11    26.4s  10.0%   2.40s   14.7GiB  8.65%  1.34GiB\n",
      "       Calculate gr...    305    20.7s  7.84%  67.8ms   12.3GiB  7.23%  41.3MiB\n",
      "       Update params      304    3.48s  1.32%  11.4ms    626MiB  0.36%  2.06MiB\n",
      "       Get params          11   29.3ms  0.01%  2.67ms   1.49MiB  0.00%   139KiB\n",
      "     [SVD] Calculat...     10    9.37s  3.56%   937ms   5.91GiB  3.48%   605MiB\n",
      "     [SVD] Calculat...     10    8.16s  3.10%   816ms   5.85GiB  3.44%   599MiB\n",
      "     [SVD] Calculat...     10    1.60s  0.61%   160ms   0.99GiB  0.58%   101MiB\n",
      "   Pre-training             3    22.8s  8.66%   7.61s   9.66GiB  5.68%  3.22GiB\n",
      "     Train one epoch        4    14.3s  5.43%   3.58s   5.69GiB  3.35%  1.42GiB\n",
      "       Calculate gr...    120    11.2s  4.27%  93.7ms   4.51GiB  2.65%  38.5MiB\n",
      "       Update params      120    2.34s  0.89%  19.5ms    492MiB  0.28%  4.10MiB\n",
      "       Get params           4    209μs  0.00%  52.2μs   5.19KiB  0.00%  1.30KiB\n",
      "     Calculate cost         4    4.61s  1.75%   1.15s   2.08GiB  1.23%   533MiB\n",
      "     Calculate accu...      3    3.31s  1.26%   1.10s   1.61GiB  0.95%   551MiB\n",
      "     Calculate test...      3    541ms  0.21%   180ms    275MiB  0.16%  91.8MiB\n",
      "   Build SVD model          2    1.43s  0.54%   714ms   58.2MiB  0.03%  29.1MiB\n",
      "   Update weights o...      1    323ms  0.12%   323ms   9.76MiB  0.01%  9.76MiB\n",
      " Full training SVD ...      2    66.3s  25.1%   33.1s   52.0GiB  30.6%  26.0GiB\n",
      "   Tuning SVD model         2    60.3s  22.9%   30.2s   49.6GiB  29.2%  24.8GiB\n",
      "     [SVD] Train on...     20    31.5s  12.0%   1.57s   25.8GiB  15.2%  1.29GiB\n",
      "       Calculate gr...    600    25.7s  9.76%  42.8ms   22.0GiB  12.9%  37.5MiB\n",
      "       Update params      600    1.87s  0.71%  3.12ms    321MiB  0.18%   549KiB\n",
      "       Get params          20    977μs  0.00%  48.9μs   30.0KiB  0.00%  1.50KiB\n",
      "     [SVD] Calculat...     20    13.8s  5.23%   689ms   11.0GiB  6.49%   564MiB\n",
      "     [SVD] Calculat...     20    12.6s  4.79%   632ms   10.9GiB  6.41%   558MiB\n",
      "     [SVD] Calculat...     20    2.20s  0.83%   110ms   1.84GiB  1.08%  94.0MiB\n",
      "   Build SVD model          2    451ms  0.17%   226ms   19.6MiB  0.01%  9.79MiB\n",
      "   Update weights o...      2   32.0ms  0.01%  16.0ms   4.06MiB  0.00%  2.03MiB\n",
      "   Pre-training             2   1.93μs  0.00%   966ns     0.00B  0.00%    0.00B\n",
      " Full training              1    54.1s  20.5%   54.1s   25.8GiB  15.2%  25.8GiB\n",
      "   Train one step          10    31.7s  12.0%   3.17s   14.2GiB  8.36%  1.42GiB\n",
      "     Calculate grad...    300    23.2s  8.79%  77.2ms   11.2GiB  6.62%  38.4MiB\n",
      "     Update params        300    6.53s  2.48%  21.8ms   1.20GiB  0.71%  4.10MiB\n",
      "     Get params            10    903μs  0.00%  90.3μs   13.0KiB  0.00%  1.30KiB\n",
      "   Calculate accuracy      10    10.8s  4.11%   1.08s   5.38GiB  3.17%   551MiB\n",
      "   Calculate cost          10    9.61s  3.65%   961ms   5.31GiB  3.13%   544MiB\n",
      "   Calculate test a...     10    1.88s  0.71%   188ms    918MiB  0.53%  91.8MiB\n",
      " Full training SVD 1/4      1    35.6s  13.5%   35.6s   26.8GiB  15.8%  26.8GiB\n",
      "   Tuning SVD model         1    27.1s  10.3%   27.1s   23.0GiB  13.5%  23.0GiB\n",
      "     [SVD] Train on...      9    14.7s  5.59%   1.64s   12.1GiB  7.10%  1.34GiB\n",
      "       Calculate gr...    270    11.7s  4.44%  43.3ms   10.2GiB  6.00%  38.7MiB\n",
      "       Update params      270    1.42s  0.54%  5.25ms    282MiB  0.16%  1.04MiB\n",
      "       Get params           9    442μs  0.00%  49.1μs   13.5KiB  0.00%  1.50KiB\n",
      "     [SVD] Calculat...      9    5.94s  2.26%   660ms   5.08GiB  2.99%   578MiB\n",
      "     [SVD] Calculat...      9    5.39s  2.04%   598ms   5.02GiB  2.96%   571MiB\n",
      "     [SVD] Calculat...      9    991ms  0.38%   110ms    867MiB  0.50%  96.3MiB\n",
      "   Pre-training             1    5.98s  2.27%   5.98s   2.59GiB  1.52%  2.59GiB\n",
      "     Train one epoch        1    3.45s  1.31%   3.45s   1.43GiB  0.84%  1.43GiB\n",
      "       Calculate gr...     30    2.74s  1.04%  91.2ms   1.13GiB  0.67%  38.6MiB\n",
      "       Update params       30    531ms  0.20%  17.7ms    123MiB  0.07%  4.10MiB\n",
      "       Get params           1   40.8μs  0.00%  40.8μs   1.30KiB  0.00%  1.30KiB\n",
      "     Calculate accu...      1    1.15s  0.44%   1.15s    551MiB  0.32%   551MiB\n",
      "     Calculate cost         1    1.02s  0.39%   1.02s    544MiB  0.31%   544MiB\n",
      "     Calculate test...      1    346ms  0.13%   346ms   91.8MiB  0.05%  91.8MiB\n",
      "   Build SVD model          1    383ms  0.15%   383ms   10.2MiB  0.01%  10.2MiB\n",
      "   Update weights o...      1   37.9ms  0.01%  37.9ms   2.03MiB  0.00%  2.03MiB\n",
      " Full training SVD 1/8      1    32.7s  12.4%   32.7s   26.1GiB  15.4%  26.1GiB\n",
      "   Tuning SVD model         1    23.9s  9.08%   23.9s   22.3GiB  13.1%  22.3GiB\n",
      "     [SVD] Train on...      9    12.5s  4.75%   1.39s   11.6GiB  6.84%  1.29GiB\n",
      "       Calculate gr...    270    10.0s  3.79%  37.0ms   9.89GiB  5.82%  37.5MiB\n",
      "       Update params      270    852ms  0.32%  3.16ms    145MiB  0.08%   549KiB\n",
      "       Get params           9    551μs  0.00%  61.2μs   13.5KiB  0.00%  1.50KiB\n",
      "     [SVD] Calculat...      9    5.78s  2.19%   642ms   4.96GiB  2.92%   564MiB\n",
      "     [SVD] Calculat...      9    4.61s  1.75%   512ms   4.90GiB  2.88%   558MiB\n",
      "     [SVD] Calculat...      9    984ms  0.37%   109ms    846MiB  0.49%  94.0MiB\n",
      "   Pre-training             1    6.17s  2.34%   6.17s   2.59GiB  1.52%  2.59GiB\n",
      "     Train one epoch        1    3.57s  1.35%   3.57s   1.43GiB  0.84%  1.43GiB\n",
      "       Calculate gr...     30    2.82s  1.07%  94.0ms   1.13GiB  0.67%  38.6MiB\n",
      "       Update params       30    568ms  0.22%  18.9ms    123MiB  0.07%  4.10MiB\n",
      "       Get params           1   33.3μs  0.00%  33.3μs   1.30KiB  0.00%  1.30KiB\n",
      "     Calculate accu...      1    1.40s  0.53%   1.40s    551MiB  0.32%   551MiB\n",
      "     Calculate cost         1    1.03s  0.39%   1.03s    544MiB  0.31%   544MiB\n",
      "     Calculate test...      1    153ms  0.06%   153ms   91.8MiB  0.05%  91.8MiB\n",
      "   Build SVD model          1    530ms  0.20%   530ms   9.79MiB  0.01%  9.79MiB\n",
      "   Update weights o...      1   14.9ms  0.01%  14.9ms   2.03MiB  0.00%  2.03MiB\n",
      "\u001b[0m\u001b[1m ──────────────────────────────────────────────────────────────────────────────\u001b[22m"
     ]
    }
   ],
   "source": [
    "print_timer(to)"
   ]
  },
  {
   "cell_type": "code",
   "execution_count": 73,
   "metadata": {
    "ExecuteTime": {
     "end_time": "2020-05-28T22:42:36.681000+05:30",
     "start_time": "2020-05-28T17:12:07.808Z"
    },
    "scrolled": false
   },
   "outputs": [
    {
     "data": {
      "image/svg+xml": [
       "<?xml version=\"1.0\" encoding=\"utf-8\"?>\n",
       "<svg xmlns=\"http://www.w3.org/2000/svg\" xmlns:xlink=\"http://www.w3.org/1999/xlink\" width=\"600\" height=\"400\" viewBox=\"0 0 2400 1600\">\n",
       "<defs>\n",
       "  <clipPath id=\"clip0300\">\n",
       "    <rect x=\"0\" y=\"0\" width=\"2400\" height=\"1600\"/>\n",
       "  </clipPath>\n",
       "</defs>\n",
       "<path clip-path=\"url(#clip0300)\" d=\"\n",
       "M0 1600 L2400 1600 L2400 0 L0 0  Z\n",
       "  \" fill=\"#ffffff\" fill-rule=\"evenodd\" fill-opacity=\"1\"/>\n",
       "<defs>\n",
       "  <clipPath id=\"clip0301\">\n",
       "    <rect x=\"480\" y=\"0\" width=\"1681\" height=\"1600\"/>\n",
       "  </clipPath>\n",
       "</defs>\n",
       "<path clip-path=\"url(#clip0300)\" d=\"\n",
       "M180.66 1425.62 L2352.76 1425.62 L2352.76 47.2441 L180.66 47.2441  Z\n",
       "  \" fill=\"#ffffff\" fill-rule=\"evenodd\" fill-opacity=\"1\"/>\n",
       "<defs>\n",
       "  <clipPath id=\"clip0302\">\n",
       "    <rect x=\"180\" y=\"47\" width=\"2173\" height=\"1379\"/>\n",
       "  </clipPath>\n",
       "</defs>\n",
       "<polyline clip-path=\"url(#clip0302)\" style=\"stroke:#000000; stroke-width:2; stroke-opacity:0.1; fill:none\" points=\"\n",
       "  469.818,1425.62 469.818,47.2441 \n",
       "  \"/>\n",
       "<polyline clip-path=\"url(#clip0302)\" style=\"stroke:#000000; stroke-width:2; stroke-opacity:0.1; fill:none\" points=\"\n",
       "  925.184,1425.62 925.184,47.2441 \n",
       "  \"/>\n",
       "<polyline clip-path=\"url(#clip0302)\" style=\"stroke:#000000; stroke-width:2; stroke-opacity:0.1; fill:none\" points=\"\n",
       "  1380.55,1425.62 1380.55,47.2441 \n",
       "  \"/>\n",
       "<polyline clip-path=\"url(#clip0302)\" style=\"stroke:#000000; stroke-width:2; stroke-opacity:0.1; fill:none\" points=\"\n",
       "  1835.92,1425.62 1835.92,47.2441 \n",
       "  \"/>\n",
       "<polyline clip-path=\"url(#clip0302)\" style=\"stroke:#000000; stroke-width:2; stroke-opacity:0.1; fill:none\" points=\"\n",
       "  2291.28,1425.62 2291.28,47.2441 \n",
       "  \"/>\n",
       "<polyline clip-path=\"url(#clip0302)\" style=\"stroke:#000000; stroke-width:2; stroke-opacity:0.1; fill:none\" points=\"\n",
       "  180.66,1373.25 2352.76,1373.25 \n",
       "  \"/>\n",
       "<polyline clip-path=\"url(#clip0302)\" style=\"stroke:#000000; stroke-width:2; stroke-opacity:0.1; fill:none\" points=\"\n",
       "  180.66,1160.01 2352.76,1160.01 \n",
       "  \"/>\n",
       "<polyline clip-path=\"url(#clip0302)\" style=\"stroke:#000000; stroke-width:2; stroke-opacity:0.1; fill:none\" points=\"\n",
       "  180.66,946.768 2352.76,946.768 \n",
       "  \"/>\n",
       "<polyline clip-path=\"url(#clip0302)\" style=\"stroke:#000000; stroke-width:2; stroke-opacity:0.1; fill:none\" points=\"\n",
       "  180.66,733.529 2352.76,733.529 \n",
       "  \"/>\n",
       "<polyline clip-path=\"url(#clip0302)\" style=\"stroke:#000000; stroke-width:2; stroke-opacity:0.1; fill:none\" points=\"\n",
       "  180.66,520.289 2352.76,520.289 \n",
       "  \"/>\n",
       "<polyline clip-path=\"url(#clip0302)\" style=\"stroke:#000000; stroke-width:2; stroke-opacity:0.1; fill:none\" points=\"\n",
       "  180.66,307.05 2352.76,307.05 \n",
       "  \"/>\n",
       "<polyline clip-path=\"url(#clip0302)\" style=\"stroke:#000000; stroke-width:2; stroke-opacity:0.1; fill:none\" points=\"\n",
       "  180.66,93.8102 2352.76,93.8102 \n",
       "  \"/>\n",
       "<polyline clip-path=\"url(#clip0300)\" style=\"stroke:#000000; stroke-width:4; stroke-opacity:1; fill:none\" points=\"\n",
       "  180.66,1425.62 2352.76,1425.62 \n",
       "  \"/>\n",
       "<polyline clip-path=\"url(#clip0300)\" style=\"stroke:#000000; stroke-width:4; stroke-opacity:1; fill:none\" points=\"\n",
       "  180.66,1425.62 180.66,47.2441 \n",
       "  \"/>\n",
       "<polyline clip-path=\"url(#clip0300)\" style=\"stroke:#000000; stroke-width:4; stroke-opacity:1; fill:none\" points=\"\n",
       "  469.818,1425.62 469.818,1409.08 \n",
       "  \"/>\n",
       "<polyline clip-path=\"url(#clip0300)\" style=\"stroke:#000000; stroke-width:4; stroke-opacity:1; fill:none\" points=\"\n",
       "  925.184,1425.62 925.184,1409.08 \n",
       "  \"/>\n",
       "<polyline clip-path=\"url(#clip0300)\" style=\"stroke:#000000; stroke-width:4; stroke-opacity:1; fill:none\" points=\"\n",
       "  1380.55,1425.62 1380.55,1409.08 \n",
       "  \"/>\n",
       "<polyline clip-path=\"url(#clip0300)\" style=\"stroke:#000000; stroke-width:4; stroke-opacity:1; fill:none\" points=\"\n",
       "  1835.92,1425.62 1835.92,1409.08 \n",
       "  \"/>\n",
       "<polyline clip-path=\"url(#clip0300)\" style=\"stroke:#000000; stroke-width:4; stroke-opacity:1; fill:none\" points=\"\n",
       "  2291.28,1425.62 2291.28,1409.08 \n",
       "  \"/>\n",
       "<polyline clip-path=\"url(#clip0300)\" style=\"stroke:#000000; stroke-width:4; stroke-opacity:1; fill:none\" points=\"\n",
       "  180.66,1373.25 206.725,1373.25 \n",
       "  \"/>\n",
       "<polyline clip-path=\"url(#clip0300)\" style=\"stroke:#000000; stroke-width:4; stroke-opacity:1; fill:none\" points=\"\n",
       "  180.66,1160.01 206.725,1160.01 \n",
       "  \"/>\n",
       "<polyline clip-path=\"url(#clip0300)\" style=\"stroke:#000000; stroke-width:4; stroke-opacity:1; fill:none\" points=\"\n",
       "  180.66,946.768 206.725,946.768 \n",
       "  \"/>\n",
       "<polyline clip-path=\"url(#clip0300)\" style=\"stroke:#000000; stroke-width:4; stroke-opacity:1; fill:none\" points=\"\n",
       "  180.66,733.529 206.725,733.529 \n",
       "  \"/>\n",
       "<polyline clip-path=\"url(#clip0300)\" style=\"stroke:#000000; stroke-width:4; stroke-opacity:1; fill:none\" points=\"\n",
       "  180.66,520.289 206.725,520.289 \n",
       "  \"/>\n",
       "<polyline clip-path=\"url(#clip0300)\" style=\"stroke:#000000; stroke-width:4; stroke-opacity:1; fill:none\" points=\"\n",
       "  180.66,307.05 206.725,307.05 \n",
       "  \"/>\n",
       "<polyline clip-path=\"url(#clip0300)\" style=\"stroke:#000000; stroke-width:4; stroke-opacity:1; fill:none\" points=\"\n",
       "  180.66,93.8102 206.725,93.8102 \n",
       "  \"/>\n",
       "<g clip-path=\"url(#clip0300)\">\n",
       "<text style=\"fill:#000000; fill-opacity:1; font-family:Arial,Helvetica Neue,Helvetica,sans-serif; font-size:48px; text-anchor:middle;\" transform=\"rotate(0, 469.818, 1479.62)\" x=\"469.818\" y=\"1479.62\">2</text>\n",
       "</g>\n",
       "<g clip-path=\"url(#clip0300)\">\n",
       "<text style=\"fill:#000000; fill-opacity:1; font-family:Arial,Helvetica Neue,Helvetica,sans-serif; font-size:48px; text-anchor:middle;\" transform=\"rotate(0, 925.184, 1479.62)\" x=\"925.184\" y=\"1479.62\">4</text>\n",
       "</g>\n",
       "<g clip-path=\"url(#clip0300)\">\n",
       "<text style=\"fill:#000000; fill-opacity:1; font-family:Arial,Helvetica Neue,Helvetica,sans-serif; font-size:48px; text-anchor:middle;\" transform=\"rotate(0, 1380.55, 1479.62)\" x=\"1380.55\" y=\"1479.62\">6</text>\n",
       "</g>\n",
       "<g clip-path=\"url(#clip0300)\">\n",
       "<text style=\"fill:#000000; fill-opacity:1; font-family:Arial,Helvetica Neue,Helvetica,sans-serif; font-size:48px; text-anchor:middle;\" transform=\"rotate(0, 1835.92, 1479.62)\" x=\"1835.92\" y=\"1479.62\">8</text>\n",
       "</g>\n",
       "<g clip-path=\"url(#clip0300)\">\n",
       "<text style=\"fill:#000000; fill-opacity:1; font-family:Arial,Helvetica Neue,Helvetica,sans-serif; font-size:48px; text-anchor:middle;\" transform=\"rotate(0, 2291.28, 1479.62)\" x=\"2291.28\" y=\"1479.62\">10</text>\n",
       "</g>\n",
       "<g clip-path=\"url(#clip0300)\">\n",
       "<text style=\"fill:#000000; fill-opacity:1; font-family:Arial,Helvetica Neue,Helvetica,sans-serif; font-size:48px; text-anchor:end;\" transform=\"rotate(0, 156.66, 1390.75)\" x=\"156.66\" y=\"1390.75\">0.25</text>\n",
       "</g>\n",
       "<g clip-path=\"url(#clip0300)\">\n",
       "<text style=\"fill:#000000; fill-opacity:1; font-family:Arial,Helvetica Neue,Helvetica,sans-serif; font-size:48px; text-anchor:end;\" transform=\"rotate(0, 156.66, 1177.51)\" x=\"156.66\" y=\"1177.51\">0.50</text>\n",
       "</g>\n",
       "<g clip-path=\"url(#clip0300)\">\n",
       "<text style=\"fill:#000000; fill-opacity:1; font-family:Arial,Helvetica Neue,Helvetica,sans-serif; font-size:48px; text-anchor:end;\" transform=\"rotate(0, 156.66, 964.268)\" x=\"156.66\" y=\"964.268\">0.75</text>\n",
       "</g>\n",
       "<g clip-path=\"url(#clip0300)\">\n",
       "<text style=\"fill:#000000; fill-opacity:1; font-family:Arial,Helvetica Neue,Helvetica,sans-serif; font-size:48px; text-anchor:end;\" transform=\"rotate(0, 156.66, 751.029)\" x=\"156.66\" y=\"751.029\">1.00</text>\n",
       "</g>\n",
       "<g clip-path=\"url(#clip0300)\">\n",
       "<text style=\"fill:#000000; fill-opacity:1; font-family:Arial,Helvetica Neue,Helvetica,sans-serif; font-size:48px; text-anchor:end;\" transform=\"rotate(0, 156.66, 537.789)\" x=\"156.66\" y=\"537.789\">1.25</text>\n",
       "</g>\n",
       "<g clip-path=\"url(#clip0300)\">\n",
       "<text style=\"fill:#000000; fill-opacity:1; font-family:Arial,Helvetica Neue,Helvetica,sans-serif; font-size:48px; text-anchor:end;\" transform=\"rotate(0, 156.66, 324.55)\" x=\"156.66\" y=\"324.55\">1.50</text>\n",
       "</g>\n",
       "<g clip-path=\"url(#clip0300)\">\n",
       "<text style=\"fill:#000000; fill-opacity:1; font-family:Arial,Helvetica Neue,Helvetica,sans-serif; font-size:48px; text-anchor:end;\" transform=\"rotate(0, 156.66, 111.31)\" x=\"156.66\" y=\"111.31\">1.75</text>\n",
       "</g>\n",
       "<g clip-path=\"url(#clip0300)\">\n",
       "<text style=\"fill:#000000; fill-opacity:1; font-family:Arial,Helvetica Neue,Helvetica,sans-serif; font-size:66px; text-anchor:middle;\" transform=\"rotate(0, 1266.71, 1559.48)\" x=\"1266.71\" y=\"1559.48\">Epochs</text>\n",
       "</g>\n",
       "<polyline clip-path=\"url(#clip0302)\" style=\"stroke:#009af9; stroke-width:4; stroke-opacity:1; fill:none\" points=\"\n",
       "  242.135,86.2547 469.818,953.113 697.501,1157.59 925.184,1252.81 1152.87,1301.01 1380.55,1325.29 1608.23,1345.11 1835.92,1361.1 2063.6,1373.8 2291.28,1386.61 \n",
       "  \n",
       "  \"/>\n",
       "<polyline clip-path=\"url(#clip0302)\" style=\"stroke:#e26f46; stroke-width:4; stroke-opacity:1; fill:none\" points=\"\n",
       "  242.135,1056.17 469.818,928.642 697.501,864.207 925.184,833.04 1152.87,817.995 1380.55,811.477 1608.23,805.746 1835.92,799.824 2063.6,796.306 2291.28,792.79 \n",
       "  \n",
       "  \"/>\n",
       "<polyline clip-path=\"url(#clip0302)\" style=\"stroke:#3da44d; stroke-width:4; stroke-opacity:1; fill:none\" points=\"\n",
       "  242.135,1045.51 469.818,921.036 697.501,855.987 925.184,829.057 1152.87,816.985 1380.55,810.539 1608.23,806.003 1835.92,799.323 2063.6,796.674 2291.28,792.937 \n",
       "  \n",
       "  \"/>\n",
       "<polyline clip-path=\"url(#clip0302)\" style=\"stroke:#c271d2; stroke-width:4; stroke-opacity:1; fill:none\" points=\"\n",
       "  469.818,2803.99 469.818,-1331.13 \n",
       "  \"/>\n",
       "<path clip-path=\"url(#clip0300)\" d=\"\n",
       "M1735.83 433.164 L2280.76 433.164 L2280.76 130.764 L1735.83 130.764  Z\n",
       "  \" fill=\"#ffffff\" fill-rule=\"evenodd\" fill-opacity=\"1\"/>\n",
       "<polyline clip-path=\"url(#clip0300)\" style=\"stroke:#000000; stroke-width:4; stroke-opacity:1; fill:none\" points=\"\n",
       "  1735.83,433.164 2280.76,433.164 2280.76,130.764 1735.83,130.764 1735.83,433.164 \n",
       "  \"/>\n",
       "<polyline clip-path=\"url(#clip0300)\" style=\"stroke:#009af9; stroke-width:4; stroke-opacity:1; fill:none\" points=\"\n",
       "  1759.83,191.244 1903.83,191.244 \n",
       "  \"/>\n",
       "<g clip-path=\"url(#clip0300)\">\n",
       "<text style=\"fill:#000000; fill-opacity:1; font-family:Arial,Helvetica Neue,Helvetica,sans-serif; font-size:48px; text-anchor:start;\" transform=\"rotate(0, 1927.83, 208.744)\" x=\"1927.83\" y=\"208.744\">Cost</text>\n",
       "</g>\n",
       "<polyline clip-path=\"url(#clip0300)\" style=\"stroke:#e26f46; stroke-width:4; stroke-opacity:1; fill:none\" points=\"\n",
       "  1759.83,251.724 1903.83,251.724 \n",
       "  \"/>\n",
       "<g clip-path=\"url(#clip0300)\">\n",
       "<text style=\"fill:#000000; fill-opacity:1; font-family:Arial,Helvetica Neue,Helvetica,sans-serif; font-size:48px; text-anchor:start;\" transform=\"rotate(0, 1927.83, 269.224)\" x=\"1927.83\" y=\"269.224\">Accuracy</text>\n",
       "</g>\n",
       "<polyline clip-path=\"url(#clip0300)\" style=\"stroke:#3da44d; stroke-width:4; stroke-opacity:1; fill:none\" points=\"\n",
       "  1759.83,312.204 1903.83,312.204 \n",
       "  \"/>\n",
       "<g clip-path=\"url(#clip0300)\">\n",
       "<text style=\"fill:#000000; fill-opacity:1; font-family:Arial,Helvetica Neue,Helvetica,sans-serif; font-size:48px; text-anchor:start;\" transform=\"rotate(0, 1927.83, 329.704)\" x=\"1927.83\" y=\"329.704\">Test Accuracy</text>\n",
       "</g>\n",
       "<polyline clip-path=\"url(#clip0300)\" style=\"stroke:#c271d2; stroke-width:4; stroke-opacity:1; fill:none\" points=\"\n",
       "  1759.83,372.684 1903.83,372.684 \n",
       "  \"/>\n",
       "<g clip-path=\"url(#clip0300)\">\n",
       "<text style=\"fill:#000000; fill-opacity:1; font-family:Arial,Helvetica Neue,Helvetica,sans-serif; font-size:48px; text-anchor:start;\" transform=\"rotate(0, 1927.83, 390.184)\" x=\"1927.83\" y=\"390.184\">SVD start</text>\n",
       "</g>\n",
       "</svg>\n"
      ]
     },
     "execution_count": 73,
     "metadata": {},
     "output_type": "execute_result"
    }
   ],
   "source": [
    "plot(costs, label = \"Cost\")\n",
    "plot!(accuracies, label = \"Accuracy\")\n",
    "plot!(test_accuracies, label = \"Test Accuracy\")\n",
    "xlabel!(\"Epochs\")\n",
    "vline!([2], label = \"SVD start\", legend = :best)"
   ]
  },
  {
   "cell_type": "markdown",
   "metadata": {},
   "source": [
    "Without pre-training, the accuracy is quite a bit lower. So, pre-training definitely helps (see the paper for the reason)"
   ]
  },
  {
   "cell_type": "code",
   "execution_count": null,
   "metadata": {},
   "outputs": [],
   "source": []
  }
 ],
 "metadata": {
  "kernelspec": {
   "display_name": "Julia 1.3.0",
   "language": "julia",
   "name": "julia-1.3"
  },
  "language_info": {
   "file_extension": ".jl",
   "mimetype": "application/julia",
   "name": "julia",
   "version": "1.3.0"
  },
  "toc": {
   "base_numbering": 1,
   "nav_menu": {},
   "number_sections": true,
   "sideBar": true,
   "skip_h1_title": false,
   "title_cell": "Table of Contents",
   "title_sidebar": "Contents",
   "toc_cell": false,
   "toc_position": {
    "height": "calc(100% - 180px)",
    "left": "10px",
    "top": "150px",
    "width": "352px"
   },
   "toc_section_display": true,
   "toc_window_display": true
  },
  "varInspector": {
   "cols": {
    "lenName": 16,
    "lenType": 16,
    "lenVar": 40
   },
   "kernels_config": {
    "python": {
     "delete_cmd_postfix": "",
     "delete_cmd_prefix": "del ",
     "library": "var_list.py",
     "varRefreshCmd": "print(var_dic_list())"
    },
    "r": {
     "delete_cmd_postfix": ") ",
     "delete_cmd_prefix": "rm(",
     "library": "var_list.r",
     "varRefreshCmd": "cat(var_dic_list()) "
    }
   },
   "types_to_exclude": [
    "module",
    "function",
    "builtin_function_or_method",
    "instance",
    "_Feature"
   ],
   "window_display": false
  }
 },
 "nbformat": 4,
 "nbformat_minor": 2
}
