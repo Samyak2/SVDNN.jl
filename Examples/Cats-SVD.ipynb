{
 "cells": [
  {
   "cell_type": "markdown",
   "metadata": {},
   "source": [
    "# Accelerating training of a DNN using SVD - Cats Example"
   ]
  },
  {
   "cell_type": "markdown",
   "metadata": {},
   "source": [
    "Example on the Cat vs non-cat dataset (https://www.floydhub.com/deeplearningai/datasets/cat-vs-noncat).\n",
    "\n",
    "SVD-DNN shows improvements in training speed\n",
    "\n",
    "Note that the model in this notebook was not trained to convergence (you can get better results by training it more, SVD-DNN shows improvements in accuracy too)"
   ]
  },
  {
   "cell_type": "code",
   "execution_count": 2,
   "metadata": {
    "ExecuteTime": {
     "end_time": "2020-05-28T20:53:39.992000+05:30",
     "start_time": "2020-05-28T15:23:21.966Z"
    }
   },
   "outputs": [],
   "source": [
    "using HDF5\n",
    "using Images\n",
    "\n",
    "using LinearAlgebra\n",
    "\n",
    "using Flux\n",
    "using Flux: @epochs\n",
    "using Flux.Data: DataLoader\n",
    "using Flux.Optimise\n",
    "using Zygote: Params\n",
    "\n",
    "using BenchmarkTools: @btime\n",
    "using TimerOutputs\n",
    "\n",
    "using Plots"
   ]
  },
  {
   "cell_type": "code",
   "execution_count": 42,
   "metadata": {
    "ExecuteTime": {
     "end_time": "2020-05-28T21:01:45.740000+05:30",
     "start_time": "2020-05-28T15:31:45.634Z"
    }
   },
   "outputs": [
    {
     "name": "stderr",
     "output_type": "stream",
     "text": [
      "WARNING: redefining constant to\n"
     ]
    },
    {
     "data": {
      "text/plain": [
       "train_epochs_svd! (generic function with 3 methods)"
      ]
     },
     "execution_count": 42,
     "metadata": {},
     "output_type": "execute_result"
    }
   ],
   "source": [
    "include(\"../SVDNN.jl\")\n",
    "include(\"../SVDNN_utils.jl\")"
   ]
  },
  {
   "cell_type": "code",
   "execution_count": 47,
   "metadata": {
    "ExecuteTime": {
     "end_time": "2020-05-28T21:02:31.404000+05:30",
     "start_time": "2020-05-28T15:32:30.900Z"
    }
   },
   "outputs": [
    {
     "data": {
      "text/plain": [
       "\u001b[0m\u001b[1m ──────────────────────────────────────────────────────────────────\u001b[22m\n",
       "\u001b[0m\u001b[1m                   \u001b[22m        Time                   Allocations      \n",
       "                   ──────────────────────   ───────────────────────\n",
       " Tot / % measured:      285ms / 0.00%           28.3MiB / 0.00%    \n",
       "\n",
       " Section   ncalls     time   %tot     avg     alloc   %tot      avg\n",
       " ──────────────────────────────────────────────────────────────────\n",
       "\u001b[0m\u001b[1m ──────────────────────────────────────────────────────────────────\u001b[22m"
      ]
     },
     "execution_count": 47,
     "metadata": {},
     "output_type": "execute_result"
    }
   ],
   "source": [
    "reset_timer!(to)"
   ]
  },
  {
   "cell_type": "markdown",
   "metadata": {},
   "source": [
    "## Load data"
   ]
  },
  {
   "cell_type": "code",
   "execution_count": 4,
   "metadata": {
    "ExecuteTime": {
     "end_time": "2020-05-28T20:53:44.112000+05:30",
     "start_time": "2020-05-28T15:23:23.864Z"
    }
   },
   "outputs": [
    {
     "data": {
      "text/plain": [
       "\"datasets/test_catvnoncat.h5\""
      ]
     },
     "execution_count": 4,
     "metadata": {},
     "output_type": "execute_result"
    }
   ],
   "source": [
    "TRAIN_DATA_PATH=\"datasets/train_catvnoncat.h5\"\n",
    "TEST_DATA_PATH=\"datasets/test_catvnoncat.h5\""
   ]
  },
  {
   "cell_type": "code",
   "execution_count": 5,
   "metadata": {
    "ExecuteTime": {
     "end_time": "2020-05-28T20:53:45.047000+05:30",
     "start_time": "2020-05-28T15:23:24.005Z"
    }
   },
   "outputs": [],
   "source": [
    "train_data_x_orig = h5read(TRAIN_DATA_PATH, \"train_set_x\")\n",
    "train_data_y_orig = h5read(TRAIN_DATA_PATH, \"train_set_y\")\n",
    "nothing"
   ]
  },
  {
   "cell_type": "code",
   "execution_count": 6,
   "metadata": {
    "ExecuteTime": {
     "end_time": "2020-05-28T20:53:45.050000+05:30",
     "start_time": "2020-05-28T15:23:24.166Z"
    }
   },
   "outputs": [],
   "source": [
    "test_data_x_orig = h5read(TEST_DATA_PATH, \"test_set_x\")\n",
    "test_data_y_orig = h5read(TEST_DATA_PATH, \"test_set_y\")\n",
    "nothing"
   ]
  },
  {
   "cell_type": "code",
   "execution_count": 7,
   "metadata": {
    "ExecuteTime": {
     "end_time": "2020-05-28T20:53:46.039000+05:30",
     "start_time": "2020-05-28T15:23:25.350Z"
    }
   },
   "outputs": [
    {
     "data": {
      "text/plain": [
       "2-element Array{String,1}:\n",
       " \"non-cat\"\n",
       " \"cat\"    "
      ]
     },
     "execution_count": 7,
     "metadata": {},
     "output_type": "execute_result"
    }
   ],
   "source": [
    "classes = h5read(TEST_DATA_PATH, \"list_classes\")"
   ]
  },
  {
   "cell_type": "code",
   "execution_count": 8,
   "metadata": {
    "ExecuteTime": {
     "end_time": "2020-05-28T20:53:47.525000+05:30",
     "start_time": "2020-05-28T15:23:25.530Z"
    }
   },
   "outputs": [
    {
     "data": {
      "text/plain": [
       "1×50 Array{Int64,2}:\n",
       " 1  1  1  1  1  0  1  1  1  1  1  1  1  …  0  0  1  1  1  0  0  0  1  1  1  0"
      ]
     },
     "execution_count": 8,
     "metadata": {},
     "output_type": "execute_result"
    }
   ],
   "source": [
    "train_data_y_orig = reshape(train_data_y_orig, (1, size(train_data_y_orig)[1]))\n",
    "test_data_y_orig = reshape(test_data_y_orig, (1, size(test_data_y_orig)[1]))"
   ]
  },
  {
   "cell_type": "code",
   "execution_count": 9,
   "metadata": {
    "ExecuteTime": {
     "end_time": "2020-05-28T20:53:47.759000+05:30",
     "start_time": "2020-05-28T15:23:26.139Z"
    }
   },
   "outputs": [
    {
     "data": {
      "text/plain": [
       "reshape_image_array_reverse (generic function with 2 methods)"
      ]
     },
     "execution_count": 9,
     "metadata": {},
     "output_type": "execute_result"
    }
   ],
   "source": [
    "function reshape_image_array(image_array::Array{UInt8,4})\n",
    "    return reshape(image_array, :, size(image_array)[4])\n",
    "end\n",
    "function reshape_image_array_reverse(image_array::Array{UInt8,2})\n",
    "    return reshape(image_array, 64, 64, 3, :)\n",
    "end\n",
    "function reshape_image_array_reverse(image_array::Array{Float32,2})\n",
    "    return reshape(image_array, 64, 64, 3, :)\n",
    "end"
   ]
  },
  {
   "cell_type": "code",
   "execution_count": 10,
   "metadata": {
    "ExecuteTime": {
     "end_time": "2020-05-28T20:53:48.564000+05:30",
     "start_time": "2020-05-28T15:23:27.458Z"
    }
   },
   "outputs": [],
   "source": [
    "test_data_x = reshape_image_array(copy(permuteddimsview(test_data_x_orig, [3, 2, 1, 4])))\n",
    "test_data_x = Array{Float32, 2}(test_data_x) ./ 255\n",
    "\n",
    "train_data_x = reshape_image_array(copy(permuteddimsview(train_data_x_orig, [3, 2, 1, 4])))\n",
    "train_data_x = Array{Float32, 2}(train_data_x) ./ 255\n",
    "\n",
    "nothing"
   ]
  },
  {
   "cell_type": "markdown",
   "metadata": {},
   "source": [
    "## Model"
   ]
  },
  {
   "cell_type": "code",
   "execution_count": 11,
   "metadata": {
    "ExecuteTime": {
     "end_time": "2020-05-28T20:53:49.119000+05:30",
     "start_time": "2020-05-28T15:23:34.902Z"
    }
   },
   "outputs": [
    {
     "data": {
      "text/plain": [
       "0.001"
      ]
     },
     "execution_count": 11,
     "metadata": {},
     "output_type": "execute_result"
    }
   ],
   "source": [
    "num_features = 12288  # size of each input vector\n",
    "num_hidden_layer_neurons = 100  # Number of neurons in hidden layer\n",
    "learning_rate = 0.001"
   ]
  },
  {
   "cell_type": "code",
   "execution_count": 12,
   "metadata": {
    "ExecuteTime": {
     "end_time": "2020-05-28T20:53:50.439000+05:30",
     "start_time": "2020-05-28T15:23:36.467Z"
    }
   },
   "outputs": [
    {
     "name": "stdout",
     "output_type": "stream",
     "text": [
      "Keep l lesser than 99.19276719405876"
     ]
    },
    {
     "data": {
      "text/plain": [
       "2-element Array{Int64,1}:\n",
       " 50\n",
       "  1"
      ]
     },
     "execution_count": 12,
     "metadata": {},
     "output_type": "execute_result"
    }
   ],
   "source": [
    "# for SVD training\n",
    "max_l = (num_features * num_hidden_layer_neurons) / (num_features + num_hidden_layer_neurons)\n",
    "print(\"Keep l lesser than $max_l\")\n",
    "l_values = [50, 1]"
   ]
  },
  {
   "cell_type": "code",
   "execution_count": 13,
   "metadata": {
    "ExecuteTime": {
     "end_time": "2020-05-28T20:53:52+05:30",
     "start_time": "2020-05-28T15:23:44.622Z"
    }
   },
   "outputs": [
    {
     "data": {
      "text/plain": [
       "DataLoader((Float32[0.61960787 0.4509804 … 0.07058824 0.52156866; 0.61960787 0.48235294 … 0.08235294 0.30980393; … ; 0.41568628 0.7490196 … 0.5137255 0.07058824; 0.43137255 0.7294118 … 0.42352942 0.019607844], [1 1 … 1 0]), 1, 50, true, 50, [1, 2, 3, 4, 5, 6, 7, 8, 9, 10  …  41, 42, 43, 44, 45, 46, 47, 48, 49, 50], false)"
      ]
     },
     "execution_count": 13,
     "metadata": {},
     "output_type": "execute_result"
    }
   ],
   "source": [
    "data = DataLoader(train_data_x, train_data_y_orig)\n",
    "test_data = DataLoader(test_data_x, test_data_y_orig)"
   ]
  },
  {
   "cell_type": "code",
   "execution_count": 55,
   "metadata": {
    "ExecuteTime": {
     "end_time": "2020-05-28T21:04:34.533000+05:30",
     "start_time": "2020-05-28T15:34:34.521Z"
    }
   },
   "outputs": [
    {
     "name": "stdout",
     "output_type": "stream",
     "text": [
      "Model has 1229001 parameters\n"
     ]
    },
    {
     "data": {
      "text/plain": [
       "0-element Array{Any,1}"
      ]
     },
     "execution_count": 55,
     "metadata": {},
     "output_type": "execute_result"
    }
   ],
   "source": [
    "# build model\n",
    "model = Chain(\n",
    "              Dense(num_features, num_hidden_layer_neurons, relu),\n",
    "              Dense(num_hidden_layer_neurons, 1, σ)\n",
    "             )\n",
    "\n",
    "# store parameters of model\n",
    "ps = params(model)\n",
    "println(\"Model has $(sum(length, ps)) parameters\")\n",
    "\n",
    "# optimizer, gradient descent\n",
    "opt = Descent(learning_rate)\n",
    "\n",
    "# loss function\n",
    "loss(x, y, model) = Flux.binarycrossentropy(model(x)[1], y[1]) #+ α_norm * sum(norm, params(model))\n",
    "\n",
    "# arrays for plotting graphs\n",
    "costs = []\n",
    "accuracies = []\n",
    "test_accuracies = []"
   ]
  },
  {
   "cell_type": "code",
   "execution_count": 15,
   "metadata": {
    "ExecuteTime": {
     "end_time": "2020-05-28T20:53:53.971000+05:30",
     "start_time": "2020-05-28T15:23:47.662Z"
    }
   },
   "outputs": [
    {
     "data": {
      "text/plain": [
       "accuracy (generic function with 1 method)"
      ]
     },
     "execution_count": 15,
     "metadata": {},
     "output_type": "execute_result"
    }
   ],
   "source": [
    "function cost_function(data, loss, model)\n",
    "    losses = []\n",
    "    for (x, y) in data\n",
    "        push!(losses, loss(x, y, model))\n",
    "    end\n",
    "    avg_loss = sum(losses)/length(losses)\n",
    "    return avg_loss\n",
    "end\n",
    "\n",
    "function accuracy(data, model)\n",
    "    corrects = []\n",
    "    for (x, y) in data\n",
    "        pred = model(x)[1]\n",
    "        pred = pred >= 0.5 ? 1 : 0\n",
    "        push!(corrects, pred == y[1])\n",
    "    end\n",
    "    return sum(corrects)/length(corrects)\n",
    "end"
   ]
  },
  {
   "cell_type": "markdown",
   "metadata": {},
   "source": [
    "# SVD Train"
   ]
  },
  {
   "cell_type": "code",
   "execution_count": 56,
   "metadata": {
    "ExecuteTime": {
     "end_time": "2020-05-28T21:06:27.963000+05:30",
     "start_time": "2020-05-28T15:35:44.023Z"
    },
    "scrolled": false
   },
   "outputs": [
    {
     "name": "stdout",
     "output_type": "stream",
     "text": [
      "Cost at epoch 1 is 0.6961822. Accuracy 0.6555023923444976. Test accuracy 0.34\n",
      "Cost at epoch 2 is 0.6727652. Accuracy 0.6555023923444976. Test accuracy 0.34\n",
      "Finished pre-training\n",
      "Built SVD model\n",
      "SVD Model: Accuracy 0.6555023923444976. Test accuracy 0.34\n",
      "Begin tuning SVD model\n",
      "Cost at epoch 1 is 0.6493531. Accuracy 0.6555023923444976. Test accuracy 0.34\n",
      "Cost at epoch 2 is 0.6519461. Accuracy 0.6602870813397129. Test accuracy 0.34\n",
      "Cost at epoch 3 is 0.6340031. Accuracy 0.6602870813397129. Test accuracy 0.34\n",
      "Cost at epoch 4 is 0.63229537. Accuracy 0.6650717703349283. Test accuracy 0.34\n",
      "Cost at epoch 5 is 0.6046926. Accuracy 0.6698564593301436. Test accuracy 0.34\n",
      "Cost at epoch 6 is 0.5825674. Accuracy 0.6842105263157895. Test accuracy 0.34\n",
      "Cost at epoch 7 is 0.56422955. Accuracy 0.69377990430622. Test accuracy 0.34\n",
      "Cost at epoch 8 is 0.5469585. Accuracy 0.7033492822966507. Test accuracy 0.36\n",
      "Cost at epoch 9 is 0.53021085. Accuracy 0.722488038277512. Test accuracy 0.38\n",
      "Cost at epoch 10 is 0.5157707. Accuracy 0.7320574162679426. Test accuracy 0.38\n",
      "Cost at epoch 11 is 0.48443478. Accuracy 0.7368421052631579. Test accuracy 0.4\n",
      "Cost at epoch 12 is 0.48181102. Accuracy 0.7368421052631579. Test accuracy 0.4\n",
      "Cost at epoch 13 is 0.48045185. Accuracy 0.7464114832535885. Test accuracy 0.4\n",
      "Cost at epoch 14 is 0.45938626. Accuracy 0.7511961722488039. Test accuracy 0.4\n",
      "Cost at epoch 15 is 0.4349791. Accuracy 0.7607655502392344. Test accuracy 0.42\n",
      "Cost at epoch 16 is 0.42053422. Accuracy 0.7751196172248804. Test accuracy 0.42\n",
      "Cost at epoch 17 is 0.40579256. Accuracy 0.784688995215311. Test accuracy 0.44\n",
      "Cost at epoch 18 is 0.38829604. Accuracy 0.7894736842105263. Test accuracy 0.44\n",
      "Final accuracy 0.7894736842105263\n"
     ]
    }
   ],
   "source": [
    "@timeit to \"Full training SVD\" train_epochs_svd!(model, l_values, loss, data, test_data,\n",
    "                                                 opt, opt, 20)"
   ]
  },
  {
   "cell_type": "code",
   "execution_count": 57,
   "metadata": {
    "ExecuteTime": {
     "end_time": "2020-05-28T21:06:27.969000+05:30",
     "start_time": "2020-05-28T15:35:44.643Z"
    }
   },
   "outputs": [
    {
     "name": "stdout",
     "output_type": "stream",
     "text": [
      "\u001b[0m\u001b[1m ──────────────────────────────────────────────────────────────────────────────\u001b[22m\n",
      "\u001b[0m\u001b[1m                               \u001b[22m        Time                   Allocations      \n",
      "                               ──────────────────────   ───────────────────────\n",
      "       Tot / % measured:             237s / 57.7%           34.4GiB / 100%     \n",
      "\n",
      " Section               ncalls     time   %tot     avg     alloc   %tot      avg\n",
      " ──────────────────────────────────────────────────────────────────────────────\n",
      " Full training              2    92.8s  67.9%   46.4s   22.8GiB  66.3%  11.4GiB\n",
      "   Train one step          23    80.5s  58.9%   3.50s   22.3GiB  64.8%  0.97GiB\n",
      "     Update params      4.76k    41.4s  30.3%  8.70ms     0.00B  0.00%    0.00B\n",
      "     Calculate grad...  4.76k    38.4s  28.1%  8.06ms   22.1GiB  64.2%  4.74MiB\n",
      "     Get params            23    540μs  0.00%  23.5μs   23.4KiB  0.00%  1.02KiB\n",
      "   Calculate cost          22    6.60s  4.83%   300ms    225MiB  0.64%  10.2MiB\n",
      "   Calculate accuracy      22    4.49s  3.28%   204ms    224MiB  0.64%  10.2MiB\n",
      "   Calculate test a...     22    1.10s  0.81%  50.1ms   53.7MiB  0.15%  2.44MiB\n",
      " Full training SVD          1    43.9s  32.1%   43.9s   11.6GiB  33.7%  11.6GiB\n",
      "   Tuning SVD model         1    35.5s  26.0%   35.5s   9.50GiB  27.6%  9.50GiB\n",
      "     [SVD] Train on...     18    28.8s  21.1%   1.60s   9.09GiB  26.5%   517MiB\n",
      "       Update params    3.76k    15.7s  11.5%  4.17ms     0.00B  0.00%    0.00B\n",
      "       Calculate gr...  3.76k    12.5s  9.11%  3.31ms   8.91GiB  25.9%  2.43MiB\n",
      "       Get params          18    334μs  0.00%  18.5μs   23.3KiB  0.00%  1.30KiB\n",
      "     [SVD] Calculat...     18    3.93s  2.87%   218ms    185MiB  0.53%  10.3MiB\n",
      "     [SVD] Calculat...     18    2.19s  1.60%   121ms    185MiB  0.53%  10.3MiB\n",
      "     [SVD] Calculat...     18    541ms  0.40%  30.1ms   44.3MiB  0.13%  2.46MiB\n",
      "   Pre-training             1    7.04s  5.15%   7.04s   2.01GiB  5.84%  2.01GiB\n",
      "     Train one epoch        2    6.09s  4.45%   3.04s   1.96GiB  5.71%  0.98GiB\n",
      "       Update params      418    3.06s  2.24%  7.32ms     0.00B  0.00%    0.00B\n",
      "       Calculate gr...    418    2.97s  2.18%  7.11ms   1.94GiB  5.65%  4.76MiB\n",
      "       Get params           2   52.6μs  0.00%  26.3μs   2.03KiB  0.00%  1.02KiB\n",
      "     Calculate cost         2    554ms  0.41%   277ms   20.5MiB  0.06%  10.2MiB\n",
      "     Calculate accu...      2    309ms  0.23%   155ms   20.4MiB  0.06%  10.2MiB\n",
      "     Calculate test...      2   81.5ms  0.06%  40.8ms   4.88MiB  0.01%  2.44MiB\n",
      "   Build SVD model          1    365ms  0.27%   365ms   15.8MiB  0.04%  15.8MiB\n",
      "   Update weights o...      1   4.73ms  0.00%  4.73ms   4.69MiB  0.01%  4.69MiB\n",
      "\u001b[0m\u001b[1m ──────────────────────────────────────────────────────────────────────────────\u001b[22m"
     ]
    }
   ],
   "source": [
    "print_timer(to)"
   ]
  },
  {
   "cell_type": "markdown",
   "metadata": {},
   "source": [
    "It can be seen in the previous cell's output that training one step of SVD-DNN takes significantly less time than that of the normal DNN."
   ]
  },
  {
   "cell_type": "code",
   "execution_count": 58,
   "metadata": {
    "ExecuteTime": {
     "end_time": "2020-05-28T21:06:27.991000+05:30",
     "start_time": "2020-05-28T15:35:45.323Z"
    }
   },
   "outputs": [
    {
     "data": {
      "image/svg+xml": [
       "<?xml version=\"1.0\" encoding=\"utf-8\"?>\n",
       "<svg xmlns=\"http://www.w3.org/2000/svg\" xmlns:xlink=\"http://www.w3.org/1999/xlink\" width=\"600\" height=\"400\" viewBox=\"0 0 2400 1600\">\n",
       "<defs>\n",
       "  <clipPath id=\"clip0200\">\n",
       "    <rect x=\"0\" y=\"0\" width=\"2400\" height=\"1600\"/>\n",
       "  </clipPath>\n",
       "</defs>\n",
       "<path clip-path=\"url(#clip0200)\" d=\"\n",
       "M0 1600 L2400 1600 L2400 0 L0 0  Z\n",
       "  \" fill=\"#ffffff\" fill-rule=\"evenodd\" fill-opacity=\"1\"/>\n",
       "<defs>\n",
       "  <clipPath id=\"clip0201\">\n",
       "    <rect x=\"480\" y=\"0\" width=\"1681\" height=\"1600\"/>\n",
       "  </clipPath>\n",
       "</defs>\n",
       "<path clip-path=\"url(#clip0200)\" d=\"\n",
       "M153.898 1425.62 L2352.76 1425.62 L2352.76 47.2441 L153.898 47.2441  Z\n",
       "  \" fill=\"#ffffff\" fill-rule=\"evenodd\" fill-opacity=\"1\"/>\n",
       "<defs>\n",
       "  <clipPath id=\"clip0202\">\n",
       "    <rect x=\"153\" y=\"47\" width=\"2200\" height=\"1379\"/>\n",
       "  </clipPath>\n",
       "</defs>\n",
       "<polyline clip-path=\"url(#clip0202)\" style=\"stroke:#000000; stroke-width:2; stroke-opacity:0.1; fill:none\" points=\"\n",
       "  652.844,1425.62 652.844,47.2441 \n",
       "  \"/>\n",
       "<polyline clip-path=\"url(#clip0202)\" style=\"stroke:#000000; stroke-width:2; stroke-opacity:0.1; fill:none\" points=\"\n",
       "  1198.74,1425.62 1198.74,47.2441 \n",
       "  \"/>\n",
       "<polyline clip-path=\"url(#clip0202)\" style=\"stroke:#000000; stroke-width:2; stroke-opacity:0.1; fill:none\" points=\"\n",
       "  1744.63,1425.62 1744.63,47.2441 \n",
       "  \"/>\n",
       "<polyline clip-path=\"url(#clip0202)\" style=\"stroke:#000000; stroke-width:2; stroke-opacity:0.1; fill:none\" points=\"\n",
       "  2290.52,1425.62 2290.52,47.2441 \n",
       "  \"/>\n",
       "<polyline clip-path=\"url(#clip0202)\" style=\"stroke:#000000; stroke-width:2; stroke-opacity:0.1; fill:none\" points=\"\n",
       "  153.898,1213.02 2352.76,1213.02 \n",
       "  \"/>\n",
       "<polyline clip-path=\"url(#clip0202)\" style=\"stroke:#000000; stroke-width:2; stroke-opacity:0.1; fill:none\" points=\"\n",
       "  153.898,923.719 2352.76,923.719 \n",
       "  \"/>\n",
       "<polyline clip-path=\"url(#clip0202)\" style=\"stroke:#000000; stroke-width:2; stroke-opacity:0.1; fill:none\" points=\"\n",
       "  153.898,634.413 2352.76,634.413 \n",
       "  \"/>\n",
       "<polyline clip-path=\"url(#clip0202)\" style=\"stroke:#000000; stroke-width:2; stroke-opacity:0.1; fill:none\" points=\"\n",
       "  153.898,345.107 2352.76,345.107 \n",
       "  \"/>\n",
       "<polyline clip-path=\"url(#clip0202)\" style=\"stroke:#000000; stroke-width:2; stroke-opacity:0.1; fill:none\" points=\"\n",
       "  153.898,55.8015 2352.76,55.8015 \n",
       "  \"/>\n",
       "<polyline clip-path=\"url(#clip0200)\" style=\"stroke:#000000; stroke-width:4; stroke-opacity:1; fill:none\" points=\"\n",
       "  153.898,1425.62 2352.76,1425.62 \n",
       "  \"/>\n",
       "<polyline clip-path=\"url(#clip0200)\" style=\"stroke:#000000; stroke-width:4; stroke-opacity:1; fill:none\" points=\"\n",
       "  153.898,1425.62 153.898,47.2441 \n",
       "  \"/>\n",
       "<polyline clip-path=\"url(#clip0200)\" style=\"stroke:#000000; stroke-width:4; stroke-opacity:1; fill:none\" points=\"\n",
       "  652.844,1425.62 652.844,1409.08 \n",
       "  \"/>\n",
       "<polyline clip-path=\"url(#clip0200)\" style=\"stroke:#000000; stroke-width:4; stroke-opacity:1; fill:none\" points=\"\n",
       "  1198.74,1425.62 1198.74,1409.08 \n",
       "  \"/>\n",
       "<polyline clip-path=\"url(#clip0200)\" style=\"stroke:#000000; stroke-width:4; stroke-opacity:1; fill:none\" points=\"\n",
       "  1744.63,1425.62 1744.63,1409.08 \n",
       "  \"/>\n",
       "<polyline clip-path=\"url(#clip0200)\" style=\"stroke:#000000; stroke-width:4; stroke-opacity:1; fill:none\" points=\"\n",
       "  2290.52,1425.62 2290.52,1409.08 \n",
       "  \"/>\n",
       "<polyline clip-path=\"url(#clip0200)\" style=\"stroke:#000000; stroke-width:4; stroke-opacity:1; fill:none\" points=\"\n",
       "  153.898,1213.02 180.284,1213.02 \n",
       "  \"/>\n",
       "<polyline clip-path=\"url(#clip0200)\" style=\"stroke:#000000; stroke-width:4; stroke-opacity:1; fill:none\" points=\"\n",
       "  153.898,923.719 180.284,923.719 \n",
       "  \"/>\n",
       "<polyline clip-path=\"url(#clip0200)\" style=\"stroke:#000000; stroke-width:4; stroke-opacity:1; fill:none\" points=\"\n",
       "  153.898,634.413 180.284,634.413 \n",
       "  \"/>\n",
       "<polyline clip-path=\"url(#clip0200)\" style=\"stroke:#000000; stroke-width:4; stroke-opacity:1; fill:none\" points=\"\n",
       "  153.898,345.107 180.284,345.107 \n",
       "  \"/>\n",
       "<polyline clip-path=\"url(#clip0200)\" style=\"stroke:#000000; stroke-width:4; stroke-opacity:1; fill:none\" points=\"\n",
       "  153.898,55.8015 180.284,55.8015 \n",
       "  \"/>\n",
       "<g clip-path=\"url(#clip0200)\">\n",
       "<text style=\"fill:#000000; fill-opacity:1; font-family:Arial,Helvetica Neue,Helvetica,sans-serif; font-size:48px; text-anchor:middle;\" transform=\"rotate(0, 652.844, 1479.62)\" x=\"652.844\" y=\"1479.62\">5</text>\n",
       "</g>\n",
       "<g clip-path=\"url(#clip0200)\">\n",
       "<text style=\"fill:#000000; fill-opacity:1; font-family:Arial,Helvetica Neue,Helvetica,sans-serif; font-size:48px; text-anchor:middle;\" transform=\"rotate(0, 1198.74, 1479.62)\" x=\"1198.74\" y=\"1479.62\">10</text>\n",
       "</g>\n",
       "<g clip-path=\"url(#clip0200)\">\n",
       "<text style=\"fill:#000000; fill-opacity:1; font-family:Arial,Helvetica Neue,Helvetica,sans-serif; font-size:48px; text-anchor:middle;\" transform=\"rotate(0, 1744.63, 1479.62)\" x=\"1744.63\" y=\"1479.62\">15</text>\n",
       "</g>\n",
       "<g clip-path=\"url(#clip0200)\">\n",
       "<text style=\"fill:#000000; fill-opacity:1; font-family:Arial,Helvetica Neue,Helvetica,sans-serif; font-size:48px; text-anchor:middle;\" transform=\"rotate(0, 2290.52, 1479.62)\" x=\"2290.52\" y=\"1479.62\">20</text>\n",
       "</g>\n",
       "<g clip-path=\"url(#clip0200)\">\n",
       "<text style=\"fill:#000000; fill-opacity:1; font-family:Arial,Helvetica Neue,Helvetica,sans-serif; font-size:48px; text-anchor:end;\" transform=\"rotate(0, 129.898, 1230.52)\" x=\"129.898\" y=\"1230.52\">0.4</text>\n",
       "</g>\n",
       "<g clip-path=\"url(#clip0200)\">\n",
       "<text style=\"fill:#000000; fill-opacity:1; font-family:Arial,Helvetica Neue,Helvetica,sans-serif; font-size:48px; text-anchor:end;\" transform=\"rotate(0, 129.898, 941.219)\" x=\"129.898\" y=\"941.219\">0.5</text>\n",
       "</g>\n",
       "<g clip-path=\"url(#clip0200)\">\n",
       "<text style=\"fill:#000000; fill-opacity:1; font-family:Arial,Helvetica Neue,Helvetica,sans-serif; font-size:48px; text-anchor:end;\" transform=\"rotate(0, 129.898, 651.913)\" x=\"129.898\" y=\"651.913\">0.6</text>\n",
       "</g>\n",
       "<g clip-path=\"url(#clip0200)\">\n",
       "<text style=\"fill:#000000; fill-opacity:1; font-family:Arial,Helvetica Neue,Helvetica,sans-serif; font-size:48px; text-anchor:end;\" transform=\"rotate(0, 129.898, 362.607)\" x=\"129.898\" y=\"362.607\">0.7</text>\n",
       "</g>\n",
       "<g clip-path=\"url(#clip0200)\">\n",
       "<text style=\"fill:#000000; fill-opacity:1; font-family:Arial,Helvetica Neue,Helvetica,sans-serif; font-size:48px; text-anchor:end;\" transform=\"rotate(0, 129.898, 73.3015)\" x=\"129.898\" y=\"73.3015\">0.8</text>\n",
       "</g>\n",
       "<g clip-path=\"url(#clip0200)\">\n",
       "<text style=\"fill:#000000; fill-opacity:1; font-family:Arial,Helvetica Neue,Helvetica,sans-serif; font-size:66px; text-anchor:middle;\" transform=\"rotate(0, 1253.33, 1559.48)\" x=\"1253.33\" y=\"1559.48\">Epochs</text>\n",
       "</g>\n",
       "<polyline clip-path=\"url(#clip0202)\" style=\"stroke:#009af9; stroke-width:4; stroke-opacity:1; fill:none\" points=\"\n",
       "  216.13,356.152 325.308,423.899 434.487,491.632 543.666,484.13 652.844,536.04 762.023,540.981 871.202,620.837 980.38,684.847 1089.56,737.899 1198.74,787.865 \n",
       "  1307.92,836.317 1417.09,878.093 1526.27,968.75 1635.45,976.341 1744.63,980.273 1853.81,1041.22 1962.99,1111.83 2072.17,1153.62 2181.35,1196.27 2290.52,1246.88 \n",
       "  \n",
       "  \"/>\n",
       "<polyline clip-path=\"url(#clip0202)\" style=\"stroke:#e26f46; stroke-width:4; stroke-opacity:1; fill:none\" points=\"\n",
       "  216.13,473.841 325.308,473.841 434.487,473.841 543.666,459.999 652.844,459.999 762.023,446.157 871.202,432.314 980.38,390.787 1089.56,363.102 1198.74,335.418 \n",
       "  1307.92,280.048 1417.09,252.363 1526.27,238.521 1635.45,238.521 1744.63,210.836 1853.81,196.994 1962.99,169.309 2072.17,127.782 2181.35,100.097 2290.52,86.2547 \n",
       "  \n",
       "  \"/>\n",
       "<polyline clip-path=\"url(#clip0202)\" style=\"stroke:#3da44d; stroke-width:4; stroke-opacity:1; fill:none\" points=\"\n",
       "  216.13,1386.61 325.308,1386.61 434.487,1386.61 543.666,1386.61 652.844,1386.61 762.023,1386.61 871.202,1386.61 980.38,1386.61 1089.56,1386.61 1198.74,1328.75 \n",
       "  1307.92,1270.89 1417.09,1270.89 1526.27,1213.02 1635.45,1213.02 1744.63,1213.02 1853.81,1213.02 1962.99,1155.16 2072.17,1155.16 2181.35,1097.3 2290.52,1097.3 \n",
       "  \n",
       "  \"/>\n",
       "<polyline clip-path=\"url(#clip0202)\" style=\"stroke:#c271d2; stroke-width:4; stroke-opacity:1; fill:none\" points=\"\n",
       "  1307.92,2803.99 1307.92,-1331.13 \n",
       "  \"/>\n",
       "<path clip-path=\"url(#clip0200)\" d=\"\n",
       "M1735.83 1031.77 L2280.76 1031.77 L2280.76 729.373 L1735.83 729.373  Z\n",
       "  \" fill=\"#ffffff\" fill-rule=\"evenodd\" fill-opacity=\"1\"/>\n",
       "<polyline clip-path=\"url(#clip0200)\" style=\"stroke:#000000; stroke-width:4; stroke-opacity:1; fill:none\" points=\"\n",
       "  1735.83,1031.77 2280.76,1031.77 2280.76,729.373 1735.83,729.373 1735.83,1031.77 \n",
       "  \"/>\n",
       "<polyline clip-path=\"url(#clip0200)\" style=\"stroke:#009af9; stroke-width:4; stroke-opacity:1; fill:none\" points=\"\n",
       "  1759.83,789.853 1903.83,789.853 \n",
       "  \"/>\n",
       "<g clip-path=\"url(#clip0200)\">\n",
       "<text style=\"fill:#000000; fill-opacity:1; font-family:Arial,Helvetica Neue,Helvetica,sans-serif; font-size:48px; text-anchor:start;\" transform=\"rotate(0, 1927.83, 807.353)\" x=\"1927.83\" y=\"807.353\">Cost</text>\n",
       "</g>\n",
       "<polyline clip-path=\"url(#clip0200)\" style=\"stroke:#e26f46; stroke-width:4; stroke-opacity:1; fill:none\" points=\"\n",
       "  1759.83,850.333 1903.83,850.333 \n",
       "  \"/>\n",
       "<g clip-path=\"url(#clip0200)\">\n",
       "<text style=\"fill:#000000; fill-opacity:1; font-family:Arial,Helvetica Neue,Helvetica,sans-serif; font-size:48px; text-anchor:start;\" transform=\"rotate(0, 1927.83, 867.833)\" x=\"1927.83\" y=\"867.833\">Accuracy</text>\n",
       "</g>\n",
       "<polyline clip-path=\"url(#clip0200)\" style=\"stroke:#3da44d; stroke-width:4; stroke-opacity:1; fill:none\" points=\"\n",
       "  1759.83,910.813 1903.83,910.813 \n",
       "  \"/>\n",
       "<g clip-path=\"url(#clip0200)\">\n",
       "<text style=\"fill:#000000; fill-opacity:1; font-family:Arial,Helvetica Neue,Helvetica,sans-serif; font-size:48px; text-anchor:start;\" transform=\"rotate(0, 1927.83, 928.313)\" x=\"1927.83\" y=\"928.313\">Test Accuracy</text>\n",
       "</g>\n",
       "<polyline clip-path=\"url(#clip0200)\" style=\"stroke:#c271d2; stroke-width:4; stroke-opacity:1; fill:none\" points=\"\n",
       "  1759.83,971.293 1903.83,971.293 \n",
       "  \"/>\n",
       "<g clip-path=\"url(#clip0200)\">\n",
       "<text style=\"fill:#000000; fill-opacity:1; font-family:Arial,Helvetica Neue,Helvetica,sans-serif; font-size:48px; text-anchor:start;\" transform=\"rotate(0, 1927.83, 988.793)\" x=\"1927.83\" y=\"988.793\">SVD start</text>\n",
       "</g>\n",
       "</svg>\n"
      ]
     },
     "execution_count": 58,
     "metadata": {},
     "output_type": "execute_result"
    }
   ],
   "source": [
    "plot(costs, label = \"Cost\")\n",
    "plot!(accuracies, label = \"Accuracy\")\n",
    "plot!(test_accuracies, label = \"Test Accuracy\")\n",
    "xlabel!(\"Epochs\")\n",
    "vline!([11], label = \"SVD start\", legend = :right)"
   ]
  },
  {
   "cell_type": "markdown",
   "metadata": {},
   "source": [
    "# Normal Model\n",
    "\n",
    "Initialize model (from [Model](#Model)) before running"
   ]
  },
  {
   "cell_type": "code",
   "execution_count": 52,
   "metadata": {
    "ExecuteTime": {
     "end_time": "2020-05-28T21:04:18.578000+05:30",
     "start_time": "2020-05-28T15:32:56.391Z"
    }
   },
   "outputs": [
    {
     "name": "stdout",
     "output_type": "stream",
     "text": [
      "Cost at epoch 1 is 0.693501. Accuracy 0.6507177033492823. Test accuracy 0.34\n",
      "Cost at epoch 2 is 0.668917. Accuracy 0.6602870813397129. Test accuracy 0.34\n",
      "Cost at epoch 3 is 0.6536845. Accuracy 0.6602870813397129. Test accuracy 0.34\n",
      "Cost at epoch 4 is 0.6422135. Accuracy 0.6698564593301436. Test accuracy 0.34\n",
      "Cost at epoch 5 is 0.60601115. Accuracy 0.6794258373205742. Test accuracy 0.34\n",
      "Cost at epoch 6 is 0.5913277. Accuracy 0.6794258373205742. Test accuracy 0.34\n",
      "Cost at epoch 7 is 0.56927574. Accuracy 0.7033492822966507. Test accuracy 0.38\n",
      "Cost at epoch 8 is 0.5486844. Accuracy 0.6985645933014354. Test accuracy 0.38\n",
      "Cost at epoch 9 is 0.53253067. Accuracy 0.7081339712918661. Test accuracy 0.36\n",
      "Cost at epoch 10 is 0.508357. Accuracy 0.722488038277512. Test accuracy 0.38\n",
      "Cost at epoch 11 is 0.50316566. Accuracy 0.7272727272727273. Test accuracy 0.38\n",
      "Cost at epoch 12 is 0.4885759. Accuracy 0.7416267942583732. Test accuracy 0.38\n",
      "Cost at epoch 13 is 0.47492504. Accuracy 0.7464114832535885. Test accuracy 0.38\n",
      "Cost at epoch 14 is 0.45640877. Accuracy 0.7511961722488039. Test accuracy 0.44\n",
      "Cost at epoch 15 is 0.43776092. Accuracy 0.7607655502392344. Test accuracy 0.44\n",
      "Cost at epoch 16 is 0.42906526. Accuracy 0.7655502392344498. Test accuracy 0.44\n",
      "Cost at epoch 17 is 0.40887845. Accuracy 0.7894736842105263. Test accuracy 0.44\n",
      "Cost at epoch 18 is 0.3957239. Accuracy 0.7942583732057417. Test accuracy 0.48\n",
      "Cost at epoch 19 is 0.3789038. Accuracy 0.8086124401913876. Test accuracy 0.54\n",
      "Cost at epoch 20 is 0.35930866. Accuracy 0.8086124401913876. Test accuracy 0.56\n"
     ]
    }
   ],
   "source": [
    "@timeit to \"Full training\" train_epochs!(loss, data, test_data, opt, model, 20)"
   ]
  },
  {
   "cell_type": "code",
   "execution_count": 53,
   "metadata": {
    "ExecuteTime": {
     "end_time": "2020-05-28T21:04:18.580000+05:30",
     "start_time": "2020-05-28T15:32:56.780Z"
    }
   },
   "outputs": [
    {
     "name": "stdout",
     "output_type": "stream",
     "text": [
      "\u001b[0m\u001b[1m ──────────────────────────────────────────────────────────────────────────────\u001b[22m\n",
      "\u001b[0m\u001b[1m                               \u001b[22m        Time                   Allocations      \n",
      "                               ──────────────────────   ───────────────────────\n",
      "       Tot / % measured:             108s / 86.2%           22.8GiB / 100%     \n",
      "\n",
      " Section               ncalls     time   %tot     avg     alloc   %tot      avg\n",
      " ──────────────────────────────────────────────────────────────────────────────\n",
      " Full training              2    92.8s   100%   46.4s   22.8GiB  100%   11.4GiB\n",
      "   Train one step          23    80.5s  86.8%   3.50s   22.3GiB  97.8%  0.97GiB\n",
      "     Update params      4.76k    41.4s  44.7%  8.70ms     0.00B  0.00%    0.00B\n",
      "     Calculate grad...  4.76k    38.4s  41.4%  8.06ms   22.1GiB  96.9%  4.74MiB\n",
      "     Get params            23    540μs  0.00%  23.5μs   23.4KiB  0.00%  1.02KiB\n",
      "   Calculate cost          22    6.60s  7.11%   300ms    225MiB  0.96%  10.2MiB\n",
      "   Calculate accuracy      22    4.49s  4.84%   204ms    224MiB  0.96%  10.2MiB\n",
      "   Calculate test a...     22    1.10s  1.19%  50.1ms   53.7MiB  0.23%  2.44MiB\n",
      "\u001b[0m\u001b[1m ──────────────────────────────────────────────────────────────────────────────\u001b[22m"
     ]
    }
   ],
   "source": [
    "print_timer(to)"
   ]
  },
  {
   "cell_type": "code",
   "execution_count": 54,
   "metadata": {
    "ExecuteTime": {
     "end_time": "2020-05-28T21:04:18.599000+05:30",
     "start_time": "2020-05-28T15:32:57.099Z"
    }
   },
   "outputs": [
    {
     "data": {
      "image/svg+xml": [
       "<?xml version=\"1.0\" encoding=\"utf-8\"?>\n",
       "<svg xmlns=\"http://www.w3.org/2000/svg\" xmlns:xlink=\"http://www.w3.org/1999/xlink\" width=\"600\" height=\"400\" viewBox=\"0 0 2400 1600\">\n",
       "<defs>\n",
       "  <clipPath id=\"clip9800\">\n",
       "    <rect x=\"0\" y=\"0\" width=\"2400\" height=\"1600\"/>\n",
       "  </clipPath>\n",
       "</defs>\n",
       "<path clip-path=\"url(#clip9800)\" d=\"\n",
       "M0 1600 L2400 1600 L2400 0 L0 0  Z\n",
       "  \" fill=\"#ffffff\" fill-rule=\"evenodd\" fill-opacity=\"1\"/>\n",
       "<defs>\n",
       "  <clipPath id=\"clip9801\">\n",
       "    <rect x=\"480\" y=\"0\" width=\"1681\" height=\"1600\"/>\n",
       "  </clipPath>\n",
       "</defs>\n",
       "<path clip-path=\"url(#clip9800)\" d=\"\n",
       "M153.898 1425.62 L2352.76 1425.62 L2352.76 47.2441 L153.898 47.2441  Z\n",
       "  \" fill=\"#ffffff\" fill-rule=\"evenodd\" fill-opacity=\"1\"/>\n",
       "<defs>\n",
       "  <clipPath id=\"clip9802\">\n",
       "    <rect x=\"153\" y=\"47\" width=\"2200\" height=\"1379\"/>\n",
       "  </clipPath>\n",
       "</defs>\n",
       "<polyline clip-path=\"url(#clip9802)\" style=\"stroke:#000000; stroke-width:2; stroke-opacity:0.1; fill:none\" points=\"\n",
       "  652.844,1425.62 652.844,47.2441 \n",
       "  \"/>\n",
       "<polyline clip-path=\"url(#clip9802)\" style=\"stroke:#000000; stroke-width:2; stroke-opacity:0.1; fill:none\" points=\"\n",
       "  1198.74,1425.62 1198.74,47.2441 \n",
       "  \"/>\n",
       "<polyline clip-path=\"url(#clip9802)\" style=\"stroke:#000000; stroke-width:2; stroke-opacity:0.1; fill:none\" points=\"\n",
       "  1744.63,1425.62 1744.63,47.2441 \n",
       "  \"/>\n",
       "<polyline clip-path=\"url(#clip9802)\" style=\"stroke:#000000; stroke-width:2; stroke-opacity:0.1; fill:none\" points=\"\n",
       "  2290.52,1425.62 2290.52,47.2441 \n",
       "  \"/>\n",
       "<polyline clip-path=\"url(#clip9802)\" style=\"stroke:#000000; stroke-width:2; stroke-opacity:0.1; fill:none\" points=\"\n",
       "  153.898,1220.11 2352.76,1220.11 \n",
       "  \"/>\n",
       "<polyline clip-path=\"url(#clip9802)\" style=\"stroke:#000000; stroke-width:2; stroke-opacity:0.1; fill:none\" points=\"\n",
       "  153.898,942.624 2352.76,942.624 \n",
       "  \"/>\n",
       "<polyline clip-path=\"url(#clip9802)\" style=\"stroke:#000000; stroke-width:2; stroke-opacity:0.1; fill:none\" points=\"\n",
       "  153.898,665.134 2352.76,665.134 \n",
       "  \"/>\n",
       "<polyline clip-path=\"url(#clip9802)\" style=\"stroke:#000000; stroke-width:2; stroke-opacity:0.1; fill:none\" points=\"\n",
       "  153.898,387.644 2352.76,387.644 \n",
       "  \"/>\n",
       "<polyline clip-path=\"url(#clip9802)\" style=\"stroke:#000000; stroke-width:2; stroke-opacity:0.1; fill:none\" points=\"\n",
       "  153.898,110.153 2352.76,110.153 \n",
       "  \"/>\n",
       "<polyline clip-path=\"url(#clip9800)\" style=\"stroke:#000000; stroke-width:4; stroke-opacity:1; fill:none\" points=\"\n",
       "  153.898,1425.62 2352.76,1425.62 \n",
       "  \"/>\n",
       "<polyline clip-path=\"url(#clip9800)\" style=\"stroke:#000000; stroke-width:4; stroke-opacity:1; fill:none\" points=\"\n",
       "  153.898,1425.62 153.898,47.2441 \n",
       "  \"/>\n",
       "<polyline clip-path=\"url(#clip9800)\" style=\"stroke:#000000; stroke-width:4; stroke-opacity:1; fill:none\" points=\"\n",
       "  652.844,1425.62 652.844,1409.08 \n",
       "  \"/>\n",
       "<polyline clip-path=\"url(#clip9800)\" style=\"stroke:#000000; stroke-width:4; stroke-opacity:1; fill:none\" points=\"\n",
       "  1198.74,1425.62 1198.74,1409.08 \n",
       "  \"/>\n",
       "<polyline clip-path=\"url(#clip9800)\" style=\"stroke:#000000; stroke-width:4; stroke-opacity:1; fill:none\" points=\"\n",
       "  1744.63,1425.62 1744.63,1409.08 \n",
       "  \"/>\n",
       "<polyline clip-path=\"url(#clip9800)\" style=\"stroke:#000000; stroke-width:4; stroke-opacity:1; fill:none\" points=\"\n",
       "  2290.52,1425.62 2290.52,1409.08 \n",
       "  \"/>\n",
       "<polyline clip-path=\"url(#clip9800)\" style=\"stroke:#000000; stroke-width:4; stroke-opacity:1; fill:none\" points=\"\n",
       "  153.898,1220.11 180.284,1220.11 \n",
       "  \"/>\n",
       "<polyline clip-path=\"url(#clip9800)\" style=\"stroke:#000000; stroke-width:4; stroke-opacity:1; fill:none\" points=\"\n",
       "  153.898,942.624 180.284,942.624 \n",
       "  \"/>\n",
       "<polyline clip-path=\"url(#clip9800)\" style=\"stroke:#000000; stroke-width:4; stroke-opacity:1; fill:none\" points=\"\n",
       "  153.898,665.134 180.284,665.134 \n",
       "  \"/>\n",
       "<polyline clip-path=\"url(#clip9800)\" style=\"stroke:#000000; stroke-width:4; stroke-opacity:1; fill:none\" points=\"\n",
       "  153.898,387.644 180.284,387.644 \n",
       "  \"/>\n",
       "<polyline clip-path=\"url(#clip9800)\" style=\"stroke:#000000; stroke-width:4; stroke-opacity:1; fill:none\" points=\"\n",
       "  153.898,110.153 180.284,110.153 \n",
       "  \"/>\n",
       "<g clip-path=\"url(#clip9800)\">\n",
       "<text style=\"fill:#000000; fill-opacity:1; font-family:Arial,Helvetica Neue,Helvetica,sans-serif; font-size:48px; text-anchor:middle;\" transform=\"rotate(0, 652.844, 1479.62)\" x=\"652.844\" y=\"1479.62\">5</text>\n",
       "</g>\n",
       "<g clip-path=\"url(#clip9800)\">\n",
       "<text style=\"fill:#000000; fill-opacity:1; font-family:Arial,Helvetica Neue,Helvetica,sans-serif; font-size:48px; text-anchor:middle;\" transform=\"rotate(0, 1198.74, 1479.62)\" x=\"1198.74\" y=\"1479.62\">10</text>\n",
       "</g>\n",
       "<g clip-path=\"url(#clip9800)\">\n",
       "<text style=\"fill:#000000; fill-opacity:1; font-family:Arial,Helvetica Neue,Helvetica,sans-serif; font-size:48px; text-anchor:middle;\" transform=\"rotate(0, 1744.63, 1479.62)\" x=\"1744.63\" y=\"1479.62\">15</text>\n",
       "</g>\n",
       "<g clip-path=\"url(#clip9800)\">\n",
       "<text style=\"fill:#000000; fill-opacity:1; font-family:Arial,Helvetica Neue,Helvetica,sans-serif; font-size:48px; text-anchor:middle;\" transform=\"rotate(0, 2290.52, 1479.62)\" x=\"2290.52\" y=\"1479.62\">20</text>\n",
       "</g>\n",
       "<g clip-path=\"url(#clip9800)\">\n",
       "<text style=\"fill:#000000; fill-opacity:1; font-family:Arial,Helvetica Neue,Helvetica,sans-serif; font-size:48px; text-anchor:end;\" transform=\"rotate(0, 129.898, 1237.61)\" x=\"129.898\" y=\"1237.61\">0.4</text>\n",
       "</g>\n",
       "<g clip-path=\"url(#clip9800)\">\n",
       "<text style=\"fill:#000000; fill-opacity:1; font-family:Arial,Helvetica Neue,Helvetica,sans-serif; font-size:48px; text-anchor:end;\" transform=\"rotate(0, 129.898, 960.124)\" x=\"129.898\" y=\"960.124\">0.5</text>\n",
       "</g>\n",
       "<g clip-path=\"url(#clip9800)\">\n",
       "<text style=\"fill:#000000; fill-opacity:1; font-family:Arial,Helvetica Neue,Helvetica,sans-serif; font-size:48px; text-anchor:end;\" transform=\"rotate(0, 129.898, 682.634)\" x=\"129.898\" y=\"682.634\">0.6</text>\n",
       "</g>\n",
       "<g clip-path=\"url(#clip9800)\">\n",
       "<text style=\"fill:#000000; fill-opacity:1; font-family:Arial,Helvetica Neue,Helvetica,sans-serif; font-size:48px; text-anchor:end;\" transform=\"rotate(0, 129.898, 405.144)\" x=\"129.898\" y=\"405.144\">0.7</text>\n",
       "</g>\n",
       "<g clip-path=\"url(#clip9800)\">\n",
       "<text style=\"fill:#000000; fill-opacity:1; font-family:Arial,Helvetica Neue,Helvetica,sans-serif; font-size:48px; text-anchor:end;\" transform=\"rotate(0, 129.898, 127.653)\" x=\"129.898\" y=\"127.653\">0.8</text>\n",
       "</g>\n",
       "<g clip-path=\"url(#clip9800)\">\n",
       "<text style=\"fill:#000000; fill-opacity:1; font-family:Arial,Helvetica Neue,Helvetica,sans-serif; font-size:66px; text-anchor:middle;\" transform=\"rotate(0, 1253.33, 1559.48)\" x=\"1253.33\" y=\"1559.48\">Epochs</text>\n",
       "</g>\n",
       "<polyline clip-path=\"url(#clip9802)\" style=\"stroke:#009af9; stroke-width:4; stroke-opacity:1; fill:none\" points=\"\n",
       "  216.13,405.678 325.308,473.896 434.487,516.164 543.666,547.995 652.844,648.453 762.023,689.198 871.202,750.39 980.38,807.529 1089.56,852.354 1198.74,919.434 \n",
       "  1307.92,933.839 1417.09,974.325 1526.27,1012.2 1635.45,1063.59 1744.63,1115.33 1853.81,1139.46 1962.99,1195.48 2072.17,1231.98 2181.35,1278.65 2290.52,1333.03 \n",
       "  \n",
       "  \"/>\n",
       "<polyline clip-path=\"url(#clip9802)\" style=\"stroke:#e26f46; stroke-width:4; stroke-opacity:1; fill:none\" points=\"\n",
       "  216.13,524.397 325.308,497.843 434.487,497.843 543.666,471.289 652.844,444.735 762.023,444.735 871.202,378.35 980.38,391.627 1089.56,365.073 1198.74,325.241 \n",
       "  1307.92,311.964 1417.09,272.133 1526.27,258.856 1635.45,245.579 1744.63,219.025 1853.81,205.748 1962.99,139.363 2072.17,126.086 2181.35,86.2547 2290.52,86.2547 \n",
       "  \n",
       "  \"/>\n",
       "<polyline clip-path=\"url(#clip9802)\" style=\"stroke:#3da44d; stroke-width:4; stroke-opacity:1; fill:none\" points=\"\n",
       "  216.13,1386.61 325.308,1386.61 434.487,1386.61 543.666,1386.61 652.844,1386.61 762.023,1386.61 871.202,1275.61 980.38,1275.61 1089.56,1331.11 1198.74,1275.61 \n",
       "  1307.92,1275.61 1417.09,1275.61 1526.27,1275.61 1635.45,1109.12 1744.63,1109.12 1853.81,1109.12 1962.99,1109.12 2072.17,998.122 2181.35,831.628 2290.52,776.13 \n",
       "  \n",
       "  \"/>\n",
       "<path clip-path=\"url(#clip9800)\" d=\"\n",
       "M1735.83 372.684 L2280.76 372.684 L2280.76 130.764 L1735.83 130.764  Z\n",
       "  \" fill=\"#ffffff\" fill-rule=\"evenodd\" fill-opacity=\"1\"/>\n",
       "<polyline clip-path=\"url(#clip9800)\" style=\"stroke:#000000; stroke-width:4; stroke-opacity:1; fill:none\" points=\"\n",
       "  1735.83,372.684 2280.76,372.684 2280.76,130.764 1735.83,130.764 1735.83,372.684 \n",
       "  \"/>\n",
       "<polyline clip-path=\"url(#clip9800)\" style=\"stroke:#009af9; stroke-width:4; stroke-opacity:1; fill:none\" points=\"\n",
       "  1759.83,191.244 1903.83,191.244 \n",
       "  \"/>\n",
       "<g clip-path=\"url(#clip9800)\">\n",
       "<text style=\"fill:#000000; fill-opacity:1; font-family:Arial,Helvetica Neue,Helvetica,sans-serif; font-size:48px; text-anchor:start;\" transform=\"rotate(0, 1927.83, 208.744)\" x=\"1927.83\" y=\"208.744\">Cost</text>\n",
       "</g>\n",
       "<polyline clip-path=\"url(#clip9800)\" style=\"stroke:#e26f46; stroke-width:4; stroke-opacity:1; fill:none\" points=\"\n",
       "  1759.83,251.724 1903.83,251.724 \n",
       "  \"/>\n",
       "<g clip-path=\"url(#clip9800)\">\n",
       "<text style=\"fill:#000000; fill-opacity:1; font-family:Arial,Helvetica Neue,Helvetica,sans-serif; font-size:48px; text-anchor:start;\" transform=\"rotate(0, 1927.83, 269.224)\" x=\"1927.83\" y=\"269.224\">Accuracy</text>\n",
       "</g>\n",
       "<polyline clip-path=\"url(#clip9800)\" style=\"stroke:#3da44d; stroke-width:4; stroke-opacity:1; fill:none\" points=\"\n",
       "  1759.83,312.204 1903.83,312.204 \n",
       "  \"/>\n",
       "<g clip-path=\"url(#clip9800)\">\n",
       "<text style=\"fill:#000000; fill-opacity:1; font-family:Arial,Helvetica Neue,Helvetica,sans-serif; font-size:48px; text-anchor:start;\" transform=\"rotate(0, 1927.83, 329.704)\" x=\"1927.83\" y=\"329.704\">Test Accuracy</text>\n",
       "</g>\n",
       "</svg>\n"
      ]
     },
     "execution_count": 54,
     "metadata": {},
     "output_type": "execute_result"
    }
   ],
   "source": [
    "plot(costs, label = \"Cost\")\n",
    "plot!(accuracies, label = \"Accuracy\")\n",
    "plot!(test_accuracies, label = \"Test Accuracy\")\n",
    "xlabel!(\"Epochs\")"
   ]
  },
  {
   "cell_type": "markdown",
   "metadata": {},
   "source": [
    "## Test on image"
   ]
  },
  {
   "cell_type": "code",
   "execution_count": 73,
   "metadata": {
    "ExecuteTime": {
     "end_time": "2020-05-28T21:10:32.969000+05:30",
     "start_time": "2020-05-28T15:40:32.902Z"
    }
   },
   "outputs": [
    {
     "name": "stdout",
     "output_type": "stream",
     "text": [
      "Ground truth 1\n",
      "Prediction 1\n"
     ]
    },
    {
     "data": {
      "image/png": "[encoded data removed]",
      "text/plain": [
       "64×64 reshape(reinterpret(RGB{Float32}, ::Array{Float32,3}), 64, 64) with eltype RGB{Float32}:\n",
       " RGB{Float32}(0.941176,0.901961,0.823529)  …  RGB{Float32}(0.92549,0.937255,0.913725) \n",
       " RGB{Float32}(0.901961,0.847059,0.796078)     RGB{Float32}(0.964706,0.972549,0.952941)\n",
       " RGB{Float32}(0.988235,0.976471,0.94902)      RGB{Float32}(0.984314,0.984314,0.972549)\n",
       " RGB{Float32}(0.921569,0.862745,0.780392)     RGB{Float32}(0.976471,0.980392,0.964706)\n",
       " RGB{Float32}(0.972549,0.941176,0.901961)     RGB{Float32}(0.992157,0.996078,0.992157)\n",
       " RGB{Float32}(0.968627,0.945098,0.898039)  …  RGB{Float32}(0.941176,0.956863,0.941176)\n",
       " RGB{Float32}(0.890196,0.819608,0.737255)     RGB{Float32}(0.984314,0.988235,0.976471)\n",
       " RGB{Float32}(0.968627,0.937255,0.898039)     RGB{Float32}(0.937255,0.952941,0.92549) \n",
       " RGB{Float32}(0.941176,0.890196,0.815686)     RGB{Float32}(0.941176,0.956863,0.92549) \n",
       " RGB{Float32}(0.94902,0.905882,0.858824)      RGB{Float32}(0.960784,0.976471,0.968627)\n",
       " RGB{Float32}(0.976471,0.956863,0.909804)  …  RGB{Float32}(0.952941,0.976471,0.976471)\n",
       " RGB{Float32}(0.917647,0.854902,0.784314)     RGB{Float32}(0.988235,0.992157,0.988235)\n",
       " RGB{Float32}(0.945098,0.909804,0.85098)      RGB{Float32}(0.878431,0.917647,0.890196)\n",
       " ⋮                                         ⋱                                          \n",
       " RGB{Float32}(0.298039,0.27451,0.227451)      RGB{Float32}(0.941176,0.831373,0.760784)\n",
       " RGB{Float32}(0.309804,0.282353,0.243137)     RGB{Float32}(0.956863,0.835294,0.752941)\n",
       " RGB{Float32}(0.301961,0.278431,0.243137)     RGB{Float32}(0.94902,0.827451,0.741176) \n",
       " RGB{Float32}(0.286275,0.266667,0.223529)  …  RGB{Float32}(0.933333,0.811765,0.729412)\n",
       " RGB{Float32}(0.294118,0.27451,0.231373)      RGB{Float32}(0.921569,0.8,0.721569)     \n",
       " RGB{Float32}(0.286275,0.262745,0.227451)     RGB{Float32}(0.905882,0.788235,0.709804)\n",
       " RGB{Float32}(0.270588,0.247059,0.207843)     RGB{Float32}(0.886275,0.772549,0.690196)\n",
       " RGB{Float32}(0.27451,0.254902,0.215686)      RGB{Float32}(0.870588,0.760784,0.67451) \n",
       " RGB{Float32}(0.309804,0.290196,0.262745)  …  RGB{Float32}(0.85098,0.737255,0.647059) \n",
       " RGB{Float32}(0.27451,0.25098,0.207843)       RGB{Float32}(0.827451,0.709804,0.615686)\n",
       " RGB{Float32}(0.333333,0.301961,0.266667)     RGB{Float32}(0.807843,0.682353,0.596078)\n",
       " RGB{Float32}(0.360784,0.333333,0.305882)     RGB{Float32}(0.788235,0.662745,0.572549)"
      ]
     },
     "execution_count": 73,
     "metadata": {},
     "output_type": "execute_result"
    }
   ],
   "source": [
    "image_to_select = rand(1:size(train_data_x)[2])\n",
    "a = reshape_image_array_reverse(train_data_x[:, [image_to_select]])\n",
    "a2 = a[:,:,:,1]\n",
    "a3 = permuteddimsview(a2, [3, 1, 2])\n",
    "a3 = Array{Float32}(a3)\n",
    "println(\"Ground truth \", train_data_y_orig[1, image_to_select])\n",
    "println(\"Prediction \", model(train_data_x[:, image_to_select])[1] >= 0.5 ? 1 : 0)\n",
    "# println(\"Filename \", df[image_to_select, 1])\n",
    "colorview(RGB, a3)"
   ]
  },
  {
   "cell_type": "code",
   "execution_count": null,
   "metadata": {},
   "outputs": [],
   "source": []
  }
 ],
 "metadata": {
  "kernelspec": {
   "display_name": "Julia 1.3.0",
   "language": "julia",
   "name": "julia-1.3"
  },
  "language_info": {
   "file_extension": ".jl",
   "mimetype": "application/julia",
   "name": "julia",
   "version": "1.3.0"
  },
  "toc": {
   "base_numbering": 1,
   "nav_menu": {},
   "number_sections": true,
   "sideBar": true,
   "skip_h1_title": false,
   "title_cell": "Table of Contents",
   "title_sidebar": "Contents",
   "toc_cell": false,
   "toc_position": {
    "height": "calc(100% - 180px)",
    "left": "10px",
    "top": "150px",
    "width": "352px"
   },
   "toc_section_display": true,
   "toc_window_display": true
  },
  "varInspector": {
   "cols": {
    "lenName": 16,
    "lenType": 16,
    "lenVar": 40
   },
   "kernels_config": {
    "python": {
     "delete_cmd_postfix": "",
     "delete_cmd_prefix": "del ",
     "library": "var_list.py",
     "varRefreshCmd": "print(var_dic_list())"
    },
    "r": {
     "delete_cmd_postfix": ") ",
     "delete_cmd_prefix": "rm(",
     "library": "var_list.r",
     "varRefreshCmd": "cat(var_dic_list()) "
    }
   },
   "types_to_exclude": [
    "module",
    "function",
    "builtin_function_or_method",
    "instance",
    "_Feature"
   ],
   "window_display": false
  }
 },
 "nbformat": 4,
 "nbformat_minor": 4
}
